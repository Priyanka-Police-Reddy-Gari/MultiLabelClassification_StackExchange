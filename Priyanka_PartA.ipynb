{
  "nbformat": 4,
  "nbformat_minor": 0,
  "metadata": {
    "colab": {
      "provenance": [],
      "toc_visible": true,
      "gpuType": "T4",
      "include_colab_link": true
    },
    "kernelspec": {
      "name": "python3",
      "display_name": "Python 3"
    },
    "language_info": {
      "name": "python"
    },
    "accelerator": "GPU"
  },
  "cells": [
    {
      "cell_type": "markdown",
      "metadata": {
        "id": "view-in-github",
        "colab_type": "text"
      },
      "source": [
        "<a href=\"https://colab.research.google.com/github/Priyanka-Police-Reddy-Gari/MultiLabelClassification_StackExchange/blob/main/Priyanka_PartA.ipynb\" target=\"_parent\"><img src=\"https://colab.research.google.com/assets/colab-badge.svg\" alt=\"Open In Colab\"/></a>"
      ]
    },
    {
      "cell_type": "markdown",
      "source": [
        "#Set Environment\n"
      ],
      "metadata": {
        "id": "ca8gDqakWKSj"
      }
    },
    {
      "cell_type": "code",
      "source": [
        "from google.colab import drive\n",
        "drive.mount(\"/content/drive\")"
      ],
      "metadata": {
        "colab": {
          "base_uri": "https://localhost:8080/"
        },
        "id": "W86noF0DWQxL",
        "outputId": "867d94e4-d6c9-4de2-9231-00afc75b4bd0"
      },
      "execution_count": null,
      "outputs": [
        {
          "output_type": "stream",
          "name": "stdout",
          "text": [
            "Drive already mounted at /content/drive; to attempt to forcibly remount, call drive.mount(\"/content/drive\", force_remount=True).\n"
          ]
        }
      ]
    },
    {
      "cell_type": "code",
      "source": [
        "!pip install torchinfo\n",
        "!pip install torchmetrics"
      ],
      "metadata": {
        "colab": {
          "base_uri": "https://localhost:8080/"
        },
        "id": "HUawdeTYdnYf",
        "outputId": "4585c08f-836f-476d-f788-4995b6926ad2"
      },
      "execution_count": null,
      "outputs": [
        {
          "output_type": "stream",
          "name": "stdout",
          "text": [
            "Requirement already satisfied: torchinfo in /usr/local/lib/python3.10/dist-packages (1.8.0)\n",
            "Requirement already satisfied: torchmetrics in /usr/local/lib/python3.10/dist-packages (1.3.1)\n",
            "Requirement already satisfied: numpy>1.20.0 in /usr/local/lib/python3.10/dist-packages (from torchmetrics) (1.25.2)\n",
            "Requirement already satisfied: packaging>17.1 in /usr/local/lib/python3.10/dist-packages (from torchmetrics) (23.2)\n",
            "Requirement already satisfied: torch>=1.10.0 in /usr/local/lib/python3.10/dist-packages (from torchmetrics) (2.1.0+cu121)\n",
            "Requirement already satisfied: lightning-utilities>=0.8.0 in /usr/local/lib/python3.10/dist-packages (from torchmetrics) (0.10.1)\n",
            "Requirement already satisfied: setuptools in /usr/local/lib/python3.10/dist-packages (from lightning-utilities>=0.8.0->torchmetrics) (67.7.2)\n",
            "Requirement already satisfied: typing-extensions in /usr/local/lib/python3.10/dist-packages (from lightning-utilities>=0.8.0->torchmetrics) (4.10.0)\n",
            "Requirement already satisfied: filelock in /usr/local/lib/python3.10/dist-packages (from torch>=1.10.0->torchmetrics) (3.13.1)\n",
            "Requirement already satisfied: sympy in /usr/local/lib/python3.10/dist-packages (from torch>=1.10.0->torchmetrics) (1.12)\n",
            "Requirement already satisfied: networkx in /usr/local/lib/python3.10/dist-packages (from torch>=1.10.0->torchmetrics) (3.2.1)\n",
            "Requirement already satisfied: jinja2 in /usr/local/lib/python3.10/dist-packages (from torch>=1.10.0->torchmetrics) (3.1.3)\n",
            "Requirement already satisfied: fsspec in /usr/local/lib/python3.10/dist-packages (from torch>=1.10.0->torchmetrics) (2023.6.0)\n",
            "Requirement already satisfied: triton==2.1.0 in /usr/local/lib/python3.10/dist-packages (from torch>=1.10.0->torchmetrics) (2.1.0)\n",
            "Requirement already satisfied: MarkupSafe>=2.0 in /usr/local/lib/python3.10/dist-packages (from jinja2->torch>=1.10.0->torchmetrics) (2.1.5)\n",
            "Requirement already satisfied: mpmath>=0.19 in /usr/local/lib/python3.10/dist-packages (from sympy->torch>=1.10.0->torchmetrics) (1.3.0)\n"
          ]
        }
      ]
    },
    {
      "cell_type": "code",
      "source": [
        "import torch\n",
        "import torch.nn as nn\n",
        "from torchtext.vocab import vocab\n",
        "from torchinfo import summary\n",
        "from torchmetrics import HammingDistance\n",
        "\n",
        "import random\n",
        "\n",
        "import numpy as np\n",
        "\n",
        "import joblib\n",
        "from collections import Counter\n",
        "from functools import partial\n",
        "from pathlib import Path\n",
        "\n",
        "from sklearn.metrics import confusion_matrix\n",
        "from sklearn.preprocessing import MultiLabelBinarizer\n",
        "from sklearn.model_selection import train_test_split\n",
        "from datetime import datetime\n",
        "\n",
        "import matplotlib.pyplot as plt\n",
        "import seaborn as sns\n",
        "\n",
        "from pprint import pprint\n",
        "import sys\n",
        "import ast"
      ],
      "metadata": {
        "id": "FkMwts1BWXr-"
      },
      "execution_count": null,
      "outputs": []
    },
    {
      "cell_type": "code",
      "source": [
        "basepath = '/content/drive/MyDrive/NLP'"
      ],
      "metadata": {
        "id": "9IzfLiYHXqcK"
      },
      "execution_count": null,
      "outputs": []
    },
    {
      "cell_type": "code",
      "source": [
        "sys.path.append('/content/drive/MyDrive/NLP/data/custom-functions')"
      ],
      "metadata": {
        "id": "jLKgRFB3YJPR"
      },
      "execution_count": null,
      "outputs": []
    },
    {
      "cell_type": "code",
      "source": [
        "basefolder = Path(basepath)\n",
        "datafolder = basefolder/\"Assignment_4/Data/\"\n",
        "modelfolder = basefolder/\"Assignment_4/Model/\"\n",
        "customfolder = basefolder/\"data/custom-functions/\""
      ],
      "metadata": {
        "id": "vU5hmP9bYaPB"
      },
      "execution_count": null,
      "outputs": []
    },
    {
      "cell_type": "markdown",
      "source": [
        "# Load Data\n"
      ],
      "metadata": {
        "id": "YbYuVpOonxKx"
      }
    },
    {
      "cell_type": "code",
      "source": [
        "multilabel_data = joblib.load(datafolder/'df_multilabel_hw_cleaned.joblib')"
      ],
      "metadata": {
        "id": "vWHO4kKRZy7B"
      },
      "execution_count": null,
      "outputs": []
    },
    {
      "cell_type": "code",
      "source": [
        "multilabel_data"
      ],
      "metadata": {
        "colab": {
          "base_uri": "https://localhost:8080/",
          "height": 423
        },
        "id": "CuOsHti3d-vy",
        "outputId": "d0bbf12f-185b-4458-f684-0057af5f8032"
      },
      "execution_count": null,
      "outputs": [
        {
          "output_type": "execute_result",
          "data": {
            "text/plain": [
              "                                            cleaned_text                Tags  \\\n",
              "0      asp query stre dropdown webpage follow control...          c# asp.net   \n",
              "1      run javascript code server java code want run ...     java javascript   \n",
              "2      linq sql throw exception row find change hi li...          c# asp.net   \n",
              "3      run python script php server run nginx web ser...          php python   \n",
              "4      advice write function m try write function res...   javascript jquery   \n",
              "...                                                  ...                 ...   \n",
              "47422  take value edittext put decimal point all- wor...        java android   \n",
              "47423  listen phone state application nee liste phone...        java android   \n",
              "47424  android ui thread thread task want access main...        java android   \n",
              "47425  dynamic table row creation html javascript htm...  asp.net javascript   \n",
              "47426  image preloader work ie follow code preload im...   javascript jquery   \n",
              "\n",
              "      Tag_Number  \n",
              "0         [0, 9]  \n",
              "1         [1, 3]  \n",
              "2         [0, 9]  \n",
              "3         [2, 7]  \n",
              "4         [3, 5]  \n",
              "...          ...  \n",
              "47422     [1, 4]  \n",
              "47423     [1, 4]  \n",
              "47424     [1, 4]  \n",
              "47425     [9, 3]  \n",
              "47426     [3, 5]  \n",
              "\n",
              "[47427 rows x 3 columns]"
            ],
            "text/html": [
              "\n",
              "  <div id=\"df-a739236f-7fb8-4865-bf74-6c2d3be53001\" class=\"colab-df-container\">\n",
              "    <div>\n",
              "<style scoped>\n",
              "    .dataframe tbody tr th:only-of-type {\n",
              "        vertical-align: middle;\n",
              "    }\n",
              "\n",
              "    .dataframe tbody tr th {\n",
              "        vertical-align: top;\n",
              "    }\n",
              "\n",
              "    .dataframe thead th {\n",
              "        text-align: right;\n",
              "    }\n",
              "</style>\n",
              "<table border=\"1\" class=\"dataframe\">\n",
              "  <thead>\n",
              "    <tr style=\"text-align: right;\">\n",
              "      <th></th>\n",
              "      <th>cleaned_text</th>\n",
              "      <th>Tags</th>\n",
              "      <th>Tag_Number</th>\n",
              "    </tr>\n",
              "  </thead>\n",
              "  <tbody>\n",
              "    <tr>\n",
              "      <th>0</th>\n",
              "      <td>asp query stre dropdown webpage follow control...</td>\n",
              "      <td>c# asp.net</td>\n",
              "      <td>[0, 9]</td>\n",
              "    </tr>\n",
              "    <tr>\n",
              "      <th>1</th>\n",
              "      <td>run javascript code server java code want run ...</td>\n",
              "      <td>java javascript</td>\n",
              "      <td>[1, 3]</td>\n",
              "    </tr>\n",
              "    <tr>\n",
              "      <th>2</th>\n",
              "      <td>linq sql throw exception row find change hi li...</td>\n",
              "      <td>c# asp.net</td>\n",
              "      <td>[0, 9]</td>\n",
              "    </tr>\n",
              "    <tr>\n",
              "      <th>3</th>\n",
              "      <td>run python script php server run nginx web ser...</td>\n",
              "      <td>php python</td>\n",
              "      <td>[2, 7]</td>\n",
              "    </tr>\n",
              "    <tr>\n",
              "      <th>4</th>\n",
              "      <td>advice write function m try write function res...</td>\n",
              "      <td>javascript jquery</td>\n",
              "      <td>[3, 5]</td>\n",
              "    </tr>\n",
              "    <tr>\n",
              "      <th>...</th>\n",
              "      <td>...</td>\n",
              "      <td>...</td>\n",
              "      <td>...</td>\n",
              "    </tr>\n",
              "    <tr>\n",
              "      <th>47422</th>\n",
              "      <td>take value edittext put decimal point all- wor...</td>\n",
              "      <td>java android</td>\n",
              "      <td>[1, 4]</td>\n",
              "    </tr>\n",
              "    <tr>\n",
              "      <th>47423</th>\n",
              "      <td>listen phone state application nee liste phone...</td>\n",
              "      <td>java android</td>\n",
              "      <td>[1, 4]</td>\n",
              "    </tr>\n",
              "    <tr>\n",
              "      <th>47424</th>\n",
              "      <td>android ui thread thread task want access main...</td>\n",
              "      <td>java android</td>\n",
              "      <td>[1, 4]</td>\n",
              "    </tr>\n",
              "    <tr>\n",
              "      <th>47425</th>\n",
              "      <td>dynamic table row creation html javascript htm...</td>\n",
              "      <td>asp.net javascript</td>\n",
              "      <td>[9, 3]</td>\n",
              "    </tr>\n",
              "    <tr>\n",
              "      <th>47426</th>\n",
              "      <td>image preloader work ie follow code preload im...</td>\n",
              "      <td>javascript jquery</td>\n",
              "      <td>[3, 5]</td>\n",
              "    </tr>\n",
              "  </tbody>\n",
              "</table>\n",
              "<p>47427 rows × 3 columns</p>\n",
              "</div>\n",
              "    <div class=\"colab-df-buttons\">\n",
              "\n",
              "  <div class=\"colab-df-container\">\n",
              "    <button class=\"colab-df-convert\" onclick=\"convertToInteractive('df-a739236f-7fb8-4865-bf74-6c2d3be53001')\"\n",
              "            title=\"Convert this dataframe to an interactive table.\"\n",
              "            style=\"display:none;\">\n",
              "\n",
              "  <svg xmlns=\"http://www.w3.org/2000/svg\" height=\"24px\" viewBox=\"0 -960 960 960\">\n",
              "    <path d=\"M120-120v-720h720v720H120Zm60-500h600v-160H180v160Zm220 220h160v-160H400v160Zm0 220h160v-160H400v160ZM180-400h160v-160H180v160Zm440 0h160v-160H620v160ZM180-180h160v-160H180v160Zm440 0h160v-160H620v160Z\"/>\n",
              "  </svg>\n",
              "    </button>\n",
              "\n",
              "  <style>\n",
              "    .colab-df-container {\n",
              "      display:flex;\n",
              "      gap: 12px;\n",
              "    }\n",
              "\n",
              "    .colab-df-convert {\n",
              "      background-color: #E8F0FE;\n",
              "      border: none;\n",
              "      border-radius: 50%;\n",
              "      cursor: pointer;\n",
              "      display: none;\n",
              "      fill: #1967D2;\n",
              "      height: 32px;\n",
              "      padding: 0 0 0 0;\n",
              "      width: 32px;\n",
              "    }\n",
              "\n",
              "    .colab-df-convert:hover {\n",
              "      background-color: #E2EBFA;\n",
              "      box-shadow: 0px 1px 2px rgba(60, 64, 67, 0.3), 0px 1px 3px 1px rgba(60, 64, 67, 0.15);\n",
              "      fill: #174EA6;\n",
              "    }\n",
              "\n",
              "    .colab-df-buttons div {\n",
              "      margin-bottom: 4px;\n",
              "    }\n",
              "\n",
              "    [theme=dark] .colab-df-convert {\n",
              "      background-color: #3B4455;\n",
              "      fill: #D2E3FC;\n",
              "    }\n",
              "\n",
              "    [theme=dark] .colab-df-convert:hover {\n",
              "      background-color: #434B5C;\n",
              "      box-shadow: 0px 1px 3px 1px rgba(0, 0, 0, 0.15);\n",
              "      filter: drop-shadow(0px 1px 2px rgba(0, 0, 0, 0.3));\n",
              "      fill: #FFFFFF;\n",
              "    }\n",
              "  </style>\n",
              "\n",
              "    <script>\n",
              "      const buttonEl =\n",
              "        document.querySelector('#df-a739236f-7fb8-4865-bf74-6c2d3be53001 button.colab-df-convert');\n",
              "      buttonEl.style.display =\n",
              "        google.colab.kernel.accessAllowed ? 'block' : 'none';\n",
              "\n",
              "      async function convertToInteractive(key) {\n",
              "        const element = document.querySelector('#df-a739236f-7fb8-4865-bf74-6c2d3be53001');\n",
              "        const dataTable =\n",
              "          await google.colab.kernel.invokeFunction('convertToInteractive',\n",
              "                                                    [key], {});\n",
              "        if (!dataTable) return;\n",
              "\n",
              "        const docLinkHtml = 'Like what you see? Visit the ' +\n",
              "          '<a target=\"_blank\" href=https://colab.research.google.com/notebooks/data_table.ipynb>data table notebook</a>'\n",
              "          + ' to learn more about interactive tables.';\n",
              "        element.innerHTML = '';\n",
              "        dataTable['output_type'] = 'display_data';\n",
              "        await google.colab.output.renderOutput(dataTable, element);\n",
              "        const docLink = document.createElement('div');\n",
              "        docLink.innerHTML = docLinkHtml;\n",
              "        element.appendChild(docLink);\n",
              "      }\n",
              "    </script>\n",
              "  </div>\n",
              "\n",
              "\n",
              "<div id=\"df-4a292dbf-3d4f-47dd-8d41-9cdac26ee681\">\n",
              "  <button class=\"colab-df-quickchart\" onclick=\"quickchart('df-4a292dbf-3d4f-47dd-8d41-9cdac26ee681')\"\n",
              "            title=\"Suggest charts\"\n",
              "            style=\"display:none;\">\n",
              "\n",
              "<svg xmlns=\"http://www.w3.org/2000/svg\" height=\"24px\"viewBox=\"0 0 24 24\"\n",
              "     width=\"24px\">\n",
              "    <g>\n",
              "        <path d=\"M19 3H5c-1.1 0-2 .9-2 2v14c0 1.1.9 2 2 2h14c1.1 0 2-.9 2-2V5c0-1.1-.9-2-2-2zM9 17H7v-7h2v7zm4 0h-2V7h2v10zm4 0h-2v-4h2v4z\"/>\n",
              "    </g>\n",
              "</svg>\n",
              "  </button>\n",
              "\n",
              "<style>\n",
              "  .colab-df-quickchart {\n",
              "      --bg-color: #E8F0FE;\n",
              "      --fill-color: #1967D2;\n",
              "      --hover-bg-color: #E2EBFA;\n",
              "      --hover-fill-color: #174EA6;\n",
              "      --disabled-fill-color: #AAA;\n",
              "      --disabled-bg-color: #DDD;\n",
              "  }\n",
              "\n",
              "  [theme=dark] .colab-df-quickchart {\n",
              "      --bg-color: #3B4455;\n",
              "      --fill-color: #D2E3FC;\n",
              "      --hover-bg-color: #434B5C;\n",
              "      --hover-fill-color: #FFFFFF;\n",
              "      --disabled-bg-color: #3B4455;\n",
              "      --disabled-fill-color: #666;\n",
              "  }\n",
              "\n",
              "  .colab-df-quickchart {\n",
              "    background-color: var(--bg-color);\n",
              "    border: none;\n",
              "    border-radius: 50%;\n",
              "    cursor: pointer;\n",
              "    display: none;\n",
              "    fill: var(--fill-color);\n",
              "    height: 32px;\n",
              "    padding: 0;\n",
              "    width: 32px;\n",
              "  }\n",
              "\n",
              "  .colab-df-quickchart:hover {\n",
              "    background-color: var(--hover-bg-color);\n",
              "    box-shadow: 0 1px 2px rgba(60, 64, 67, 0.3), 0 1px 3px 1px rgba(60, 64, 67, 0.15);\n",
              "    fill: var(--button-hover-fill-color);\n",
              "  }\n",
              "\n",
              "  .colab-df-quickchart-complete:disabled,\n",
              "  .colab-df-quickchart-complete:disabled:hover {\n",
              "    background-color: var(--disabled-bg-color);\n",
              "    fill: var(--disabled-fill-color);\n",
              "    box-shadow: none;\n",
              "  }\n",
              "\n",
              "  .colab-df-spinner {\n",
              "    border: 2px solid var(--fill-color);\n",
              "    border-color: transparent;\n",
              "    border-bottom-color: var(--fill-color);\n",
              "    animation:\n",
              "      spin 1s steps(1) infinite;\n",
              "  }\n",
              "\n",
              "  @keyframes spin {\n",
              "    0% {\n",
              "      border-color: transparent;\n",
              "      border-bottom-color: var(--fill-color);\n",
              "      border-left-color: var(--fill-color);\n",
              "    }\n",
              "    20% {\n",
              "      border-color: transparent;\n",
              "      border-left-color: var(--fill-color);\n",
              "      border-top-color: var(--fill-color);\n",
              "    }\n",
              "    30% {\n",
              "      border-color: transparent;\n",
              "      border-left-color: var(--fill-color);\n",
              "      border-top-color: var(--fill-color);\n",
              "      border-right-color: var(--fill-color);\n",
              "    }\n",
              "    40% {\n",
              "      border-color: transparent;\n",
              "      border-right-color: var(--fill-color);\n",
              "      border-top-color: var(--fill-color);\n",
              "    }\n",
              "    60% {\n",
              "      border-color: transparent;\n",
              "      border-right-color: var(--fill-color);\n",
              "    }\n",
              "    80% {\n",
              "      border-color: transparent;\n",
              "      border-right-color: var(--fill-color);\n",
              "      border-bottom-color: var(--fill-color);\n",
              "    }\n",
              "    90% {\n",
              "      border-color: transparent;\n",
              "      border-bottom-color: var(--fill-color);\n",
              "    }\n",
              "  }\n",
              "</style>\n",
              "\n",
              "  <script>\n",
              "    async function quickchart(key) {\n",
              "      const quickchartButtonEl =\n",
              "        document.querySelector('#' + key + ' button');\n",
              "      quickchartButtonEl.disabled = true;  // To prevent multiple clicks.\n",
              "      quickchartButtonEl.classList.add('colab-df-spinner');\n",
              "      try {\n",
              "        const charts = await google.colab.kernel.invokeFunction(\n",
              "            'suggestCharts', [key], {});\n",
              "      } catch (error) {\n",
              "        console.error('Error during call to suggestCharts:', error);\n",
              "      }\n",
              "      quickchartButtonEl.classList.remove('colab-df-spinner');\n",
              "      quickchartButtonEl.classList.add('colab-df-quickchart-complete');\n",
              "    }\n",
              "    (() => {\n",
              "      let quickchartButtonEl =\n",
              "        document.querySelector('#df-4a292dbf-3d4f-47dd-8d41-9cdac26ee681 button');\n",
              "      quickchartButtonEl.style.display =\n",
              "        google.colab.kernel.accessAllowed ? 'block' : 'none';\n",
              "    })();\n",
              "  </script>\n",
              "</div>\n",
              "\n",
              "  <div id=\"id_db19e3a9-4d5b-4c5d-a0e0-b26628c1f3e5\">\n",
              "    <style>\n",
              "      .colab-df-generate {\n",
              "        background-color: #E8F0FE;\n",
              "        border: none;\n",
              "        border-radius: 50%;\n",
              "        cursor: pointer;\n",
              "        display: none;\n",
              "        fill: #1967D2;\n",
              "        height: 32px;\n",
              "        padding: 0 0 0 0;\n",
              "        width: 32px;\n",
              "      }\n",
              "\n",
              "      .colab-df-generate:hover {\n",
              "        background-color: #E2EBFA;\n",
              "        box-shadow: 0px 1px 2px rgba(60, 64, 67, 0.3), 0px 1px 3px 1px rgba(60, 64, 67, 0.15);\n",
              "        fill: #174EA6;\n",
              "      }\n",
              "\n",
              "      [theme=dark] .colab-df-generate {\n",
              "        background-color: #3B4455;\n",
              "        fill: #D2E3FC;\n",
              "      }\n",
              "\n",
              "      [theme=dark] .colab-df-generate:hover {\n",
              "        background-color: #434B5C;\n",
              "        box-shadow: 0px 1px 3px 1px rgba(0, 0, 0, 0.15);\n",
              "        filter: drop-shadow(0px 1px 2px rgba(0, 0, 0, 0.3));\n",
              "        fill: #FFFFFF;\n",
              "      }\n",
              "    </style>\n",
              "    <button class=\"colab-df-generate\" onclick=\"generateWithVariable('multilabel_data')\"\n",
              "            title=\"Generate code using this dataframe.\"\n",
              "            style=\"display:none;\">\n",
              "\n",
              "  <svg xmlns=\"http://www.w3.org/2000/svg\" height=\"24px\"viewBox=\"0 0 24 24\"\n",
              "       width=\"24px\">\n",
              "    <path d=\"M7,19H8.4L18.45,9,17,7.55,7,17.6ZM5,21V16.75L18.45,3.32a2,2,0,0,1,2.83,0l1.4,1.43a1.91,1.91,0,0,1,.58,1.4,1.91,1.91,0,0,1-.58,1.4L9.25,21ZM18.45,9,17,7.55Zm-12,3A5.31,5.31,0,0,0,4.9,8.1,5.31,5.31,0,0,0,1,6.5,5.31,5.31,0,0,0,4.9,4.9,5.31,5.31,0,0,0,6.5,1,5.31,5.31,0,0,0,8.1,4.9,5.31,5.31,0,0,0,12,6.5,5.46,5.46,0,0,0,6.5,12Z\"/>\n",
              "  </svg>\n",
              "    </button>\n",
              "    <script>\n",
              "      (() => {\n",
              "      const buttonEl =\n",
              "        document.querySelector('#id_db19e3a9-4d5b-4c5d-a0e0-b26628c1f3e5 button.colab-df-generate');\n",
              "      buttonEl.style.display =\n",
              "        google.colab.kernel.accessAllowed ? 'block' : 'none';\n",
              "\n",
              "      buttonEl.onclick = () => {\n",
              "        google.colab.notebook.generateWithVariable('multilabel_data');\n",
              "      }\n",
              "      })();\n",
              "    </script>\n",
              "  </div>\n",
              "\n",
              "    </div>\n",
              "  </div>\n"
            ],
            "application/vnd.google.colaboratory.intrinsic+json": {
              "type": "dataframe",
              "variable_name": "multilabel_data",
              "summary": "{\n  \"name\": \"multilabel_data\",\n  \"rows\": 47427,\n  \"fields\": [\n    {\n      \"column\": \"cleaned_text\",\n      \"properties\": {\n        \"dtype\": \"string\",\n        \"num_unique_values\": 36481,\n        \"samples\": [\n          \"fadein invisible list item jquery unordered list lis invisible display begin want specific li visible js function try $ list li nth child(1)\\\").fadein work ul visible begin code > li      display   < ul class=\\\"hide id=\\\"my list >      < li>1</li >      < li>2</li >      < li>3</li > < /ul >   try answer question feel free stab\",\n          \"deploy project server create website excel file mail d information mail d fetch excel file excel file send mail automatically mail d design subject cc bcc content create project export excel file fetch mail d ms access database send email automatically design deploy project ftp.i know create help regard padmapriya s  \",\n          \"custom keypad button functional app finish scoreboard app   user longclick score currently dialog box appear show edittext field ok cancel button   user click edittext field keypad appear number user type new score click edittext field show new value dialog box user click ok save enter value textview show current score problem feel cumbersome   like happen   user longclick score keypad appear user enter new score user click ok keypad disappear value save textview update current score   order accomplish think thing   create new class extend view new android understand option replace edittext dialog new xml file design like keypad   option 2   figure probably easy design xml layout call   user longclick file inflate dialog ok cancel   far good   know code button action thought figure setup onclick listener button layout   figure button go perform exact function   basically text button case 0 9 append textview keypad   user click ok save textview current score textview help point right direction accomplish screenshot textview number   xml code < xml version=\\\"1.0 encoding=\\\"utf-8 > < gridlayout xmlns apk res android android layout_width=\\\"wrap_content android layout_height=\\\"wrap_content android layout_gravity=\\\"fill android columncount=\\\"3 >   < textview      android id=\\\"@+id textview1      android layout_columnspan=\\\"3      android layout_gravity=\\\"fill      android gravity=\\\"right|center_vertical      android textsize=\\\"24sp >   < button android text=\\\"1 >   < button android text=\\\"2 >   < button android text=\\\"3 > < button android text=\\\"4 > < button android text=\\\"5 > < button android text=\\\"6 > < button android text=\\\"7 > < button android text=\\\"8 > < button android text=\\\"9 >   < button      android layout_columnspan=\\\"3      android layout_gravity=\\\"fill      android gravity=\\\"center      android text=\\\"0 >   \"\n        ],\n        \"semantic_type\": \"\",\n        \"description\": \"\"\n      }\n    },\n    {\n      \"column\": \"Tags\",\n      \"properties\": {\n        \"dtype\": \"category\",\n        \"num_unique_values\": 176,\n        \"samples\": [\n          \"javascript asp.net\",\n          \"c# asp.net jquery\",\n          \"c# java python\"\n        ],\n        \"semantic_type\": \"\",\n        \"description\": \"\"\n      }\n    },\n    {\n      \"column\": \"Tag_Number\",\n      \"properties\": {\n        \"dtype\": \"category\",\n        \"num_unique_values\": 176,\n        \"samples\": [\n          \"[3, 9]\",\n          \"[0, 9, 5]\",\n          \"[0, 1, 7]\"\n        ],\n        \"semantic_type\": \"\",\n        \"description\": \"\"\n      }\n    }\n  ]\n}"
            }
          },
          "metadata": {},
          "execution_count": 70
        }
      ]
    },
    {
      "cell_type": "code",
      "source": [
        "multilabel_data['Tag_Number'].dtype"
      ],
      "metadata": {
        "colab": {
          "base_uri": "https://localhost:8080/"
        },
        "id": "JULaXsl9fJ9B",
        "outputId": "c08ccf5a-b318-4af8-9293-d91187f11368"
      },
      "execution_count": null,
      "outputs": [
        {
          "output_type": "execute_result",
          "data": {
            "text/plain": [
              "dtype('O')"
            ]
          },
          "metadata": {},
          "execution_count": 71
        }
      ]
    },
    {
      "cell_type": "code",
      "source": [
        "#Converting labels from Object to Integer\n",
        "multilabel_data[\"Tag_Number\"] = multilabel_data[\"Tag_Number\"].apply(ast.literal_eval)"
      ],
      "metadata": {
        "id": "PSno4Ky9eWmU"
      },
      "execution_count": null,
      "outputs": []
    },
    {
      "cell_type": "code",
      "source": [
        "X = multilabel_data.drop([\"Tags\",\"Tag_Number\"],axis=1).values.tolist()\n",
        "y = multilabel_data[\"Tag_Number\"].values\n",
        "X = list(map(str,X))"
      ],
      "metadata": {
        "id": "JQR5sgG3exRX"
      },
      "execution_count": null,
      "outputs": []
    },
    {
      "cell_type": "code",
      "source": [
        "type(y)"
      ],
      "metadata": {
        "colab": {
          "base_uri": "https://localhost:8080/"
        },
        "id": "VgQCVb-Gfvp5",
        "outputId": "e5a1705b-c2c7-4216-aceb-1417ab83323c"
      },
      "execution_count": null,
      "outputs": [
        {
          "output_type": "execute_result",
          "data": {
            "text/plain": [
              "numpy.ndarray"
            ]
          },
          "metadata": {},
          "execution_count": 74
        }
      ]
    },
    {
      "cell_type": "code",
      "source": [
        "type(X)"
      ],
      "metadata": {
        "colab": {
          "base_uri": "https://localhost:8080/"
        },
        "id": "u9Y74Q4Wfzi3",
        "outputId": "4485eab1-837c-4b1c-8a81-d371f7d99193"
      },
      "execution_count": null,
      "outputs": [
        {
          "output_type": "execute_result",
          "data": {
            "text/plain": [
              "list"
            ]
          },
          "metadata": {},
          "execution_count": 75
        }
      ]
    },
    {
      "cell_type": "code",
      "source": [
        "y"
      ],
      "metadata": {
        "colab": {
          "base_uri": "https://localhost:8080/"
        },
        "id": "syMxDeouf4LL",
        "outputId": "d1054070-bc7d-43a0-8f00-faf5b8df5346"
      },
      "execution_count": null,
      "outputs": [
        {
          "output_type": "execute_result",
          "data": {
            "text/plain": [
              "array([list([0, 9]), list([1, 3]), list([0, 9]), ..., list([1, 4]),\n",
              "       list([9, 3]), list([3, 5])], dtype=object)"
            ]
          },
          "metadata": {},
          "execution_count": 76
        }
      ]
    },
    {
      "cell_type": "markdown",
      "source": [
        "# One hot encoding using MultiLabelBinarizer"
      ],
      "metadata": {
        "id": "UlbKtHMAn2aF"
      }
    },
    {
      "cell_type": "code",
      "source": [
        "mlb = MultiLabelBinarizer()"
      ],
      "metadata": {
        "id": "t8E2DL8JoQmm"
      },
      "execution_count": null,
      "outputs": []
    },
    {
      "cell_type": "code",
      "source": [
        "y = mlb.fit_transform(y)"
      ],
      "metadata": {
        "id": "2Xt-97G3oZJC"
      },
      "execution_count": null,
      "outputs": []
    },
    {
      "cell_type": "code",
      "source": [
        "y"
      ],
      "metadata": {
        "colab": {
          "base_uri": "https://localhost:8080/"
        },
        "id": "KCxSpGpOohvM",
        "outputId": "287edfe7-898c-4cea-d911-1e77628bdf53"
      },
      "execution_count": null,
      "outputs": [
        {
          "output_type": "execute_result",
          "data": {
            "text/plain": [
              "array([[1, 0, 0, ..., 0, 0, 1],\n",
              "       [0, 1, 0, ..., 0, 0, 0],\n",
              "       [1, 0, 0, ..., 0, 0, 1],\n",
              "       ...,\n",
              "       [0, 1, 0, ..., 0, 0, 0],\n",
              "       [0, 0, 0, ..., 0, 0, 1],\n",
              "       [0, 0, 0, ..., 0, 0, 0]])"
            ]
          },
          "metadata": {},
          "execution_count": 79
        }
      ]
    },
    {
      "cell_type": "code",
      "source": [
        "y.shape"
      ],
      "metadata": {
        "colab": {
          "base_uri": "https://localhost:8080/"
        },
        "id": "0HV__yd_bXpv",
        "outputId": "6a47f153-3821-49f8-d5c1-7330b8b71530"
      },
      "execution_count": null,
      "outputs": [
        {
          "output_type": "execute_result",
          "data": {
            "text/plain": [
              "(47427, 10)"
            ]
          },
          "metadata": {},
          "execution_count": 80
        }
      ]
    },
    {
      "cell_type": "markdown",
      "source": [
        "# Train - Test Split"
      ],
      "metadata": {
        "id": "doOLennwok4k"
      }
    },
    {
      "cell_type": "code",
      "source": [
        "X_train,X_temp,y_train,y_temp = train_test_split( X, y, test_size=.4, random_state=42 )"
      ],
      "metadata": {
        "id": "WjaVkEnPorfl"
      },
      "execution_count": null,
      "outputs": []
    },
    {
      "cell_type": "code",
      "source": [
        "X_val,X_test,y_val,y_test = train_test_split( X_temp, y_temp, test_size=0.5, random_state=42)"
      ],
      "metadata": {
        "id": "kaESQLaMqNb8"
      },
      "execution_count": null,
      "outputs": []
    },
    {
      "cell_type": "markdown",
      "source": [
        "# Custom Dataset Class"
      ],
      "metadata": {
        "id": "_Q0qHsJ3qZG2"
      }
    },
    {
      "cell_type": "code",
      "source": [
        "class CustomDataset(torch.utils.data.Dataset):\n",
        "    \"\"\"\n",
        "    Custom Dataset class for loading IMDB reviews and labels.\n",
        "\n",
        "    Attributes:\n",
        "        X (numpy.ndarray): Feature data, an array of texts.\n",
        "        y (list or array-like): Target labels.\n",
        "    \"\"\"\n",
        "\n",
        "    def __init__(self, X, y):\n",
        "        \"\"\"\n",
        "        Initialize the dataset with feature and target data.\n",
        "\n",
        "        Args:\n",
        "            X (list or array-like): The feature data (texts).\n",
        "            y (list or array-like): The target labels.\n",
        "        \"\"\"\n",
        "        # Storing feature data (texts)\n",
        "        self.X = X\n",
        "\n",
        "        # Storing the target labels\n",
        "        self.y = y\n",
        "\n",
        "    def __len__(self):\n",
        "        \"\"\"\n",
        "        Return the number of samples in the dataset.\n",
        "\n",
        "        Returns:\n",
        "            int: The total number of samples.\n",
        "        \"\"\"\n",
        "        return len(self.X)\n",
        "\n",
        "    def __getitem__(self, idx):\n",
        "        \"\"\"\n",
        "        Fetch and return a single sample from the dataset at the given index.\n",
        "\n",
        "        Args:\n",
        "            idx (int): Index of the sample to fetch.\n",
        "\n",
        "        Returns:\n",
        "            tuple: A tuple containing the label and the text for the sample.\n",
        "        \"\"\"\n",
        "        # Retrieve the text and corresponding label from the dataset using the index\n",
        "        texts = self.X[idx]\n",
        "        labels = self.y[idx]\n",
        "\n",
        "        # Packing them into a tuple before returning\n",
        "        sample = (labels, texts)\n",
        "\n",
        "        return sample\n"
      ],
      "metadata": {
        "id": "KMMtUs4UqlMI"
      },
      "execution_count": null,
      "outputs": []
    },
    {
      "cell_type": "code",
      "source": [
        "trainset = CustomDataset(X_train,y_train)\n",
        "valset = CustomDataset(X_val,y_val)\n",
        "testset = CustomDataset(X_test,y_test)"
      ],
      "metadata": {
        "id": "L4og41DhqwxA"
      },
      "execution_count": null,
      "outputs": []
    },
    {
      "cell_type": "code",
      "source": [
        "pprint(trainset[2])"
      ],
      "metadata": {
        "colab": {
          "base_uri": "https://localhost:8080/"
        },
        "id": "h2G-UTaMs_kv",
        "outputId": "73ca8401-592a-4b29-9282-218649d86738"
      },
      "execution_count": null,
      "outputs": [
        {
          "output_type": "stream",
          "name": "stdout",
          "text": [
            "(array([0, 0, 1, 1, 0, 0, 0, 0, 0, 0]),\n",
            " \"['send javascript variable php send value store javascript variable php page \"\n",
            " 'php page different folder javascript page javascript variable method fire '\n",
            " \"click button   send variable value php page eclipse project']\")\n"
          ]
        }
      ]
    },
    {
      "cell_type": "code",
      "source": [
        "text_of_2_sample = trainset[2][1]\n",
        "pprint(text_of_2_sample)"
      ],
      "metadata": {
        "colab": {
          "base_uri": "https://localhost:8080/"
        },
        "id": "mzF5evGMtKnB",
        "outputId": "f4e5908f-a279-4b68-f1a4-bcf7a5156923"
      },
      "execution_count": null,
      "outputs": [
        {
          "output_type": "stream",
          "name": "stdout",
          "text": [
            "(\"['send javascript variable php send value store javascript variable php page \"\n",
            " 'php page different folder javascript page javascript variable method fire '\n",
            " \"click button   send variable value php page eclipse project']\")\n"
          ]
        }
      ]
    },
    {
      "cell_type": "code",
      "source": [
        "label_of_2_sample = trainset[2][0]\n",
        "pprint(label_of_2_sample)"
      ],
      "metadata": {
        "colab": {
          "base_uri": "https://localhost:8080/"
        },
        "id": "I2WWKTAvtWe9",
        "outputId": "a4296bc0-f6a1-44e3-9ce7-f17541b9d24f"
      },
      "execution_count": null,
      "outputs": [
        {
          "output_type": "stream",
          "name": "stdout",
          "text": [
            "array([0, 0, 1, 1, 0, 0, 0, 0, 0, 0])\n"
          ]
        }
      ]
    },
    {
      "cell_type": "code",
      "source": [
        "type(text_of_2_sample)"
      ],
      "metadata": {
        "colab": {
          "base_uri": "https://localhost:8080/"
        },
        "id": "F2SB7mqAtbX1",
        "outputId": "7d5114cf-3d32-436b-bbbd-e5426585cd81"
      },
      "execution_count": null,
      "outputs": [
        {
          "output_type": "execute_result",
          "data": {
            "text/plain": [
              "str"
            ]
          },
          "metadata": {},
          "execution_count": 88
        }
      ]
    },
    {
      "cell_type": "code",
      "source": [
        "type(label_of_2_sample)"
      ],
      "metadata": {
        "colab": {
          "base_uri": "https://localhost:8080/"
        },
        "id": "uL142cfSt8eF",
        "outputId": "d7dfe545-62a0-4b7c-c822-4f48e2adb154"
      },
      "execution_count": null,
      "outputs": [
        {
          "output_type": "execute_result",
          "data": {
            "text/plain": [
              "numpy.ndarray"
            ]
          },
          "metadata": {},
          "execution_count": 89
        }
      ]
    },
    {
      "cell_type": "markdown",
      "source": [
        "# Create Vocab"
      ],
      "metadata": {
        "id": "Qm2QlSqHuGBj"
      }
    },
    {
      "cell_type": "code",
      "source": [
        "def get_vocab(dataset, min_freq=1):\n",
        "    \"\"\"\n",
        "    Generate a vocabulary from a dataset.\n",
        "\n",
        "    Args:\n",
        "        dataset (list of tuple): List of tuples where each tuple contains a label and a text.\n",
        "        min_freq (int): The minimum frequency for a token to be included in the vocabulary.\n",
        "\n",
        "    Returns:\n",
        "        torchtext.vocab.Vocab: Vocabulary object.\n",
        "    \"\"\"\n",
        "    # Initialize a counter object to hold token frequencies\n",
        "    counter = Counter()\n",
        "\n",
        "    # Update the counter with tokens from each text in the dataset\n",
        "    for (label, text) in dataset:\n",
        "        counter.update(text.split())\n",
        "\n",
        "    # Create a vocabulary using the counter object\n",
        "    # Tokens that appear fewer times than `min_freq` are excluded\n",
        "    my_vocab = vocab(counter, min_freq=min_freq)\n",
        "\n",
        "    # Insert a '<unk>' token at index 0 to represent unknown words\n",
        "    my_vocab.insert_token('<unk>', 0)\n",
        "\n",
        "    # Set the default index to 0\n",
        "    # This ensures that any unknown word will be mapped to '<unk>'\n",
        "    my_vocab.set_default_index(0)\n",
        "\n",
        "    return my_vocab"
      ],
      "metadata": {
        "id": "iWSYMKzBuJ3i"
      },
      "execution_count": null,
      "outputs": []
    },
    {
      "cell_type": "code",
      "source": [
        "stack_ex_vocab = get_vocab(trainset,min_freq=2)"
      ],
      "metadata": {
        "id": "FMX-xMdxudyS"
      },
      "execution_count": null,
      "outputs": []
    },
    {
      "cell_type": "code",
      "source": [
        "len(stack_ex_vocab)"
      ],
      "metadata": {
        "colab": {
          "base_uri": "https://localhost:8080/"
        },
        "id": "jOUhODJdvZHS",
        "outputId": "e4bf3dfe-c153-4452-b8ac-09a93105f6c6"
      },
      "execution_count": null,
      "outputs": [
        {
          "output_type": "execute_result",
          "data": {
            "text/plain": [
              "93067"
            ]
          },
          "metadata": {},
          "execution_count": 92
        }
      ]
    },
    {
      "cell_type": "code",
      "source": [
        "stack_ex_vocab.get_itos()[0:5]"
      ],
      "metadata": {
        "colab": {
          "base_uri": "https://localhost:8080/"
        },
        "id": "C2LygsKWvdBo",
        "outputId": "9f53a855-b70f-40dd-b957-6d2c3e2228c4"
      },
      "execution_count": null,
      "outputs": [
        {
          "output_type": "execute_result",
          "data": {
            "text/plain": [
              "['<unk>', \"['rearrange\", 'order', 'list', 'web']"
            ]
          },
          "metadata": {},
          "execution_count": 93
        }
      ]
    },
    {
      "cell_type": "code",
      "source": [
        "stack_ex_vocab['jadhoo']"
      ],
      "metadata": {
        "colab": {
          "base_uri": "https://localhost:8080/"
        },
        "id": "57Td_MEyv2sQ",
        "outputId": "0dbd34aa-00f5-4c27-dd19-ac9116dc13d4"
      },
      "execution_count": null,
      "outputs": [
        {
          "output_type": "execute_result",
          "data": {
            "text/plain": [
              "0"
            ]
          },
          "metadata": {},
          "execution_count": 94
        }
      ]
    },
    {
      "cell_type": "code",
      "source": [],
      "metadata": {
        "id": "VF3eZ1Psv_Wk"
      },
      "execution_count": null,
      "outputs": []
    },
    {
      "cell_type": "markdown",
      "source": [
        "# Collate_fn for Data Loaders"
      ],
      "metadata": {
        "id": "bM0_FKoLwE-f"
      }
    },
    {
      "cell_type": "code",
      "source": [
        "# Creating a function that will be used to get the indices of words from vocab\n",
        "def tokenizer(x, vocab):\n",
        "    \"\"\"Converts text to a list of indices using a vocabulary dictionary\"\"\"\n",
        "    return [vocab[token] for token in x.split()]"
      ],
      "metadata": {
        "id": "jmB_AAB9wKEy"
      },
      "execution_count": null,
      "outputs": []
    },
    {
      "cell_type": "code",
      "source": [
        "def collate_batch(batch, my_vocab):\n",
        "    \"\"\"\n",
        "    Collates a batch of samples into tensors of labels, texts, and offsets.\n",
        "\n",
        "    Parameters:\n",
        "        batch (list): A list of tuples, each containing a label and a text.\n",
        "\n",
        "    Returns:\n",
        "        tuple: A tuple containing three tensors:\n",
        "               - Labels tensor\n",
        "               - Concatenated texts tensor\n",
        "               - Offsets tensor indicating the start positions of each text in the concatenated tensor\n",
        "    \"\"\"\n",
        "    # Unpack the batch into separate lists for labels and texts\n",
        "    labels, texts = zip(*batch)\n",
        "\n",
        "    # Convert the list of labels into a tensor of dtype int32\n",
        "    labels = torch.tensor(labels, dtype=torch.float)\n",
        "\n",
        "    # Convert the list of texts into a list of lists; each inner list contains the vocabulary indices for a text\n",
        "    list_of_list_of_indices = [tokenizer(text, my_vocab) for text in texts]\n",
        "\n",
        "    # Concatenate all text indices into a single tensor\n",
        "    indices = torch.cat([torch.tensor(i, dtype=torch.int64) for i in list_of_list_of_indices])\n",
        "\n",
        "    # Compute the offsets for each text in the concatenated tensor\n",
        "    offsets = [0] + [len(i) for i in list_of_list_of_indices]\n",
        "    offsets = torch.tensor(offsets[:-1]).cumsum(dim=0)\n",
        "\n",
        "    return (indices, offsets), labels"
      ],
      "metadata": {
        "id": "YwKACg0wwPoK"
      },
      "execution_count": null,
      "outputs": []
    },
    {
      "cell_type": "code",
      "source": [],
      "metadata": {
        "id": "hbT0TzUfwSe1"
      },
      "execution_count": null,
      "outputs": []
    },
    {
      "cell_type": "markdown",
      "source": [
        "# Check Collate Function #Can be removed"
      ],
      "metadata": {
        "id": "K5xLMMdswhis"
      }
    },
    {
      "cell_type": "code",
      "source": [
        "batch_size = 2\n",
        "collate_partial = partial(collate_batch, my_vocab = stack_ex_vocab)\n",
        "check_loader = torch.utils.data.DataLoader(dataset=trainset,\n",
        "                                           batch_size=batch_size,\n",
        "                                           shuffle=True,\n",
        "                                           collate_fn=collate_partial,\n",
        "                                           )"
      ],
      "metadata": {
        "id": "mswM59J6wl7t"
      },
      "execution_count": null,
      "outputs": []
    },
    {
      "cell_type": "code",
      "source": [
        "torch.manual_seed(22)\n",
        "for (indices, offset), label in check_loader:\n",
        "    print(indices, offset, label)\n",
        "    break"
      ],
      "metadata": {
        "colab": {
          "base_uri": "https://localhost:8080/"
        },
        "id": "AOXu7bf_fCEg",
        "outputId": "d4f136cd-dfe1-4ecd-e561-a937e985bc9f"
      },
      "execution_count": null,
      "outputs": [
        {
          "output_type": "stream",
          "name": "stdout",
          "text": [
            "tensor([  490,   131,  3442,  1183,  1044,   617,   800,   205,   537,   581,\n",
            "           24,  1771,   581,     5,   451,  1840,   385,  3442,   581,   800,\n",
            "          540, 25490,    31,   718,   581,   476,  2659,  1778,  1183,   194,\n",
            "         2396,   523,   505,   476,  2659,   581,  1325,   523,   104,  1778,\n",
            "          520,     0,     0,     0,  1537,  1645,   581,   104,   635, 35453,\n",
            "          564, 30115,   117,   339,   330,   883, 49844,    89,  3422,   177,\n",
            "        62789,    50,   210,   236,  1631,  3422,   177,    24,   473,  1631,\n",
            "          177, 43476,  1457,   209,   236,  1631,    82,   177,   841,   163,\n",
            "          439,    82,   439,   179,   439,   440,   439,   523,   439,   524,\n",
            "          439,   526,   209,    77,   464,   451,  5898,    82,    82,    88,\n",
            "         4880, 49820,   195,   564,   170,  7987,    82, 20623, 36924,  4879,\n",
            "          799, 34190, 36925,  1762,   799, 34186, 36926, 36928, 36929,  1762,\n",
            "          799, 34187, 36930, 36931, 36929,  1762,   799, 34188, 36932, 36933,\n",
            "        36929,  1762,   799, 34189, 36932, 36934, 36929,  1762,    53,  1762,\n",
            "        49819, 49825,  1294,   188,  1631,  1487,  1172,    89,   177, 37600,\n",
            "          177,  2710,   411, 36929,   196,   198,   197,   209,   236, 43476,\n",
            "          564, 63522,   430,   209,   210, 36916,   212,   213,   713,   451,\n",
            "          452,    75, 36917, 36918, 36919,   258, 36920,  2390,   841,   163,\n",
            "        49809,    82,   841,   236,  1062,    82,   177,   209,   977,  1631,\n",
            "           82,   177,   841,   893,  5898,    82,    85,  8270,  7987,   841,\n",
            "          163,   439,    82,   439,   179,   439,   440,   439,   523,   439,\n",
            "          524,   439,   526,   841,   163, 36921,    82,  1631,  1294,   179,\n",
            "         1631,  1294,   440,  1631,  1294,   523,  1631,  1294,   524,  1631,\n",
            "         1294,   526,   841,   163, 49818,    82,  5379,  1294,   179,   179,\n",
            "         5379,  1294,   179,   440,  5379,  1294,   179,   523,  5379,  1294,\n",
            "          440,   179,  5379,  1294,   440,   440,  5379,  1294,   440,   523,\n",
            "         5379,  1294,   523,   179,  5379,  1294,   523,   440,  5379,  1294,\n",
            "          523,   523,  5379,  1294,   524,   179,  5379,  1294,   524,   440,\n",
            "         5379,  1294,   524,   523,  5379,  1294,   526,   179,  5379,  1294,\n",
            "          526,   440,  5379,  1294,   526,   523,     3,    17,   163,    19,\n",
            "        36922,    82,   168,  2114,    17,   163,    19,     3,    17,   163,\n",
            "           19, 36923,    82,   168,  2114,    17,   163,    19,   214,   209,\n",
            "           77,   215,   216,   221,   324,  8941,   214,   209,    77,   464,\n",
            "          451,  5898,    82,    82,    88,  4880, 49820,   195,   564,   170,\n",
            "         7987,    82, 20623, 36924,  4879,   799, 34190, 36925,  1762,   799,\n",
            "        34186, 36926, 36928, 36929,  1762,   799, 34187, 36930, 36931, 36929,\n",
            "         1762,   799, 34188, 36932, 36933, 36929,  1762,   799, 34189, 36932,\n",
            "        36934, 36929,  1762,    53,  1762, 49819, 36929, 49825,  1294,   188,\n",
            "         1631,   196,   198,   197,   209,   977, 43476,   564, 63523,   841,\n",
            "          893, 36935,    75,   236,    82,   177,    17,   725,  6515,    82,\n",
            "           82,   179, 10092,    82,    82, 36937,  2144,    75,    82,    82,\n",
            "          440, 36280,    82,    82, 36937,  2144,    75,    82,    82,   523,\n",
            "        42462,    82,    82, 36937,  2144,    75,    82,    82,   524, 34211,\n",
            "           82,    82, 36937,   564,    85,   564,    88,   841,    77, 49828,\n",
            "        10497,   170, 36941,    19,    82, 16155,   439,  4880, 49820,   195,\n",
            "         5898,    82,    88,   564, 36942,   938, 36943,    82, 36944, 49831,\n",
            "        49832, 49833, 36944, 49831, 49832, 49833, 36944, 49831, 49832, 49833,\n",
            "        36944, 49831, 49832, 49833, 36944, 49831, 49832, 49833, 63524, 63525,\n",
            "        63526, 63527, 63528, 10092,    82, 63529, 36280,    82, 63530, 42462,\n",
            "           82, 63531, 34211,    82, 63532, 49843, 36945,    82, 36946, 36947,\n",
            "        36921,    82, 36948, 36949, 36950, 36951,  2661,    80, 11929, 36952,\n",
            "          841,    77,  8941, 36953,    60,   320,    82,    75, 36954, 36917,\n",
            "           82,    75,  7478, 36955,    82,    75, 36956, 36957,    82,    75,\n",
            "        36958, 36959,    82,    75, 36960, 36920,    82,   258, 36961,  2390,\n",
            "           82,   258, 36962, 36963, 36964, 36965, 36966, 36967,  9826,    87,\n",
            "        36968,  5705,   538, 36969, 36970, 36971, 36972, 36973, 36974, 49844,\n",
            "        31431,  1470,   439, 36975,  1471, 36921, 36976, 36977, 36978, 36979,\n",
            "          210,   209,   210,   195,   212,   213,   713,  4852, 22822, 36916,\n",
            "        39105,    82,   168, 36916,   258,  3220,   209,    77,   215,   216,\n",
            "          221, 63533,  3220,    82,   258, 59810,    94,   462,  4852, 63534,\n",
            "           82,  4852, 63535, 63536,  4852, 22822,   214,   209,    77, 22823,\n",
            "         4852,   977,   763,   893, 21517,   217,   218,   219,    50,   220,\n",
            "        63537, 63538, 63539, 63540,  2970,  2971, 63539,   117,   188, 63541,\n",
            "         2970,  2971, 63542,   214,   209,    77, 22823,  4852,   977,   763,\n",
            "          893, 21517,   217,   218,   219,    50,   220,   209,    77,    94,\n",
            "        63543,  3571,   188, 63541,   199]) tensor([ 0, 49]) tensor([[0., 0., 0., 1., 0., 1., 0., 0., 0., 0.],\n",
            "        [0., 1., 0., 0., 1., 0., 0., 0., 0., 0.]])\n"
          ]
        }
      ]
    },
    {
      "cell_type": "markdown",
      "source": [
        "# Custom Model Class"
      ],
      "metadata": {
        "id": "vrJB3t8DfIXu"
      }
    },
    {
      "cell_type": "code",
      "source": [
        "class SimpleMLP(nn.Module):\n",
        "    def __init__(self, vocab_size, embedding_dim, hidden_dim1, hidden_dim2, drop_prob1, drop_prob2, output_layer):\n",
        "        super().__init__()\n",
        "\n",
        "\n",
        "        # EmbeddingBag → Hidden_Layer1 →ReLU  → Dropout_Layer1 → BatchNorn_Layer1 → Hidden_Layer2 → ReLU  → DropoutLayer2 → BatchNorm_Layer2  → Output Layer\n",
        "\n",
        "        # Embedding layer\n",
        "        self.embedding_bag = nn.EmbeddingBag(vocab_size, embedding_dim)\n",
        "\n",
        "        # First hidden Linear layer\n",
        "        self.linear1 = nn.Linear(embedding_dim, hidden_dim1)\n",
        "\n",
        "        # Dropout for first linear layer\n",
        "        self.dropout1 = nn.Dropout(p=drop_prob1)\n",
        "\n",
        "        # Batch normalization for first linear layer\n",
        "        self.batchnorm1 = nn.BatchNorm1d(num_features=hidden_dim1)\n",
        "\n",
        "\n",
        "        # Second Linear layer\n",
        "        self.linear2 = nn.Linear(hidden_dim1, hidden_dim2)\n",
        "\n",
        "        # Dropout for second linear layer\n",
        "        self.dropout2 = nn.Dropout(p=drop_prob2)\n",
        "\n",
        "        # Batch normalization for second linear layer\n",
        "        self.batchnorm2 = nn.BatchNorm1d(num_features=hidden_dim2)\n",
        "\n",
        "\n",
        "        # Final Linear layer\n",
        "        self.output = nn.Linear(hidden_dim2, output_layer)\n",
        "\n",
        "    def forward(self, input_tuple):\n",
        "        indices, offsets = input_tuple\n",
        "\n",
        "        # Pass data through the embedding layer\n",
        "        x = self.embedding_bag(indices, offsets)\n",
        "\n",
        "        # First linear layer followed by ReLU, BatchNorm, and Dropout\n",
        "        x = self.linear1(x)\n",
        "        x = nn.ReLU()(x)\n",
        "        x = self.dropout1(x)\n",
        "        x = self.batchnorm1(x)\n",
        "\n",
        "\n",
        "        # Second linear layer followed by ReLU, BatchNorm, and Dropout\n",
        "        x = self.linear2(x)\n",
        "        x = nn.ReLU()(x)\n",
        "        x = self.dropout2(x)\n",
        "        x = self.batchnorm2(x)\n",
        "\n",
        "\n",
        "        # Final linear layer\n",
        "        x = self.output(x)\n",
        "\n",
        "        return x\n"
      ],
      "metadata": {
        "id": "P3v_UBcJfMas"
      },
      "execution_count": null,
      "outputs": []
    },
    {
      "cell_type": "code",
      "source": [
        "# Define the device\n",
        "device = torch.device('cuda:0' if torch.cuda.is_available() else 'cpu')\n",
        "\n",
        "# Define the sequential model\n",
        "# this will invoke the __init__() function of the model\n",
        "model = SimpleMLP(vocab_size=7 , embedding_dim=10, hidden_dim1=5, hidden_dim2=3, drop_prob1=0.5, drop_prob2=0.5, output_layer=2)\n",
        "\n",
        "# Move the model to the device\n",
        "model = model.to(device)\n",
        "\n",
        "# Generate some dummy input data and offsets, and move them to the device\n",
        "data = torch.tensor([1, 2, 4, 5, 4], dtype = torch.int32).to(device)\n",
        "offsets = torch.tensor([0, 2, 4], dtype = torch.int32).to(device)\n",
        "\n",
        "# Generate summary\n",
        "summary(model, input_data=[(data, offsets)], device=device, depth =10, verbose = False)"
      ],
      "metadata": {
        "colab": {
          "base_uri": "https://localhost:8080/"
        },
        "id": "zvTuDXhVgrW_",
        "outputId": "83605ba6-554d-48fc-90d7-a1e5df450ead"
      },
      "execution_count": null,
      "outputs": [
        {
          "output_type": "execute_result",
          "data": {
            "text/plain": [
              "==========================================================================================\n",
              "Layer (type:depth-idx)                   Output Shape              Param #\n",
              "==========================================================================================\n",
              "SimpleMLP                                [3, 2]                    --\n",
              "├─EmbeddingBag: 1-1                      [3, 10]                   70\n",
              "├─Linear: 1-2                            [3, 5]                    55\n",
              "├─Dropout: 1-3                           [3, 5]                    --\n",
              "├─BatchNorm1d: 1-4                       [3, 5]                    10\n",
              "├─Linear: 1-5                            [3, 3]                    18\n",
              "├─Dropout: 1-6                           [3, 3]                    --\n",
              "├─BatchNorm1d: 1-7                       [3, 3]                    6\n",
              "├─Linear: 1-8                            [3, 2]                    8\n",
              "==========================================================================================\n",
              "Total params: 167\n",
              "Trainable params: 167\n",
              "Non-trainable params: 0\n",
              "Total mult-adds (M): 0.00\n",
              "==========================================================================================\n",
              "Input size (MB): 0.00\n",
              "Forward/backward pass size (MB): 0.00\n",
              "Params size (MB): 0.00\n",
              "Estimated Total Size (MB): 0.00\n",
              "=========================================================================================="
            ]
          },
          "metadata": {},
          "execution_count": 100
        }
      ]
    },
    {
      "cell_type": "code",
      "source": [
        "train_metric = HammingDistance(task=\"multilabel\",num_labels=10)"
      ],
      "metadata": {
        "id": "ziK3Da_viGHE"
      },
      "execution_count": null,
      "outputs": []
    },
    {
      "cell_type": "code",
      "source": [
        "train_metric"
      ],
      "metadata": {
        "colab": {
          "base_uri": "https://localhost:8080/"
        },
        "id": "Qu7JDqSKik02",
        "outputId": "47f09272-34b7-43d9-902d-39e0333de1d0"
      },
      "execution_count": null,
      "outputs": [
        {
          "output_type": "execute_result",
          "data": {
            "text/plain": [
              "MultilabelHammingDistance()"
            ]
          },
          "metadata": {},
          "execution_count": 102
        }
      ]
    },
    {
      "cell_type": "markdown",
      "source": [
        "# Functions to train and eval models"
      ],
      "metadata": {
        "id": "TEwumBJxizD7"
      }
    },
    {
      "cell_type": "markdown",
      "source": [
        "## step() Function"
      ],
      "metadata": {
        "id": "ZE3yViMpi6ym"
      }
    },
    {
      "cell_type": "code",
      "source": [
        "def step( model, inputs, targets, device, loss_function, optimizer=None, clip_value = None):\n",
        "    \"\"\"\n",
        "    Performs a forward and backward pass for a given batch of inputs and targets.\n",
        "\n",
        "    Parameters:\n",
        "    - inputs (torch.Tensor): The input data for the model.\n",
        "    - targets (torch.Tensor): The true labels for the input data.\n",
        "    - model (torch.nn.Module): The neural network model.\n",
        "    - device (torch.device): The computing device (CPU or GPU).\n",
        "    - loss_function (torch.nn.Module, optional): The loss function to use.\n",
        "    - optimizer (torch.optim.Optimizer, optional): The optimizer to update model parameters.\n",
        "\n",
        "    Returns:\n",
        "    - loss (float): The computed loss value (only if loss_function is not None).\n",
        "    - outputs (torch.Tensor): The predictions from the model.\n",
        "    - correct (int): The number of correctly classified samples in the batch.\n",
        "    \"\"\"\n",
        "    # Move the model and data to the device\n",
        "    train_metric.to(device)\n",
        "    model = model.to(device)\n",
        "    inputs = tuple(input_tensor.to(device)\n",
        "                            for input_tensor in inputs)\n",
        "\n",
        "    targets = targets.to(device)\n",
        "\n",
        "    # Step 1: Forward pass to get the model's predictions\n",
        "    outputs = model(inputs)\n",
        "\n",
        "    # Step 2a: Compute the loss using the provided loss function\n",
        "    if loss_function:\n",
        "        loss = loss_function(outputs, targets)\n",
        "\n",
        "    # Step 2b: Calculate the number of correctly classified samples\n",
        "    # predicted = torch.argmax(outputs.data, 1)\n",
        "    # correct = (predicted == targets).sum().item()\n",
        "\n",
        "    y_pred = (outputs.data > 0.5).float()\n",
        "    train_metric.update(y_pred,targets)\n",
        "    # Step 3 and 4: Perform backward pass and update model parameters if an optimizer is provided\n",
        "    if optimizer:\n",
        "        optimizer.zero_grad()\n",
        "        loss.backward()\n",
        "        nn.utils.clip_grad_value_(model.parameters(),clip_value=CLIP_VALUE)\n",
        "        optimizer.step()\n",
        "\n",
        "    # Return relevant metrics\n",
        "    if loss_function:\n",
        "        return loss, outputs, train_metric\n",
        "    else:\n",
        "        return None, outputs, train_metric\n"
      ],
      "metadata": {
        "id": "sxylDmBSioFg"
      },
      "execution_count": null,
      "outputs": []
    },
    {
      "cell_type": "markdown",
      "source": [
        "## Train() Epoch"
      ],
      "metadata": {
        "id": "cnUlddo_lAB4"
      }
    },
    {
      "cell_type": "code",
      "source": [
        "def train_epoch(train_loader, model, device, loss_function, optimizer):\n",
        "    \"\"\"\n",
        "    Trains the model for one epoch using the provided data loader and updates the model parameters.\n",
        "\n",
        "    Parameters:\n",
        "    - train_loader (torch.utils.data.DataLoader): DataLoader object for the training set.\n",
        "    - model (torch.nn.Module): The neural network model to be trained.\n",
        "    - device (torch.device): The computing device (CPU or GPU).\n",
        "    - loss_function (torch.nn.Module): The loss function to use for training.\n",
        "    - optimizer (torch.optim.Optimizer): The optimizer to update model parameters.\n",
        "\n",
        "    Returns:\n",
        "    - train_loss (float): Average training loss for the epoch.\n",
        "    - train_acc (float): Training accuracy for the epoch.\n",
        "    \"\"\"\n",
        "    # Set the model to training mode\n",
        "    model.train()\n",
        "\n",
        "    # Initialize variables to track running training loss and correct predictions\n",
        "    running_train_loss = 0.0\n",
        "    # running_train_correct = 0\n",
        "\n",
        "    # Iterate over all batches in the training data\n",
        "    for inputs, targets in train_loader:\n",
        "        # Perform a forward and backward pass, updating model parameters\n",
        "        loss, _, hammingdistance = step(model, inputs, targets, device, loss_function, optimizer)\n",
        "\n",
        "        # Update running loss and correct predictions counter\n",
        "        running_train_loss += loss.item()\n",
        "        # running_train_correct += correct\n",
        "        train_epoch_hammingdistance = hammingdistance.compute()\n",
        "\n",
        "    # Compute average loss and accuracy for the entire training set\n",
        "    train_loss = running_train_loss / len(train_loader)\n",
        "    # train_acc = running_train_correct / len(train_loader.dataset)\n",
        "\n",
        "    return train_loss, train_epoch_hammingdistance"
      ],
      "metadata": {
        "id": "KsqO1Hb5k92t"
      },
      "execution_count": null,
      "outputs": []
    },
    {
      "cell_type": "markdown",
      "source": [
        "## Validation() Epoch"
      ],
      "metadata": {
        "id": "n49CA3R1l-L_"
      }
    },
    {
      "cell_type": "code",
      "source": [
        "def val_epoch(val_loader, model, device, loss_function):\n",
        "    \"\"\"\n",
        "    Validates the model for one epoch using the provided data loader.\n",
        "\n",
        "    Parameters:\n",
        "    - valid_loader (torch.utils.data.DataLoader): DataLoader object for the validation set.\n",
        "    - model (torch.nn.Module): The neural network model to be validated.\n",
        "    - device (torch.device): The computing device (CPU or GPU).\n",
        "    - loss_function (torch.nn.Module): The loss function to evaluate the model.\n",
        "\n",
        "    Returns:\n",
        "    - val_loss (float): Average validation loss for the epoch.\n",
        "    - val_acc (float): Validation accuracy for the epoch.\n",
        "    \"\"\"\n",
        "    # Set the model to evaluation mode\n",
        "    model.eval()\n",
        "\n",
        "    # Initialize variables to track running validation loss and correct predictions\n",
        "    running_val_loss = 0.0\n",
        "    # running_val_correct = 0\n",
        "\n",
        "    # Disable gradient computation\n",
        "    with torch.no_grad():\n",
        "        # Iterate over all batches in the validation data\n",
        "        for inputs, targets in val_loader:\n",
        "            # Perform a forward pass to get loss and number of correct predictions\n",
        "            loss, _, hammingdistance = step(model, inputs, targets, device, loss_function)\n",
        "\n",
        "            # Update running loss and correct predictions counter\n",
        "            running_val_loss += loss.item()\n",
        "            # running_val_correct += correct\n",
        "            val_epoch_hammingdistance = hammingdistance.compute()\n",
        "\n",
        "    # Compute average loss and accuracy for the entire validation set\n",
        "    val_loss = running_val_loss / len(val_loader)\n",
        "    # val_acc = running_val_correct / len(valid_loader.dataset)\n",
        "\n",
        "    return val_loss, val_epoch_hammingdistance"
      ],
      "metadata": {
        "id": "vgmwQ6t4l8hQ"
      },
      "execution_count": null,
      "outputs": []
    },
    {
      "cell_type": "markdown",
      "source": [
        "## Train Function"
      ],
      "metadata": {
        "id": "8Szq9_oImuN2"
      }
    },
    {
      "cell_type": "code",
      "source": [
        "def train(train_loader, val_loader, model,device, loss_function, optimizer, epochs):\n",
        "    \"\"\"\n",
        "    Trains and validates the model, and returns history of train and validation metrics.\n",
        "\n",
        "    \"\"\"\n",
        "    # Initialize lists to store metrics for each epoch\n",
        "    train_loss_history = []\n",
        "    val_loss_history = []\n",
        "    train_hd_history = []\n",
        "    val_hd_history = []\n",
        "\n",
        "    # Loop over the number of specified epochs\n",
        "    for epoch in range(epochs):\n",
        "        # Train model on training data and capture metrics\n",
        "        train_loss, train_hd = train_epoch(\n",
        "            train_loader, model, device, loss_function, optimizer)\n",
        "\n",
        "        # Validate model on validation data and capture metrics\n",
        "        val_loss, val_hd = val_epoch(\n",
        "            val_loader, model, device, loss_function)\n",
        "\n",
        "        # Store metrics for this epoch\n",
        "        train_loss_history.append(train_loss)\n",
        "        train_hd_history.append(train_hd)\n",
        "        val_loss_history.append(val_loss)\n",
        "        val_hd_history.append(val_hd)\n",
        "\n",
        "        # Output epoch-level summary\n",
        "        print(f\"Epoch {epoch+1}/{epochs}\")\n",
        "        print(f\"Train Loss: {train_loss:.4f} | Train Hamming Distance: {train_hd:.4f}\")\n",
        "        print(f\"Valid Loss: {val_loss:.4f} | Valid Hamming Distance: {val_hd:.4f}\")\n",
        "        print()\n",
        "\n",
        "    return train_loss_history, train_hd_history, val_loss_history, val_hd_history\n"
      ],
      "metadata": {
        "id": "wDcI6MzPmrkd"
      },
      "execution_count": null,
      "outputs": []
    },
    {
      "cell_type": "markdown",
      "source": [
        "# Train Model\n"
      ],
      "metadata": {
        "id": "9ugOQDpfojFL"
      }
    },
    {
      "cell_type": "markdown",
      "source": [
        "## Hyperparameters"
      ],
      "metadata": {
        "id": "jfvGT-VXopBg"
      }
    },
    {
      "cell_type": "code",
      "source": [
        "# model Parameters\n",
        "EMBED_DIM=300\n",
        "VOCAB_SIZE=len(stack_ex_vocab)\n",
        "HIDDEN_DIM1=200\n",
        "HIDDEN_DIM2=100\n",
        "DROP_PROB1=0.5\n",
        "DROP_PROB2=0.5\n",
        "NUM_OUTPUTS=10\n",
        "\n",
        "# training\n",
        "EPOCHS=5\n",
        "BATCH_SIZE=128\n",
        "LEARNING_RATE=0.001\n",
        "WEIGHT_DECAY=0.000\n",
        "CLIP_VALUE=10"
      ],
      "metadata": {
        "id": "VcuQJj4VonUk"
      },
      "execution_count": null,
      "outputs": []
    },
    {
      "cell_type": "markdown",
      "source": [
        "## Training Configuration"
      ],
      "metadata": {
        "id": "6ew0kHhmpbaH"
      }
    },
    {
      "cell_type": "code",
      "source": [
        "# Define the loss function for the model\n",
        "loss_function = torch.nn.BCEWithLogitsLoss()"
      ],
      "metadata": {
        "id": "qThDbUEjy3ZB"
      },
      "execution_count": null,
      "outputs": []
    },
    {
      "cell_type": "code",
      "source": [
        "# Fixing the seed value for reproducibility across runs\n",
        "SEED = 2345\n",
        "random.seed(SEED)                     # Set seed for Python's 'random' module\n",
        "np.random.seed(SEED)                  # Set seed for NumPy's random number generation\n",
        "torch.manual_seed(SEED)               # Set seed for PyTorch's CPU operations\n",
        "torch.cuda.manual_seed(SEED)          # Set seed for PyTorch's CUDA (GPU) operations\n",
        "torch.backends.cudnn.deterministic = True  # Ensure deterministic behavior in CuDNN\n",
        "\n",
        "# Define collate function with a fixed vocabulary using the 'partial' function\n",
        "collate_fn = partial(collate_batch, my_vocab=stack_ex_vocab)\n",
        "\n",
        "# Data Loaders for training, validation, and test sets\n",
        "# These loaders handle batching, shuffling, and data processing using the custom collate function\n",
        "train_loader = torch.utils.data.DataLoader(trainset, batch_size = BATCH_SIZE, shuffle=True,\n",
        "                                           collate_fn=collate_fn, num_workers=4)\n",
        "val_loader = torch.utils.data.DataLoader(valset, batch_size=BATCH_SIZE, shuffle=False,\n",
        "                                           collate_fn=collate_fn, num_workers=4)\n",
        "test_loader = torch.utils.data.DataLoader(testset, batch_size=BATCH_SIZE, shuffle=False,\n",
        "                                          collate_fn=collate_fn, num_workers=4)\n",
        "\n",
        "# Define the model with specified hyperparameters\n",
        "model_stack_ex = SimpleMLP(vocab_size=VOCAB_SIZE,\n",
        "                       embedding_dim=EMBED_DIM,\n",
        "                       hidden_dim1=HIDDEN_DIM1,\n",
        "                       hidden_dim2=HIDDEN_DIM2,\n",
        "                       drop_prob1=DROP_PROB1,\n",
        "                       drop_prob2=DROP_PROB2,\n",
        "                       output_layer=NUM_OUTPUTS)\n",
        "\n",
        "# Initialize the optimizer for training, using AdamW optimizer with specified learning rate\n",
        "optimizer = torch.optim.AdamW(model_stack_ex.parameters(), lr=LEARNING_RATE)\n",
        "\n",
        "# Define the device for model training (use CUDA if available, else CPU)\n",
        "device = torch.device('cuda:0' if torch.cuda.is_available() else 'cpu')\n"
      ],
      "metadata": {
        "colab": {
          "base_uri": "https://localhost:8080/"
        },
        "id": "4H7a--WHpi70",
        "outputId": "eab6c9fa-89e1-44fa-d10d-b961c6788ffb"
      },
      "execution_count": null,
      "outputs": [
        {
          "output_type": "stream",
          "name": "stderr",
          "text": [
            "/usr/local/lib/python3.10/dist-packages/torch/utils/data/dataloader.py:557: UserWarning: This DataLoader will create 4 worker processes in total. Our suggested max number of worker in current system is 2, which is smaller than what this DataLoader is going to create. Please be aware that excessive worker creation might get DataLoader running slow or even freeze, lower the worker number to avoid potential slowness/freeze if necessary.\n",
            "  warnings.warn(_create_warning_msg(\n"
          ]
        }
      ]
    },
    {
      "cell_type": "markdown",
      "source": [
        "## Sanity Check"
      ],
      "metadata": {
        "id": "eWqvD7ppqd8p"
      }
    },
    {
      "cell_type": "code",
      "source": [
        "for inputs, targets in train_loader:\n",
        "    # Move inputs and targets to the CPU.\n",
        "    inputs = tuple(input_tensor.to(device) for input_tensor in inputs)\n",
        "    targets = targets.to(device)\n",
        "    print(targets)\n",
        "    print(targets.dtype)\n",
        "    model_stack_ex = model_stack_ex.to(device)\n",
        "    model_stack_ex.eval()\n",
        "    print(f'Input data type: {inputs[0].dtype}')\n",
        "    print(f'Target data type: {targets.dtype}')\n",
        "    with torch.no_grad():\n",
        "        output = model_stack_ex(inputs)\n",
        "        print(\"Output type\",output.dtype)\n",
        "        print(loss_function)\n",
        "        loss = loss_function(output, targets)\n",
        "        print(f'Actual loss: {loss.item()}')\n",
        "    break\n",
        "\n",
        "print(f'Expected Theoretical loss: {np.log(2)}')\n"
      ],
      "metadata": {
        "colab": {
          "base_uri": "https://localhost:8080/"
        },
        "id": "Ters6PNwqkfK",
        "outputId": "39db102a-d4bf-4cf8-f2df-b50e0dcf63cb"
      },
      "execution_count": null,
      "outputs": [
        {
          "output_type": "stream",
          "name": "stdout",
          "text": [
            "tensor([[0., 0., 0.,  ..., 0., 0., 0.],\n",
            "        [0., 0., 0.,  ..., 0., 0., 0.],\n",
            "        [0., 1., 0.,  ..., 0., 0., 0.],\n",
            "        ...,\n",
            "        [0., 0., 1.,  ..., 0., 0., 0.],\n",
            "        [1., 1., 0.,  ..., 0., 0., 0.],\n",
            "        [0., 1., 0.,  ..., 0., 0., 0.]])\n",
            "torch.float32\n",
            "Input data type: torch.int64\n",
            "Target data type: torch.float32\n",
            "Output type torch.float32\n",
            "BCEWithLogitsLoss()\n",
            "Actual loss: 0.6980595588684082\n",
            "Expected Theoretical loss: 0.6931471805599453\n"
          ]
        }
      ]
    },
    {
      "cell_type": "markdown",
      "source": [
        "## Training"
      ],
      "metadata": {
        "id": "EAC2TeZGxCWW"
      }
    },
    {
      "cell_type": "code",
      "source": [
        "train_losses, train_dis, valid_losses, valid_dis = train(\n",
        "    train_loader, val_loader, model_stack_ex, device, loss_function, optimizer, EPOCHS\n",
        ")\n"
      ],
      "metadata": {
        "colab": {
          "base_uri": "https://localhost:8080/"
        },
        "id": "vAOIo2Bjv_Re",
        "outputId": "ec9a3e27-2c7b-4293-d88e-7fcf9bd9a18a"
      },
      "execution_count": null,
      "outputs": [
        {
          "output_type": "stream",
          "name": "stdout",
          "text": [
            "Epoch 1/5\n",
            "Train Loss: 0.4006 | Train Hamming Distance: 0.1188\n",
            "Valid Loss: 0.1794 | Valid Hamming Distance: 0.1056\n",
            "\n",
            "Epoch 2/5\n",
            "Train Loss: 0.1717 | Train Hamming Distance: 0.0876\n",
            "Valid Loss: 0.1408 | Valid Hamming Distance: 0.0832\n",
            "\n",
            "Epoch 3/5\n",
            "Train Loss: 0.1398 | Train Hamming Distance: 0.0748\n",
            "Valid Loss: 0.1261 | Valid Hamming Distance: 0.0725\n",
            "\n",
            "Epoch 4/5\n",
            "Train Loss: 0.1191 | Train Hamming Distance: 0.0669\n",
            "Valid Loss: 0.1166 | Valid Hamming Distance: 0.0654\n",
            "\n",
            "Epoch 5/5\n",
            "Train Loss: 0.1046 | Train Hamming Distance: 0.0614\n",
            "Valid Loss: 0.1107 | Valid Hamming Distance: 0.0604\n",
            "\n"
          ]
        }
      ]
    },
    {
      "cell_type": "code",
      "source": [
        "len(trainset.X)"
      ],
      "metadata": {
        "colab": {
          "base_uri": "https://localhost:8080/"
        },
        "id": "EBD2k-Ryw57-",
        "outputId": "83929cd4-faf2-4ed4-e738-8cf62437e41f"
      },
      "execution_count": null,
      "outputs": [
        {
          "output_type": "execute_result",
          "data": {
            "text/plain": [
              "28456"
            ]
          },
          "metadata": {},
          "execution_count": 112
        }
      ]
    },
    {
      "cell_type": "code",
      "source": [
        "len(trainset.y)"
      ],
      "metadata": {
        "colab": {
          "base_uri": "https://localhost:8080/"
        },
        "id": "O_ioyjmA18Fi",
        "outputId": "6bce6dc4-11ce-4513-efe3-60e7cc0e97d5"
      },
      "execution_count": null,
      "outputs": [
        {
          "output_type": "execute_result",
          "data": {
            "text/plain": [
              "28456"
            ]
          },
          "metadata": {},
          "execution_count": 113
        }
      ]
    },
    {
      "cell_type": "markdown",
      "source": [
        "## Plot Losses and Metrics"
      ],
      "metadata": {
        "id": "Hvqch3caxOSl"
      }
    },
    {
      "cell_type": "code",
      "source": [
        "def plot_history(train_losses, train_metrics, val_losses=None, val_metrics=None):\n",
        "    \"\"\"\n",
        "    Plot training and validation loss and metrics over epochs.\n",
        "\n",
        "    Args:\n",
        "        train_losses (list): List of training losses for each epoch.\n",
        "        train_metrics (list): List of training metrics (e.g., accuracy) for each epoch.\n",
        "        val_losses (list, optional): List of validation losses for each epoch.\n",
        "        val_metrics (list, optional): List of validation metrics for each epoch.\n",
        "\n",
        "    Returns:\n",
        "        None\n",
        "    \"\"\"\n",
        "    # Determine the number of epochs based on the length of train_losses\n",
        "    epochs = range(1, len(train_losses) + 1)\n",
        "\n",
        "    # Plotting training and validation losses\n",
        "    plt.figure()\n",
        "    plt.plot(epochs, train_losses, label=\"Train\")  # Plot training losses\n",
        "    if val_losses:  # Check if validation losses are provided\n",
        "        plt.plot(epochs, val_losses, label=\"Validation\")  # Plot validation losses\n",
        "    plt.xlabel(\"Epochs\")\n",
        "    plt.ylabel(\"Loss\")\n",
        "    plt.legend()\n",
        "    plt.show()\n",
        "\n",
        "    # Plotting training and validation metrics\n",
        "    if train_metrics[0] is not None:  # Check if training metrics are available\n",
        "        plt.figure()\n",
        "        plt.plot(epochs, train_metrics, label=\"Train\")  # Plot training metrics\n",
        "        if val_metrics:  # Check if validation metrics are provided\n",
        "            plt.plot(epochs, val_metrics, label=\"Validation\")  # Plot validation metrics\n",
        "        plt.xlabel(\"Epochs\")\n",
        "        plt.ylabel(\"Metric-Hamming Distance\")\n",
        "        plt.legend()\n",
        "        plt.show()\n",
        "    return train_losses\n"
      ],
      "metadata": {
        "id": "FCNvpjNwxWDM"
      },
      "execution_count": null,
      "outputs": []
    },
    {
      "cell_type": "code",
      "source": [
        "print(train_dis)"
      ],
      "metadata": {
        "colab": {
          "base_uri": "https://localhost:8080/"
        },
        "id": "lACGoEcw-rrk",
        "outputId": "b0c84da8-8b92-4f58-d9f9-8e16efd2d4af"
      },
      "execution_count": null,
      "outputs": [
        {
          "output_type": "stream",
          "name": "stdout",
          "text": [
            "[tensor(0.1188), tensor(0.0876), tensor(0.0748), tensor(0.0669), tensor(0.0614)]\n"
          ]
        }
      ]
    },
    {
      "cell_type": "code",
      "source": [
        "plot_history(train_losses, train_dis, valid_losses, valid_dis)"
      ],
      "metadata": {
        "colab": {
          "base_uri": "https://localhost:8080/",
          "height": 973
        },
        "id": "hGek85vYx7AK",
        "outputId": "4e5a135f-6986-443b-975d-ae2a5a1bab37"
      },
      "execution_count": null,
      "outputs": [
        {
          "output_type": "display_data",
          "data": {
            "text/plain": [
              "<Figure size 640x480 with 1 Axes>"
            ],
            "image/png": "[encoded data removed]"
          },
          "metadata": {}
        },
        {
          "output_type": "display_data",
          "data": {
            "text/plain": [
              "<Figure size 640x480 with 1 Axes>"
            ],
            "image/png": "[encoded data removed]"
          },
          "metadata": {}
        },
        {
          "output_type": "execute_result",
          "data": {
            "text/plain": [
              "[0.400637482915224,\n",
              " 0.1717298187215232,\n",
              " 0.13980362059824136,\n",
              " 0.11905421901310506,\n",
              " 0.10455065938923926]"
            ]
          },
          "metadata": {},
          "execution_count": 116
        }
      ]
    },
    {
      "cell_type": "markdown",
      "source": [
        "## Model Checking"
      ],
      "metadata": {
        "id": "yuNJbYcAyOZ3"
      }
    },
    {
      "cell_type": "code",
      "source": [
        "# Get the current timestamp in the format \"YYYY-MM-DD_HH-MM-SS\"\n",
        "timestamp = datetime.now().strftime(\"%Y-%m-%d_%H-%M-%S\")\n",
        "\n",
        "# Define a suffix for the file name\n",
        "suffix = 'model_parta'\n",
        "\n",
        "# Combine the timestamp and suffix to create the file path\n",
        "path = modelfolder / f'{timestamp}_{suffix}.pt'\n",
        "path"
      ],
      "metadata": {
        "colab": {
          "base_uri": "https://localhost:8080/"
        },
        "id": "rxOF1RKO2R_a",
        "outputId": "057a8fa9-ca35-47f5-e849-838cf6a8150e"
      },
      "execution_count": null,
      "outputs": [
        {
          "output_type": "execute_result",
          "data": {
            "text/plain": [
              "PosixPath('/content/drive/MyDrive/NLP/Assignment_4/Model/2024-03-04_05-55-16_model_parta.pt')"
            ]
          },
          "metadata": {},
          "execution_count": 117
        }
      ]
    },
    {
      "cell_type": "code",
      "source": [
        "# Save the model's state dictionary to the specified file path\n",
        "torch.save(model_stack_ex.state_dict(), path)"
      ],
      "metadata": {
        "id": "Fd1s_4282Y4-"
      },
      "execution_count": null,
      "outputs": []
    },
    {
      "cell_type": "code",
      "source": [
        "stackmodel = SimpleMLP(vocab_size = VOCAB_SIZE,embedding_dim=EMBED_DIM,\n",
        "                       hidden_dim1=HIDDEN_DIM1,\n",
        "                       hidden_dim2=HIDDEN_DIM2,\n",
        "                       drop_prob1=DROP_PROB1,\n",
        "                       drop_prob2=DROP_PROB2,\n",
        "                       output_layer=NUM_OUTPUTS)\n",
        "checkpoint = torch.load(path)\n",
        "stackmodel.load_state_dict(checkpoint)"
      ],
      "metadata": {
        "colab": {
          "base_uri": "https://localhost:8080/"
        },
        "id": "pJKSCBYP3zEm",
        "outputId": "81b76847-1142-4532-b6e7-2b97e9093435"
      },
      "execution_count": null,
      "outputs": [
        {
          "output_type": "execute_result",
          "data": {
            "text/plain": [
              "<All keys matched successfully>"
            ]
          },
          "metadata": {},
          "execution_count": 119
        }
      ]
    },
    {
      "cell_type": "markdown",
      "source": [
        "## Eval Model on val dataset"
      ],
      "metadata": {
        "id": "GCQk3mmJ2fRl"
      }
    },
    {
      "cell_type": "code",
      "source": [
        "def get_acc_pred(data_loader, model, device):\n",
        "    \"\"\"\n",
        "    Function to get predictions and accuracy for a given data using a trained model\n",
        "    Input: data iterator, model, device\n",
        "    Output: predictions and accuracy for the given dataset\n",
        "    \"\"\"\n",
        "    train_metric.to(device)\n",
        "    model = model.to(device)\n",
        "    # Set model to evaluation mode\n",
        "    model.eval()\n",
        "\n",
        "    # Create empty tensors to store predictions and actual labels\n",
        "    predictions = torch.Tensor().to(device)\n",
        "    y = torch.Tensor().to(device)\n",
        "    # running_correct = 0\n",
        "    # Iterate over batches from data iterator\n",
        "    with torch.no_grad():\n",
        "        for inputs, targets in data_loader:\n",
        "            # Process the batch to get the loss, outputs, and correct predictions\n",
        "            _, outputs,_ = step(model,inputs, targets,\n",
        "                              device, loss_function=None, optimizer=None)\n",
        "\n",
        "            # Choose the label with maximum probability\n",
        "            # _, predicted = torch.max(outputs.data, 1)\n",
        "            y_pred = (outputs.data>0.5).float()\n",
        "\n",
        "            # Add the predicted labels and actual labels to their respective tensors\n",
        "            predictions = torch.cat((predictions, y_pred))\n",
        "            y = torch.cat((y, targets.to(device)))\n",
        "\n",
        "             # Calculate hamming dist\n",
        "            hammingdistance = train_metric(y_pred,targets)\n",
        "\n",
        "    # Return tuple containing predictions and accuracy\n",
        "    return predictions, hammingdistance, y"
      ],
      "metadata": {
        "id": "Eh2sEyQi390_"
      },
      "execution_count": null,
      "outputs": []
    },
    {
      "cell_type": "markdown",
      "source": [
        "## Predictions"
      ],
      "metadata": {
        "id": "Op_SMCTA-hMg"
      }
    },
    {
      "cell_type": "code",
      "source": [
        "#Predictons\n",
        "predictions_test, hd_test, y_test = get_acc_pred(test_loader, stackmodel, device)\n",
        "predictions_train, hd_train, y_train = get_acc_pred(train_loader, stackmodel, device)\n",
        "predictions_valid, hd_val, y_valid = get_acc_pred(val_loader, stackmodel, device)"
      ],
      "metadata": {
        "colab": {
          "base_uri": "https://localhost:8080/"
        },
        "id": "0e2jvjeW7SJU",
        "outputId": "38090fa5-cfb9-4c48-bc30-8755d223bb83"
      },
      "execution_count": null,
      "outputs": [
        {
          "output_type": "stream",
          "name": "stderr",
          "text": [
            "/usr/local/lib/python3.10/dist-packages/torch/utils/data/dataloader.py:557: UserWarning: This DataLoader will create 4 worker processes in total. Our suggested max number of worker in current system is 2, which is smaller than what this DataLoader is going to create. Please be aware that excessive worker creation might get DataLoader running slow or even freeze, lower the worker number to avoid potential slowness/freeze if necessary.\n",
            "  warnings.warn(_create_warning_msg(\n"
          ]
        }
      ]
    },
    {
      "cell_type": "code",
      "source": [
        "#Predicted hamming distance\n",
        "print('Test distance', hd_test)\n",
        "print('Train distance', hd_train)\n",
        "print('Valid distance', hd_val)"
      ],
      "metadata": {
        "colab": {
          "base_uri": "https://localhost:8080/"
        },
        "id": "b-9mqn3IVzdJ",
        "outputId": "fe901fbf-a656-4381-991a-73b9b06ca075"
      },
      "execution_count": null,
      "outputs": [
        {
          "output_type": "stream",
          "name": "stdout",
          "text": [
            "Test distance tensor(0.0357)\n",
            "Train distance tensor(0.0400)\n",
            "Valid distance tensor(0.0615)\n"
          ]
        }
      ]
    },
    {
      "cell_type": "code",
      "source": [
        "sample_X = X_test[5]\n",
        "pprint(sample_X)"
      ],
      "metadata": {
        "colab": {
          "base_uri": "https://localhost:8080/"
        },
        "id": "Nsq8QGYMDtNe",
        "outputId": "98b46d47-ae66-4317-e22e-a38c40f2641a"
      },
      "execution_count": null,
      "outputs": [
        {
          "output_type": "stream",
          "name": "stdout",
          "text": [
            "(\"['split 3 letter stringbuilder stringbuilder stringbuilder s = new \"\n",
            " 'stringbuilder   output s.tostring = abcdefg   want 3 letter beginning like '\n",
            " \"abc code need use']\")\n"
          ]
        }
      ]
    },
    {
      "cell_type": "code",
      "source": [
        "device = 'cpu'\n",
        "list_of_list_of_indices = [tokenizer(text, stack_ex_vocab) for text in sample_X]\n",
        "offsets_1 = [0] + [len(i) for i in list_of_list_of_indices]\n",
        "offsets_1 = torch.tensor(offsets[:-1]).cumsum(dim=0)\n",
        "indices_1 = torch.cat([torch.tensor(i, dtype=torch.int64) for i in list_of_list_of_indices])"
      ],
      "metadata": {
        "colab": {
          "base_uri": "https://localhost:8080/"
        },
        "id": "NvcHTJCND3VB",
        "outputId": "b37173fd-4fb6-420d-8514-bcb5959297db"
      },
      "execution_count": null,
      "outputs": [
        {
          "output_type": "stream",
          "name": "stderr",
          "text": [
            "<ipython-input-127-4b723febde95>:4: UserWarning: To copy construct from a tensor, it is recommended to use sourceTensor.clone().detach() or sourceTensor.clone().detach().requires_grad_(True), rather than torch.tensor(sourceTensor).\n",
            "  offsets_1 = torch.tensor(offsets[:-1]).cumsum(dim=0)\n"
          ]
        }
      ]
    },
    {
      "cell_type": "markdown",
      "source": [
        "## Inference"
      ],
      "metadata": {
        "id": "v0z4NtfFWPLF"
      }
    },
    {
      "cell_type": "code",
      "source": [
        "stackmodel.to(device)\n",
        "stackmodel.eval()\n",
        "outputs_1 = stackmodel((indices_1, offsets_1))"
      ],
      "metadata": {
        "id": "U4LYppibWShX"
      },
      "execution_count": null,
      "outputs": []
    },
    {
      "cell_type": "code",
      "source": [
        "pred_1 = torch.argmax(outputs_1, dim = 1)\n",
        "mapping_1 = {0: 'c#', 1: 'java' , 2: 'php',3:'javascript',4:'android',5:'jquery',6:'c++',7:'python',8:'iphone',9:'asp.net'}\n",
        "pred_label_names = list(map(mapping_1.get, pred_1.tolist()))\n",
        "print(pred_label_names)"
      ],
      "metadata": {
        "colab": {
          "base_uri": "https://localhost:8080/"
        },
        "id": "dcOBQjTjWvRX",
        "outputId": "8f060747-581e-45b5-ff4e-798b71edb5d0"
      },
      "execution_count": null,
      "outputs": [
        {
          "output_type": "stream",
          "name": "stdout",
          "text": [
            "['javascript', 'jquery']\n"
          ]
        }
      ]
    }
  ]
}