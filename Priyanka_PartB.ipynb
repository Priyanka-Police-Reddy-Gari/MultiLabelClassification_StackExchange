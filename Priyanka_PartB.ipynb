{
  "nbformat": 4,
  "nbformat_minor": 0,
  "metadata": {
    "colab": {
      "provenance": [],
      "gpuType": "T4",
      "toc_visible": true,
      "machine_shape": "hm",
      "include_colab_link": true
    },
    "kernelspec": {
      "name": "python3",
      "display_name": "Python 3"
    },
    "language_info": {
      "name": "python"
    },
    "accelerator": "GPU"
  },
  "cells": [
    {
      "cell_type": "markdown",
      "metadata": {
        "id": "view-in-github",
        "colab_type": "text"
      },
      "source": [
        "<a href=\"https://colab.research.google.com/github/Priyanka-Police-Reddy-Gari/MultiLabelClassification_StackExchange/blob/main/Priyanka_PartB.ipynb\" target=\"_parent\"><img src=\"https://colab.research.google.com/assets/colab-badge.svg\" alt=\"Open In Colab\"/></a>"
      ]
    },
    {
      "cell_type": "code",
      "execution_count": null,
      "metadata": {
        "colab": {
          "base_uri": "https://localhost:8080/"
        },
        "id": "f2bwHHJpEsrZ",
        "outputId": "9814cd9b-106b-485c-9db1-4040bfab1f8f"
      },
      "outputs": [
        {
          "output_type": "stream",
          "name": "stdout",
          "text": [
            "Drive already mounted at /content/drive; to attempt to forcibly remount, call drive.mount(\"/content/drive\", force_remount=True).\n"
          ]
        }
      ],
      "source": [
        "from google.colab import drive\n",
        "drive.mount(\"/content/drive\")"
      ]
    },
    {
      "cell_type": "markdown",
      "source": [
        "# Load data and Split"
      ],
      "metadata": {
        "id": "KqgqGl8f7CXg"
      }
    },
    {
      "cell_type": "code",
      "source": [
        "!pip install torchinfo\n",
        "!pip install torchmetrics"
      ],
      "metadata": {
        "colab": {
          "base_uri": "https://localhost:8080/"
        },
        "id": "YZyWQta5E4Ua",
        "outputId": "09e7607a-7961-41ec-8122-7498e867e250"
      },
      "execution_count": null,
      "outputs": [
        {
          "output_type": "stream",
          "name": "stdout",
          "text": [
            "Requirement already satisfied: torchinfo in /usr/local/lib/python3.10/dist-packages (1.8.0)\n",
            "Requirement already satisfied: torchmetrics in /usr/local/lib/python3.10/dist-packages (1.3.1)\n",
            "Requirement already satisfied: numpy>1.20.0 in /usr/local/lib/python3.10/dist-packages (from torchmetrics) (1.25.2)\n",
            "Requirement already satisfied: packaging>17.1 in /usr/local/lib/python3.10/dist-packages (from torchmetrics) (23.2)\n",
            "Requirement already satisfied: torch>=1.10.0 in /usr/local/lib/python3.10/dist-packages (from torchmetrics) (2.1.0+cu121)\n",
            "Requirement already satisfied: lightning-utilities>=0.8.0 in /usr/local/lib/python3.10/dist-packages (from torchmetrics) (0.10.1)\n",
            "Requirement already satisfied: setuptools in /usr/local/lib/python3.10/dist-packages (from lightning-utilities>=0.8.0->torchmetrics) (67.7.2)\n",
            "Requirement already satisfied: typing-extensions in /usr/local/lib/python3.10/dist-packages (from lightning-utilities>=0.8.0->torchmetrics) (4.10.0)\n",
            "Requirement already satisfied: filelock in /usr/local/lib/python3.10/dist-packages (from torch>=1.10.0->torchmetrics) (3.13.1)\n",
            "Requirement already satisfied: sympy in /usr/local/lib/python3.10/dist-packages (from torch>=1.10.0->torchmetrics) (1.12)\n",
            "Requirement already satisfied: networkx in /usr/local/lib/python3.10/dist-packages (from torch>=1.10.0->torchmetrics) (3.2.1)\n",
            "Requirement already satisfied: jinja2 in /usr/local/lib/python3.10/dist-packages (from torch>=1.10.0->torchmetrics) (3.1.3)\n",
            "Requirement already satisfied: fsspec in /usr/local/lib/python3.10/dist-packages (from torch>=1.10.0->torchmetrics) (2023.6.0)\n",
            "Requirement already satisfied: triton==2.1.0 in /usr/local/lib/python3.10/dist-packages (from torch>=1.10.0->torchmetrics) (2.1.0)\n",
            "Requirement already satisfied: MarkupSafe>=2.0 in /usr/local/lib/python3.10/dist-packages (from jinja2->torch>=1.10.0->torchmetrics) (2.1.5)\n",
            "Requirement already satisfied: mpmath>=0.19 in /usr/local/lib/python3.10/dist-packages (from sympy->torch>=1.10.0->torchmetrics) (1.3.0)\n"
          ]
        }
      ]
    },
    {
      "cell_type": "code",
      "source": [
        "import torch\n",
        "import torch.nn as nn\n",
        "from torchtext.vocab import vocab\n",
        "from torchinfo import summary\n",
        "from torchmetrics import HammingDistance\n",
        "import tensorflow as tf\n",
        "\n",
        "import random\n",
        "\n",
        "import numpy as np\n",
        "\n",
        "import joblib\n",
        "from collections import Counter\n",
        "from functools import partial\n",
        "from pathlib import Path\n",
        "\n",
        "from sklearn.metrics import confusion_matrix\n",
        "from sklearn.preprocessing import MultiLabelBinarizer\n",
        "from sklearn.model_selection import train_test_split\n",
        "from sklearn.feature_extraction.text import TfidfVectorizer\n",
        "from sklearn.preprocessing import OneHotEncoder\n",
        "from datetime import datetime\n",
        "\n",
        "import matplotlib.pyplot as plt\n",
        "import seaborn as sns\n",
        "\n",
        "from pprint import pprint\n",
        "import sys\n",
        "import ast"
      ],
      "metadata": {
        "id": "4l6ynwzsE7dn"
      },
      "execution_count": null,
      "outputs": []
    },
    {
      "cell_type": "code",
      "source": [
        "basepath = '/content/drive/MyDrive/NLP'"
      ],
      "metadata": {
        "id": "JFNTgmBKE9-D"
      },
      "execution_count": null,
      "outputs": []
    },
    {
      "cell_type": "code",
      "source": [
        "sys.path.append('/content/drive/MyDrive/NLP/data/custom-functions')"
      ],
      "metadata": {
        "id": "vXs0At43FEA9"
      },
      "execution_count": null,
      "outputs": []
    },
    {
      "cell_type": "code",
      "source": [
        "basefolder = Path(basepath)\n",
        "datafolder = basefolder/\"Assignment_4/Data/\"\n",
        "modelfolder = basefolder/\"Assignment_4/Model/\"\n",
        "customfolder = basefolder/\"data/custom-functions/\""
      ],
      "metadata": {
        "id": "gxbiS0GEFNRz"
      },
      "execution_count": null,
      "outputs": []
    },
    {
      "cell_type": "code",
      "source": [
        "multilabel_data = joblib.load(datafolder/'df_multilabel_hw_cleaned.joblib')"
      ],
      "metadata": {
        "id": "H3xyCvLsFTjw"
      },
      "execution_count": null,
      "outputs": []
    },
    {
      "cell_type": "code",
      "source": [
        "multilabel_data"
      ],
      "metadata": {
        "colab": {
          "base_uri": "https://localhost:8080/",
          "height": 423
        },
        "id": "oWTk6xVWFV7m",
        "outputId": "a098e890-d209-4777-820b-3dfa805f0b72"
      },
      "execution_count": null,
      "outputs": [
        {
          "output_type": "execute_result",
          "data": {
            "text/plain": [
              "                                            cleaned_text                Tags  \\\n",
              "0      asp query stre dropdown webpage follow control...          c# asp.net   \n",
              "1      run javascript code server java code want run ...     java javascript   \n",
              "2      linq sql throw exception row find change hi li...          c# asp.net   \n",
              "3      run python script php server run nginx web ser...          php python   \n",
              "4      advice write function m try write function res...   javascript jquery   \n",
              "...                                                  ...                 ...   \n",
              "47422  take value edittext put decimal point all- wor...        java android   \n",
              "47423  listen phone state application nee liste phone...        java android   \n",
              "47424  android ui thread thread task want access main...        java android   \n",
              "47425  dynamic table row creation html javascript htm...  asp.net javascript   \n",
              "47426  image preloader work ie follow code preload im...   javascript jquery   \n",
              "\n",
              "      Tag_Number  \n",
              "0         [0, 9]  \n",
              "1         [1, 3]  \n",
              "2         [0, 9]  \n",
              "3         [2, 7]  \n",
              "4         [3, 5]  \n",
              "...          ...  \n",
              "47422     [1, 4]  \n",
              "47423     [1, 4]  \n",
              "47424     [1, 4]  \n",
              "47425     [9, 3]  \n",
              "47426     [3, 5]  \n",
              "\n",
              "[47427 rows x 3 columns]"
            ],
            "text/html": [
              "\n",
              "  <div id=\"df-e4d522b1-b06d-46b7-a931-adc8ebc8d7cc\" class=\"colab-df-container\">\n",
              "    <div>\n",
              "<style scoped>\n",
              "    .dataframe tbody tr th:only-of-type {\n",
              "        vertical-align: middle;\n",
              "    }\n",
              "\n",
              "    .dataframe tbody tr th {\n",
              "        vertical-align: top;\n",
              "    }\n",
              "\n",
              "    .dataframe thead th {\n",
              "        text-align: right;\n",
              "    }\n",
              "</style>\n",
              "<table border=\"1\" class=\"dataframe\">\n",
              "  <thead>\n",
              "    <tr style=\"text-align: right;\">\n",
              "      <th></th>\n",
              "      <th>cleaned_text</th>\n",
              "      <th>Tags</th>\n",
              "      <th>Tag_Number</th>\n",
              "    </tr>\n",
              "  </thead>\n",
              "  <tbody>\n",
              "    <tr>\n",
              "      <th>0</th>\n",
              "      <td>asp query stre dropdown webpage follow control...</td>\n",
              "      <td>c# asp.net</td>\n",
              "      <td>[0, 9]</td>\n",
              "    </tr>\n",
              "    <tr>\n",
              "      <th>1</th>\n",
              "      <td>run javascript code server java code want run ...</td>\n",
              "      <td>java javascript</td>\n",
              "      <td>[1, 3]</td>\n",
              "    </tr>\n",
              "    <tr>\n",
              "      <th>2</th>\n",
              "      <td>linq sql throw exception row find change hi li...</td>\n",
              "      <td>c# asp.net</td>\n",
              "      <td>[0, 9]</td>\n",
              "    </tr>\n",
              "    <tr>\n",
              "      <th>3</th>\n",
              "      <td>run python script php server run nginx web ser...</td>\n",
              "      <td>php python</td>\n",
              "      <td>[2, 7]</td>\n",
              "    </tr>\n",
              "    <tr>\n",
              "      <th>4</th>\n",
              "      <td>advice write function m try write function res...</td>\n",
              "      <td>javascript jquery</td>\n",
              "      <td>[3, 5]</td>\n",
              "    </tr>\n",
              "    <tr>\n",
              "      <th>...</th>\n",
              "      <td>...</td>\n",
              "      <td>...</td>\n",
              "      <td>...</td>\n",
              "    </tr>\n",
              "    <tr>\n",
              "      <th>47422</th>\n",
              "      <td>take value edittext put decimal point all- wor...</td>\n",
              "      <td>java android</td>\n",
              "      <td>[1, 4]</td>\n",
              "    </tr>\n",
              "    <tr>\n",
              "      <th>47423</th>\n",
              "      <td>listen phone state application nee liste phone...</td>\n",
              "      <td>java android</td>\n",
              "      <td>[1, 4]</td>\n",
              "    </tr>\n",
              "    <tr>\n",
              "      <th>47424</th>\n",
              "      <td>android ui thread thread task want access main...</td>\n",
              "      <td>java android</td>\n",
              "      <td>[1, 4]</td>\n",
              "    </tr>\n",
              "    <tr>\n",
              "      <th>47425</th>\n",
              "      <td>dynamic table row creation html javascript htm...</td>\n",
              "      <td>asp.net javascript</td>\n",
              "      <td>[9, 3]</td>\n",
              "    </tr>\n",
              "    <tr>\n",
              "      <th>47426</th>\n",
              "      <td>image preloader work ie follow code preload im...</td>\n",
              "      <td>javascript jquery</td>\n",
              "      <td>[3, 5]</td>\n",
              "    </tr>\n",
              "  </tbody>\n",
              "</table>\n",
              "<p>47427 rows × 3 columns</p>\n",
              "</div>\n",
              "    <div class=\"colab-df-buttons\">\n",
              "\n",
              "  <div class=\"colab-df-container\">\n",
              "    <button class=\"colab-df-convert\" onclick=\"convertToInteractive('df-e4d522b1-b06d-46b7-a931-adc8ebc8d7cc')\"\n",
              "            title=\"Convert this dataframe to an interactive table.\"\n",
              "            style=\"display:none;\">\n",
              "\n",
              "  <svg xmlns=\"http://www.w3.org/2000/svg\" height=\"24px\" viewBox=\"0 -960 960 960\">\n",
              "    <path d=\"M120-120v-720h720v720H120Zm60-500h600v-160H180v160Zm220 220h160v-160H400v160Zm0 220h160v-160H400v160ZM180-400h160v-160H180v160Zm440 0h160v-160H620v160ZM180-180h160v-160H180v160Zm440 0h160v-160H620v160Z\"/>\n",
              "  </svg>\n",
              "    </button>\n",
              "\n",
              "  <style>\n",
              "    .colab-df-container {\n",
              "      display:flex;\n",
              "      gap: 12px;\n",
              "    }\n",
              "\n",
              "    .colab-df-convert {\n",
              "      background-color: #E8F0FE;\n",
              "      border: none;\n",
              "      border-radius: 50%;\n",
              "      cursor: pointer;\n",
              "      display: none;\n",
              "      fill: #1967D2;\n",
              "      height: 32px;\n",
              "      padding: 0 0 0 0;\n",
              "      width: 32px;\n",
              "    }\n",
              "\n",
              "    .colab-df-convert:hover {\n",
              "      background-color: #E2EBFA;\n",
              "      box-shadow: 0px 1px 2px rgba(60, 64, 67, 0.3), 0px 1px 3px 1px rgba(60, 64, 67, 0.15);\n",
              "      fill: #174EA6;\n",
              "    }\n",
              "\n",
              "    .colab-df-buttons div {\n",
              "      margin-bottom: 4px;\n",
              "    }\n",
              "\n",
              "    [theme=dark] .colab-df-convert {\n",
              "      background-color: #3B4455;\n",
              "      fill: #D2E3FC;\n",
              "    }\n",
              "\n",
              "    [theme=dark] .colab-df-convert:hover {\n",
              "      background-color: #434B5C;\n",
              "      box-shadow: 0px 1px 3px 1px rgba(0, 0, 0, 0.15);\n",
              "      filter: drop-shadow(0px 1px 2px rgba(0, 0, 0, 0.3));\n",
              "      fill: #FFFFFF;\n",
              "    }\n",
              "  </style>\n",
              "\n",
              "    <script>\n",
              "      const buttonEl =\n",
              "        document.querySelector('#df-e4d522b1-b06d-46b7-a931-adc8ebc8d7cc button.colab-df-convert');\n",
              "      buttonEl.style.display =\n",
              "        google.colab.kernel.accessAllowed ? 'block' : 'none';\n",
              "\n",
              "      async function convertToInteractive(key) {\n",
              "        const element = document.querySelector('#df-e4d522b1-b06d-46b7-a931-adc8ebc8d7cc');\n",
              "        const dataTable =\n",
              "          await google.colab.kernel.invokeFunction('convertToInteractive',\n",
              "                                                    [key], {});\n",
              "        if (!dataTable) return;\n",
              "\n",
              "        const docLinkHtml = 'Like what you see? Visit the ' +\n",
              "          '<a target=\"_blank\" href=https://colab.research.google.com/notebooks/data_table.ipynb>data table notebook</a>'\n",
              "          + ' to learn more about interactive tables.';\n",
              "        element.innerHTML = '';\n",
              "        dataTable['output_type'] = 'display_data';\n",
              "        await google.colab.output.renderOutput(dataTable, element);\n",
              "        const docLink = document.createElement('div');\n",
              "        docLink.innerHTML = docLinkHtml;\n",
              "        element.appendChild(docLink);\n",
              "      }\n",
              "    </script>\n",
              "  </div>\n",
              "\n",
              "\n",
              "<div id=\"df-84eee772-d38c-4fca-8e58-8ad63f88b8bb\">\n",
              "  <button class=\"colab-df-quickchart\" onclick=\"quickchart('df-84eee772-d38c-4fca-8e58-8ad63f88b8bb')\"\n",
              "            title=\"Suggest charts\"\n",
              "            style=\"display:none;\">\n",
              "\n",
              "<svg xmlns=\"http://www.w3.org/2000/svg\" height=\"24px\"viewBox=\"0 0 24 24\"\n",
              "     width=\"24px\">\n",
              "    <g>\n",
              "        <path d=\"M19 3H5c-1.1 0-2 .9-2 2v14c0 1.1.9 2 2 2h14c1.1 0 2-.9 2-2V5c0-1.1-.9-2-2-2zM9 17H7v-7h2v7zm4 0h-2V7h2v10zm4 0h-2v-4h2v4z\"/>\n",
              "    </g>\n",
              "</svg>\n",
              "  </button>\n",
              "\n",
              "<style>\n",
              "  .colab-df-quickchart {\n",
              "      --bg-color: #E8F0FE;\n",
              "      --fill-color: #1967D2;\n",
              "      --hover-bg-color: #E2EBFA;\n",
              "      --hover-fill-color: #174EA6;\n",
              "      --disabled-fill-color: #AAA;\n",
              "      --disabled-bg-color: #DDD;\n",
              "  }\n",
              "\n",
              "  [theme=dark] .colab-df-quickchart {\n",
              "      --bg-color: #3B4455;\n",
              "      --fill-color: #D2E3FC;\n",
              "      --hover-bg-color: #434B5C;\n",
              "      --hover-fill-color: #FFFFFF;\n",
              "      --disabled-bg-color: #3B4455;\n",
              "      --disabled-fill-color: #666;\n",
              "  }\n",
              "\n",
              "  .colab-df-quickchart {\n",
              "    background-color: var(--bg-color);\n",
              "    border: none;\n",
              "    border-radius: 50%;\n",
              "    cursor: pointer;\n",
              "    display: none;\n",
              "    fill: var(--fill-color);\n",
              "    height: 32px;\n",
              "    padding: 0;\n",
              "    width: 32px;\n",
              "  }\n",
              "\n",
              "  .colab-df-quickchart:hover {\n",
              "    background-color: var(--hover-bg-color);\n",
              "    box-shadow: 0 1px 2px rgba(60, 64, 67, 0.3), 0 1px 3px 1px rgba(60, 64, 67, 0.15);\n",
              "    fill: var(--button-hover-fill-color);\n",
              "  }\n",
              "\n",
              "  .colab-df-quickchart-complete:disabled,\n",
              "  .colab-df-quickchart-complete:disabled:hover {\n",
              "    background-color: var(--disabled-bg-color);\n",
              "    fill: var(--disabled-fill-color);\n",
              "    box-shadow: none;\n",
              "  }\n",
              "\n",
              "  .colab-df-spinner {\n",
              "    border: 2px solid var(--fill-color);\n",
              "    border-color: transparent;\n",
              "    border-bottom-color: var(--fill-color);\n",
              "    animation:\n",
              "      spin 1s steps(1) infinite;\n",
              "  }\n",
              "\n",
              "  @keyframes spin {\n",
              "    0% {\n",
              "      border-color: transparent;\n",
              "      border-bottom-color: var(--fill-color);\n",
              "      border-left-color: var(--fill-color);\n",
              "    }\n",
              "    20% {\n",
              "      border-color: transparent;\n",
              "      border-left-color: var(--fill-color);\n",
              "      border-top-color: var(--fill-color);\n",
              "    }\n",
              "    30% {\n",
              "      border-color: transparent;\n",
              "      border-left-color: var(--fill-color);\n",
              "      border-top-color: var(--fill-color);\n",
              "      border-right-color: var(--fill-color);\n",
              "    }\n",
              "    40% {\n",
              "      border-color: transparent;\n",
              "      border-right-color: var(--fill-color);\n",
              "      border-top-color: var(--fill-color);\n",
              "    }\n",
              "    60% {\n",
              "      border-color: transparent;\n",
              "      border-right-color: var(--fill-color);\n",
              "    }\n",
              "    80% {\n",
              "      border-color: transparent;\n",
              "      border-right-color: var(--fill-color);\n",
              "      border-bottom-color: var(--fill-color);\n",
              "    }\n",
              "    90% {\n",
              "      border-color: transparent;\n",
              "      border-bottom-color: var(--fill-color);\n",
              "    }\n",
              "  }\n",
              "</style>\n",
              "\n",
              "  <script>\n",
              "    async function quickchart(key) {\n",
              "      const quickchartButtonEl =\n",
              "        document.querySelector('#' + key + ' button');\n",
              "      quickchartButtonEl.disabled = true;  // To prevent multiple clicks.\n",
              "      quickchartButtonEl.classList.add('colab-df-spinner');\n",
              "      try {\n",
              "        const charts = await google.colab.kernel.invokeFunction(\n",
              "            'suggestCharts', [key], {});\n",
              "      } catch (error) {\n",
              "        console.error('Error during call to suggestCharts:', error);\n",
              "      }\n",
              "      quickchartButtonEl.classList.remove('colab-df-spinner');\n",
              "      quickchartButtonEl.classList.add('colab-df-quickchart-complete');\n",
              "    }\n",
              "    (() => {\n",
              "      let quickchartButtonEl =\n",
              "        document.querySelector('#df-84eee772-d38c-4fca-8e58-8ad63f88b8bb button');\n",
              "      quickchartButtonEl.style.display =\n",
              "        google.colab.kernel.accessAllowed ? 'block' : 'none';\n",
              "    })();\n",
              "  </script>\n",
              "</div>\n",
              "\n",
              "  <div id=\"id_ce5d0037-9e6e-4670-91c1-f3fd26538a68\">\n",
              "    <style>\n",
              "      .colab-df-generate {\n",
              "        background-color: #E8F0FE;\n",
              "        border: none;\n",
              "        border-radius: 50%;\n",
              "        cursor: pointer;\n",
              "        display: none;\n",
              "        fill: #1967D2;\n",
              "        height: 32px;\n",
              "        padding: 0 0 0 0;\n",
              "        width: 32px;\n",
              "      }\n",
              "\n",
              "      .colab-df-generate:hover {\n",
              "        background-color: #E2EBFA;\n",
              "        box-shadow: 0px 1px 2px rgba(60, 64, 67, 0.3), 0px 1px 3px 1px rgba(60, 64, 67, 0.15);\n",
              "        fill: #174EA6;\n",
              "      }\n",
              "\n",
              "      [theme=dark] .colab-df-generate {\n",
              "        background-color: #3B4455;\n",
              "        fill: #D2E3FC;\n",
              "      }\n",
              "\n",
              "      [theme=dark] .colab-df-generate:hover {\n",
              "        background-color: #434B5C;\n",
              "        box-shadow: 0px 1px 3px 1px rgba(0, 0, 0, 0.15);\n",
              "        filter: drop-shadow(0px 1px 2px rgba(0, 0, 0, 0.3));\n",
              "        fill: #FFFFFF;\n",
              "      }\n",
              "    </style>\n",
              "    <button class=\"colab-df-generate\" onclick=\"generateWithVariable('multilabel_data')\"\n",
              "            title=\"Generate code using this dataframe.\"\n",
              "            style=\"display:none;\">\n",
              "\n",
              "  <svg xmlns=\"http://www.w3.org/2000/svg\" height=\"24px\"viewBox=\"0 0 24 24\"\n",
              "       width=\"24px\">\n",
              "    <path d=\"M7,19H8.4L18.45,9,17,7.55,7,17.6ZM5,21V16.75L18.45,3.32a2,2,0,0,1,2.83,0l1.4,1.43a1.91,1.91,0,0,1,.58,1.4,1.91,1.91,0,0,1-.58,1.4L9.25,21ZM18.45,9,17,7.55Zm-12,3A5.31,5.31,0,0,0,4.9,8.1,5.31,5.31,0,0,0,1,6.5,5.31,5.31,0,0,0,4.9,4.9,5.31,5.31,0,0,0,6.5,1,5.31,5.31,0,0,0,8.1,4.9,5.31,5.31,0,0,0,12,6.5,5.46,5.46,0,0,0,6.5,12Z\"/>\n",
              "  </svg>\n",
              "    </button>\n",
              "    <script>\n",
              "      (() => {\n",
              "      const buttonEl =\n",
              "        document.querySelector('#id_ce5d0037-9e6e-4670-91c1-f3fd26538a68 button.colab-df-generate');\n",
              "      buttonEl.style.display =\n",
              "        google.colab.kernel.accessAllowed ? 'block' : 'none';\n",
              "\n",
              "      buttonEl.onclick = () => {\n",
              "        google.colab.notebook.generateWithVariable('multilabel_data');\n",
              "      }\n",
              "      })();\n",
              "    </script>\n",
              "  </div>\n",
              "\n",
              "    </div>\n",
              "  </div>\n"
            ],
            "application/vnd.google.colaboratory.intrinsic+json": {
              "type": "dataframe",
              "variable_name": "multilabel_data",
              "summary": "{\n  \"name\": \"multilabel_data\",\n  \"rows\": 47427,\n  \"fields\": [\n    {\n      \"column\": \"cleaned_text\",\n      \"properties\": {\n        \"dtype\": \"string\",\n        \"num_unique_values\": 36481,\n        \"samples\": [\n          \"fadein invisible list item jquery unordered list lis invisible display begin want specific li visible js function try $ list li nth child(1)\\\").fadein work ul visible begin code > li      display   < ul class=\\\"hide id=\\\"my list >      < li>1</li >      < li>2</li >      < li>3</li > < /ul >   try answer question feel free stab\",\n          \"deploy project server create website excel file mail d information mail d fetch excel file excel file send mail automatically mail d design subject cc bcc content create project export excel file fetch mail d ms access database send email automatically design deploy project ftp.i know create help regard padmapriya s  \",\n          \"custom keypad button functional app finish scoreboard app   user longclick score currently dialog box appear show edittext field ok cancel button   user click edittext field keypad appear number user type new score click edittext field show new value dialog box user click ok save enter value textview show current score problem feel cumbersome   like happen   user longclick score keypad appear user enter new score user click ok keypad disappear value save textview update current score   order accomplish think thing   create new class extend view new android understand option replace edittext dialog new xml file design like keypad   option 2   figure probably easy design xml layout call   user longclick file inflate dialog ok cancel   far good   know code button action thought figure setup onclick listener button layout   figure button go perform exact function   basically text button case 0 9 append textview keypad   user click ok save textview current score textview help point right direction accomplish screenshot textview number   xml code < xml version=\\\"1.0 encoding=\\\"utf-8 > < gridlayout xmlns apk res android android layout_width=\\\"wrap_content android layout_height=\\\"wrap_content android layout_gravity=\\\"fill android columncount=\\\"3 >   < textview      android id=\\\"@+id textview1      android layout_columnspan=\\\"3      android layout_gravity=\\\"fill      android gravity=\\\"right|center_vertical      android textsize=\\\"24sp >   < button android text=\\\"1 >   < button android text=\\\"2 >   < button android text=\\\"3 > < button android text=\\\"4 > < button android text=\\\"5 > < button android text=\\\"6 > < button android text=\\\"7 > < button android text=\\\"8 > < button android text=\\\"9 >   < button      android layout_columnspan=\\\"3      android layout_gravity=\\\"fill      android gravity=\\\"center      android text=\\\"0 >   \"\n        ],\n        \"semantic_type\": \"\",\n        \"description\": \"\"\n      }\n    },\n    {\n      \"column\": \"Tags\",\n      \"properties\": {\n        \"dtype\": \"category\",\n        \"num_unique_values\": 176,\n        \"samples\": [\n          \"javascript asp.net\",\n          \"c# asp.net jquery\",\n          \"c# java python\"\n        ],\n        \"semantic_type\": \"\",\n        \"description\": \"\"\n      }\n    },\n    {\n      \"column\": \"Tag_Number\",\n      \"properties\": {\n        \"dtype\": \"category\",\n        \"num_unique_values\": 176,\n        \"samples\": [\n          \"[3, 9]\",\n          \"[0, 9, 5]\",\n          \"[0, 1, 7]\"\n        ],\n        \"semantic_type\": \"\",\n        \"description\": \"\"\n      }\n    }\n  ]\n}"
            }
          },
          "metadata": {},
          "execution_count": 94
        }
      ]
    },
    {
      "cell_type": "code",
      "source": [
        "#Converting labels from Object to Integer\n",
        "multilabel_data[\"Tag_Number\"] = multilabel_data[\"Tag_Number\"].apply(ast.literal_eval)"
      ],
      "metadata": {
        "id": "XMi-d65QFeKK"
      },
      "execution_count": null,
      "outputs": []
    },
    {
      "cell_type": "code",
      "source": [
        "X = multilabel_data.drop([\"Tags\",\"Tag_Number\"],axis=1).values.tolist()\n",
        "y = multilabel_data[\"Tag_Number\"].values\n",
        "X = list(map(str,X))"
      ],
      "metadata": {
        "id": "u8DnFh7CFhn4"
      },
      "execution_count": null,
      "outputs": []
    },
    {
      "cell_type": "code",
      "source": [
        "type(X)"
      ],
      "metadata": {
        "colab": {
          "base_uri": "https://localhost:8080/"
        },
        "id": "i5h-T8chFmqr",
        "outputId": "d3be1c79-23a7-4355-985c-571f7778659f"
      },
      "execution_count": null,
      "outputs": [
        {
          "output_type": "execute_result",
          "data": {
            "text/plain": [
              "list"
            ]
          },
          "metadata": {},
          "execution_count": 97
        }
      ]
    },
    {
      "cell_type": "code",
      "source": [
        "# X"
      ],
      "metadata": {
        "id": "vyMHweURAwLV"
      },
      "execution_count": null,
      "outputs": []
    },
    {
      "cell_type": "code",
      "source": [
        "type(y)"
      ],
      "metadata": {
        "colab": {
          "base_uri": "https://localhost:8080/"
        },
        "id": "f8foug1548Cy",
        "outputId": "0926bb13-36bc-4609-a076-8d8db6c9443e"
      },
      "execution_count": null,
      "outputs": [
        {
          "output_type": "execute_result",
          "data": {
            "text/plain": [
              "numpy.ndarray"
            ]
          },
          "metadata": {},
          "execution_count": 99
        }
      ]
    },
    {
      "cell_type": "code",
      "source": [
        "mlb = MultiLabelBinarizer()\n",
        "y = mlb.fit_transform(y)"
      ],
      "metadata": {
        "id": "wbWJQkvPzWRg"
      },
      "execution_count": null,
      "outputs": []
    },
    {
      "cell_type": "code",
      "source": [
        "print(y)"
      ],
      "metadata": {
        "colab": {
          "base_uri": "https://localhost:8080/"
        },
        "id": "bZ7FsMcdzZXA",
        "outputId": "4654c1b8-bbeb-44b4-8b7a-509c91a500d0"
      },
      "execution_count": null,
      "outputs": [
        {
          "output_type": "stream",
          "name": "stdout",
          "text": [
            "[[1 0 0 ... 0 0 1]\n",
            " [0 1 0 ... 0 0 0]\n",
            " [1 0 0 ... 0 0 1]\n",
            " ...\n",
            " [0 1 0 ... 0 0 0]\n",
            " [0 0 0 ... 0 0 1]\n",
            " [0 0 0 ... 0 0 0]]\n"
          ]
        }
      ]
    },
    {
      "cell_type": "code",
      "source": [
        "type(y)"
      ],
      "metadata": {
        "colab": {
          "base_uri": "https://localhost:8080/"
        },
        "id": "s7Ao4Q8-FqC8",
        "outputId": "58cb334b-92fb-4bef-dbd2-39cb36121336"
      },
      "execution_count": null,
      "outputs": [
        {
          "output_type": "execute_result",
          "data": {
            "text/plain": [
              "numpy.ndarray"
            ]
          },
          "metadata": {},
          "execution_count": 102
        }
      ]
    },
    {
      "cell_type": "code",
      "source": [
        "\n",
        "X1_train,X1_temp,y1_train,y1_temp = train_test_split(X,y,test_size=0.4,random_state=42)\n"
      ],
      "metadata": {
        "id": "RgiapeABF0NR"
      },
      "execution_count": null,
      "outputs": []
    },
    {
      "cell_type": "code",
      "source": [
        "X1_val,X1_test,y1_val,y1_test = train_test_split(X1_temp,y1_temp,test_size=0.5,random_state=42)"
      ],
      "metadata": {
        "id": "OLgBFMbfF-oG"
      },
      "execution_count": null,
      "outputs": []
    },
    {
      "cell_type": "markdown",
      "source": [
        "# Vectorizer"
      ],
      "metadata": {
        "id": "H4ay1gCmLx3r"
      }
    },
    {
      "cell_type": "code",
      "source": [
        "X1_df = [X1_train,X1_val, X1_test]"
      ],
      "metadata": {
        "id": "jAh9rGhYMxmy"
      },
      "execution_count": null,
      "outputs": []
    },
    {
      "cell_type": "code",
      "source": [
        "vectorizer = TfidfVectorizer(max_features=5000)\n",
        "\n",
        "X_tfidf_vectors = [vectorizer.fit_transform(text).toarray() for text in X1_df]\n",
        "X_tensors = [torch.tensor(vector, dtype=torch.float32) for vector in X_tfidf_vectors]\n",
        "\n",
        "# X1_tfidf_train = torch.tensor(vectorizer.fit_transform(X1_train_cleaned).toarray(), dtype=torch.float32)\n",
        "# X1_tfidf_val = torch.tensor(vectorizer.transform(X1_val_cleaned).toarray(), dtype=torch.float32)\n",
        "# X1_tfidf_test = torch.tensor(vectorizer.transform(X1_test_cleaned).toarray(), dtype=torch.float32)\n",
        "X1_tfidf_train, X1_tfidf_val, X1_tfidf_test = X_tensors\n",
        "# X1_tfidf_train = vectorizer.fit_transform(X1_train_cleaned)\n",
        "# X1_tfidf_val = vectorizer.transform(X1_val_cleaned)\n",
        "# X1_tfidf_test =  vectorizer.transform(X1_test_cleaned)"
      ],
      "metadata": {
        "id": "tijec2D2Qhd1"
      },
      "execution_count": null,
      "outputs": []
    },
    {
      "cell_type": "code",
      "source": [
        "print(X1_tfidf_train.shape)\n",
        "print(X1_tfidf_val.dtype)\n",
        "print(X1_tfidf_val.shape)\n",
        "print(X1_tfidf_test.shape)"
      ],
      "metadata": {
        "colab": {
          "base_uri": "https://localhost:8080/"
        },
        "id": "Rx-oFz4zqIR3",
        "outputId": "80307657-f0bf-454d-88de-1db38d8a628c"
      },
      "execution_count": null,
      "outputs": [
        {
          "output_type": "stream",
          "name": "stdout",
          "text": [
            "torch.Size([28456, 5000])\n",
            "torch.float32\n",
            "torch.Size([9485, 5000])\n",
            "torch.Size([9486, 5000])\n"
          ]
        }
      ]
    },
    {
      "cell_type": "code",
      "source": [
        "print(X1_tfidf_train)"
      ],
      "metadata": {
        "colab": {
          "base_uri": "https://localhost:8080/"
        },
        "id": "nI_Vq2CO_nau",
        "outputId": "e9d84632-3810-4d39-a25f-f46c007cc226"
      },
      "execution_count": null,
      "outputs": [
        {
          "output_type": "stream",
          "name": "stdout",
          "text": [
            "tensor([[0., 0., 0.,  ..., 0., 0., 0.],\n",
            "        [0., 0., 0.,  ..., 0., 0., 0.],\n",
            "        [0., 0., 0.,  ..., 0., 0., 0.],\n",
            "        ...,\n",
            "        [0., 0., 0.,  ..., 0., 0., 0.],\n",
            "        [0., 0., 0.,  ..., 0., 0., 0.],\n",
            "        [0., 0., 0.,  ..., 0., 0., 0.]])\n"
          ]
        }
      ]
    },
    {
      "cell_type": "code",
      "source": [
        "X1_tfidf_train.shape"
      ],
      "metadata": {
        "colab": {
          "base_uri": "https://localhost:8080/"
        },
        "id": "4Dj-zU5bQmsr",
        "outputId": "5d9d024e-adac-4dd0-f225-d6973c4714d1"
      },
      "execution_count": null,
      "outputs": [
        {
          "output_type": "execute_result",
          "data": {
            "text/plain": [
              "torch.Size([28456, 5000])"
            ]
          },
          "metadata": {},
          "execution_count": 109
        }
      ]
    },
    {
      "cell_type": "markdown",
      "source": [
        "# Custom Dataset class"
      ],
      "metadata": {
        "id": "5FvxhWORQ4DU"
      }
    },
    {
      "cell_type": "code",
      "source": [
        "class CustomDataset(torch.utils.data.Dataset):\n",
        "\n",
        "    def __init__(self, X, y):\n",
        "\n",
        "        # Storing feature data (texts)\n",
        "        self.X = X\n",
        "\n",
        "        # Storing the target labels\n",
        "        self.y = y\n",
        "\n",
        "    def __len__(self):\n",
        "\n",
        "        return len(self.X)\n",
        "\n",
        "    def __getitem__(self, idx):\n",
        "\n",
        "        # Retrieve the text and corresponding label from the dataset using the index\n",
        "        texts = self.X[idx]\n",
        "        labels = self.y[idx]\n",
        "\n",
        "        # Packing them into a tuple before returning\n",
        "        sample = (texts, labels)\n",
        "\n",
        "        return sample\n"
      ],
      "metadata": {
        "id": "BiDj02xGRMNI"
      },
      "execution_count": null,
      "outputs": []
    },
    {
      "cell_type": "code",
      "source": [
        "y1_train = torch.tensor(y1_train, dtype = torch.float32)\n",
        "y1_val = torch.tensor(y1_val, dtype = torch.float32)\n",
        "y1_test = torch.tensor(y1_test, dtype = torch.float32)"
      ],
      "metadata": {
        "id": "r4GXIPZl8EMm"
      },
      "execution_count": null,
      "outputs": []
    },
    {
      "cell_type": "code",
      "source": [
        "trainset1 = CustomDataset(X1_tfidf_train,y1_train)\n",
        "validationset1 = CustomDataset(X1_tfidf_val,y1_val)\n",
        "testset1 = CustomDataset(X1_tfidf_test,y1_test)"
      ],
      "metadata": {
        "id": "fE6NPrpnQtZK"
      },
      "execution_count": null,
      "outputs": []
    },
    {
      "cell_type": "code",
      "source": [
        "trainset1[0:5]"
      ],
      "metadata": {
        "colab": {
          "base_uri": "https://localhost:8080/"
        },
        "id": "-RtMdGBkR1ut",
        "outputId": "9866fb2c-ef5f-4ce1-b8a1-83bd8c978369"
      },
      "execution_count": null,
      "outputs": [
        {
          "output_type": "execute_result",
          "data": {
            "text/plain": [
              "(tensor([[0., 0., 0.,  ..., 0., 0., 0.],\n",
              "         [0., 0., 0.,  ..., 0., 0., 0.],\n",
              "         [0., 0., 0.,  ..., 0., 0., 0.],\n",
              "         [0., 0., 0.,  ..., 0., 0., 0.],\n",
              "         [0., 0., 0.,  ..., 0., 0., 0.]]),\n",
              " tensor([[0., 0., 1., 1., 0., 1., 0., 0., 0., 0.],\n",
              "         [1., 0., 0., 0., 0., 0., 0., 0., 0., 1.],\n",
              "         [0., 0., 1., 1., 0., 0., 0., 0., 0., 0.],\n",
              "         [1., 0., 0., 0., 0., 0., 0., 0., 0., 1.],\n",
              "         [0., 0., 0., 0., 0., 1., 0., 0., 0., 1.]]))"
            ]
          },
          "metadata": {},
          "execution_count": 113
        }
      ]
    },
    {
      "cell_type": "markdown",
      "source": [
        "# Step Function"
      ],
      "metadata": {
        "id": "L7aCCz0OSHP8"
      }
    },
    {
      "cell_type": "code",
      "source": [
        "def step( model, inputs, targets, device, loss_function, optimizer=None, clip_value = None):\n",
        "    \"\"\"\n",
        "    Performs a forward and backward pass for a given batch of inputs and targets.\n",
        "\n",
        "    Parameters:\n",
        "    - inputs (torch.Tensor): The input data for the model.\n",
        "    - targets (torch.Tensor): The true labels for the input data.\n",
        "    - model (torch.nn.Module): The neural network model.\n",
        "    - device (torch.device): The computing device (CPU or GPU).\n",
        "    - loss_function (torch.nn.Module, optional): The loss function to use.\n",
        "    - optimizer (torch.optim.Optimizer, optional): The optimizer to update model parameters.\n",
        "\n",
        "    Returns:\n",
        "    - loss (float): The computed loss value (only if loss_function is not None).\n",
        "    - outputs (torch.Tensor): The predictions from the model.\n",
        "    - correct (int): The number of correctly classified samples in the batch.\n",
        "    \"\"\"\n",
        "    # Move the model and data to the device\n",
        "    # train_metric.to(device)\n",
        "    # model = model.to(device)\n",
        "    # inputs = inputs.to(device)\n",
        "\n",
        "    # targets = targets.to(device)\n",
        "\n",
        "    # Step 1: Forward pass to get the model's predictions\n",
        "    outputs = model(inputs)\n",
        "\n",
        "    # Step 2a: Compute the loss using the provided loss function\n",
        "    if loss_function:\n",
        "        loss = loss_function(outputs, targets)\n",
        "\n",
        "    # Step 2b: Calculate the number of correctly classified samples\n",
        "    # predicted = torch.argmax(outputs.data, 1)\n",
        "    # correct = (predicted == targets).sum().item()\n",
        "    with torch.no_grad():\n",
        "      y_pred = (outputs.data > 0.5).float()\n",
        "      train_metric.update(y_pred,targets)\n",
        "    # Step 3 and 4: Perform backward pass and update model parameters if an optimizer is provided\n",
        "    if optimizer:\n",
        "        optimizer.zero_grad()\n",
        "        loss.backward()\n",
        "        nn.utils.clip_grad_value_(model.parameters(),clip_value=CLIP_VALUE)\n",
        "        optimizer.step()\n",
        "\n",
        "    # Return relevant metrics\n",
        "    if loss_function:\n",
        "        return loss, outputs, train_metric\n",
        "    else:\n",
        "        return None, outputs, train_metric\n"
      ],
      "metadata": {
        "id": "oxL5RD6ASN-D"
      },
      "execution_count": null,
      "outputs": []
    },
    {
      "cell_type": "markdown",
      "source": [
        "# Train epoch"
      ],
      "metadata": {
        "id": "aOmJIo4LUG2S"
      }
    },
    {
      "cell_type": "code",
      "source": [
        "def train_epoch(train_loader,model,device,loss_function,optimizer):\n",
        "  model.train()\n",
        "  running_train_loss = 0.0\n",
        "  for inputs,targets in train_loader:\n",
        "    loss,_,hammingdistance = step(model,inputs,targets,device,loss_function,optimizer)\n",
        "    running_train_loss += loss.item()\n",
        "    train_epoch_hammingdistance = hammingdistance.compute()\n",
        "  train_loss = running_train_loss/len(train_loader)\n",
        "  return train_loss,train_epoch_hammingdistance"
      ],
      "metadata": {
        "id": "xBHjNhAdUMmR"
      },
      "execution_count": null,
      "outputs": []
    },
    {
      "cell_type": "markdown",
      "source": [
        "# Val epoch"
      ],
      "metadata": {
        "id": "eZ9QM24nUOwV"
      }
    },
    {
      "cell_type": "code",
      "source": [
        "def val_epoch(val_loader,model,device,loss_function):\n",
        "  model.eval()\n",
        "  running_val_loss = 0.0\n",
        "  with torch.no_grad():\n",
        "    for inputs,targets in val_loader:\n",
        "      loss,_,hammingdistance = step(model,inputs,targets,device,loss_function)\n",
        "      running_val_loss += loss.item()\n",
        "      val_epoch_hammingdistance = hammingdistance.compute()\n",
        "    val_loss = running_val_loss/len(val_loader)\n",
        "  return val_loss,val_epoch_hammingdistance"
      ],
      "metadata": {
        "id": "Xy-WYUNIUNnJ"
      },
      "execution_count": null,
      "outputs": []
    },
    {
      "cell_type": "markdown",
      "source": [
        "# Train"
      ],
      "metadata": {
        "id": "lClu0vKoUXyV"
      }
    },
    {
      "cell_type": "code",
      "source": [
        "def train(train_loader,val_loader,model,device,loss_function,optimizer,epochs):\n",
        "  train_loss_history = []\n",
        "  val_loss_history = []\n",
        "  train_hd_history = []\n",
        "  val_hd_history = []\n",
        "  for epoch in range(epochs):\n",
        "    train_loss,train_hamm = train_epoch(train_loader,model,device,loss_function,optimizer)\n",
        "    val_loss,val_hamm = val_epoch(val_loader,model,device,loss_function)\n",
        "    train_loss_history.append(train_loss)\n",
        "    val_loss_history.append(val_loss)\n",
        "    train_hd_history.append(train_hamm)\n",
        "    val_hd_history.append(val_hamm)\n",
        "    print(f\"Epoch {epoch+1}/{epochs}\")\n",
        "    print(f\"Train Loss: {train_loss:.4f} | Train Hamming Distance: {train_hamm:.4f}\")\n",
        "    print(f\"Valid Loss: {val_loss:.4f} | Valid Hamming Distance: {val_hamm:.4f}\")\n",
        "    print()\n",
        "\n",
        "  return train_loss_history,val_loss_history,train_hd_history,val_hd_history\n"
      ],
      "metadata": {
        "id": "-hkj48enUrv1"
      },
      "execution_count": null,
      "outputs": []
    },
    {
      "cell_type": "markdown",
      "source": [
        "# Network"
      ],
      "metadata": {
        "id": "VZYigeh3VcPl"
      }
    },
    {
      "cell_type": "code",
      "source": [
        "class custom_nnpb(nn.Module):\n",
        "    def __init__(self, input_dim, hidden_dim1,hidden_dim2,drop_prob1,drop_prob2,output_dim):\n",
        "        super().__init__()\n",
        "        self.hidden1 = nn.Linear(input_dim, hidden_dim1)\n",
        "        self.dropout1 = nn.Dropout(p = drop_prob1)\n",
        "        self.batchnorm1 = nn.BatchNorm1d(num_features=hidden_dim1)\n",
        "        self.hidden2 = nn.Linear(hidden_dim1, hidden_dim2)\n",
        "        self.dropout2 = nn.Dropout(p = drop_prob2)\n",
        "        self.batchnorm2 = nn.BatchNorm1d(num_features=hidden_dim2)\n",
        "        self.output = nn.Linear(hidden_dim2, output_dim)\n",
        "\n",
        "    def forward(self, x):\n",
        "\n",
        "        x = self.hidden1(x)\n",
        "        x = nn.ReLU()(x)\n",
        "        x = self.dropout1(x)\n",
        "        x = self.batchnorm1(x)\n",
        "        x = self.hidden2(x)\n",
        "        x = nn.ReLU()(x)\n",
        "        x = self.dropout2(x)\n",
        "        x = self.batchnorm2(x)\n",
        "        x = self.output(x)\n",
        "\n",
        "        return x"
      ],
      "metadata": {
        "id": "eE7iTPi3UtZu"
      },
      "execution_count": null,
      "outputs": []
    },
    {
      "cell_type": "markdown",
      "source": [
        "# Hyper-parameter"
      ],
      "metadata": {
        "id": "oENB4aGTWASU"
      }
    },
    {
      "cell_type": "code",
      "source": [
        "INPUT_DIM=5000\n",
        "HIDDEN_DIM1=200\n",
        "HIDDEN_DIM2=100\n",
        "DROP_PROB1=0.5\n",
        "DROP_PROB2=0.5\n",
        "NUM_OUTPUTS = 10\n",
        "EPOCHS=5\n",
        "BATCH_SIZE=128\n",
        "LEARNING_RATE=0.001\n",
        "WEIGHT_DECAY=0.000\n",
        "CLIP_VALUE = 10"
      ],
      "metadata": {
        "id": "hxKnS4dvWF_7"
      },
      "execution_count": null,
      "outputs": []
    },
    {
      "cell_type": "markdown",
      "source": [
        "# Training Configuration"
      ],
      "metadata": {
        "id": "KY1gIntlWdTF"
      }
    },
    {
      "cell_type": "code",
      "source": [
        "# Define the loss function for the model\n",
        "loss_function = torch.nn.BCEWithLogitsLoss()"
      ],
      "metadata": {
        "id": "7MaOAIX-WiPT"
      },
      "execution_count": null,
      "outputs": []
    },
    {
      "cell_type": "code",
      "source": [
        "SEED = 254\n",
        "random.seed(SEED)\n",
        "np.random.seed(SEED)\n",
        "torch.manual_seed(SEED)\n",
        "torch.cuda.manual_seed(SEED)\n",
        "torch.backends.cudnn.deterministic = True\n",
        "train_loader = torch.utils.data.DataLoader(trainset1,batch_size=BATCH_SIZE,shuffle=False)\n",
        "val_loader = torch.utils.data.DataLoader(validationset1,batch_size=BATCH_SIZE,shuffle=False)\n",
        "test_loader = torch.utils.data.DataLoader(testset1,batch_size=BATCH_SIZE,shuffle=False)\n",
        "model_stack_ex = custom_nnpb(input_dim=INPUT_DIM,\n",
        "                       hidden_dim1=HIDDEN_DIM1,\n",
        "                       hidden_dim2=HIDDEN_DIM2,\n",
        "                       drop_prob1=DROP_PROB1,\n",
        "                       drop_prob2=DROP_PROB2,\n",
        "                       output_dim=NUM_OUTPUTS)\n",
        "optimizer = torch.optim.AdamW(model_stack_ex.parameters(), lr=LEARNING_RATE)\n",
        "train_metric = HammingDistance(task=\"multilabel\", num_labels=10)\n",
        "device = torch.device('cuda:0' if torch.cuda.is_available() else 'cpu')"
      ],
      "metadata": {
        "id": "3FLjAtnQXV6-"
      },
      "execution_count": null,
      "outputs": []
    },
    {
      "cell_type": "code",
      "source": [
        "print(len(train_loader))"
      ],
      "metadata": {
        "colab": {
          "base_uri": "https://localhost:8080/"
        },
        "id": "luhjWO57gebF",
        "outputId": "4bc361cc-482e-4870-e80c-6a979144be8e"
      },
      "execution_count": null,
      "outputs": [
        {
          "output_type": "stream",
          "name": "stdout",
          "text": [
            "223\n"
          ]
        }
      ]
    },
    {
      "cell_type": "markdown",
      "source": [
        "# Sanity Check"
      ],
      "metadata": {
        "id": "7SyKYCnsXavW"
      }
    },
    {
      "cell_type": "code",
      "source": [
        "# for inputs, targets in train_loader:\n",
        "#     #Move inputs and targets to the CPU.\n",
        "#     inputs = inputs.to(device)\n",
        "#     print(inputs)\n",
        "#     print(inputs.shape)\n",
        "#     targets = targets.to(device)\n",
        "#     print(targets)\n",
        "#     print(targets.shape)\n",
        "#     model_stack_ex = model_stack_ex.to(device)\n",
        "#     model_stack_ex.eval()\n",
        "#     print(f'Input data type: {inputs.dtype}')\n",
        "#     print(f'Target data type: {targets.dtype}')\n",
        "#     with torch.no_grad():\n",
        "#         output = model_stack_ex(inputs)\n",
        "#         print(\"Output type\",output.dtype)\n",
        "#         print(loss_function)\n",
        "#         loss = loss_function(output, targets)\n",
        "#         print(f'Actual loss: {loss.item()}')\n",
        "#     break\n",
        "\n",
        "# print(f'Expected Theoretical loss: {np.log(2)}')\n"
      ],
      "metadata": {
        "id": "zYoxmgrtXepB"
      },
      "execution_count": null,
      "outputs": []
    },
    {
      "cell_type": "code",
      "source": [
        "train_losses, train_dist, valid_losses, valid_dist = train(\n",
        "    train_loader, val_loader, model_stack_ex, device, loss_function, optimizer,EPOCHS\n",
        ")"
      ],
      "metadata": {
        "colab": {
          "base_uri": "https://localhost:8080/"
        },
        "id": "vAqYcISRapii",
        "outputId": "8535212f-dfb9-477c-b4c8-ff5647bd9282"
      },
      "execution_count": null,
      "outputs": [
        {
          "output_type": "stream",
          "name": "stdout",
          "text": [
            "Epoch 1/5\n",
            "Train Loss: 0.3523 | Train Hamming Distance: 0.0917\n",
            "Valid Loss: 0.5158 | Valid Hamming Distance: 0.1262\n",
            "\n",
            "Epoch 2/5\n",
            "Train Loss: 0.1372 | Train Hamming Distance: 0.0936\n",
            "Valid Loss: 0.5958 | Valid Hamming Distance: 0.1116\n",
            "\n",
            "Epoch 3/5\n",
            "Train Loss: 0.1093 | Train Hamming Distance: 0.0923\n",
            "Valid Loss: 0.6694 | Valid Hamming Distance: 0.1047\n",
            "\n",
            "Epoch 5/5\n",
            "Train Loss: 0.0831 | Train Hamming Distance: 0.0897\n",
            "Valid Loss: 0.7798 | Valid Hamming Distance: 0.0976\n",
            "\n"
          ]
        }
      ]
    },
    {
      "cell_type": "markdown",
      "source": [
        "# Plot losses and metrics"
      ],
      "metadata": {
        "id": "xkWpnSS8eeex"
      }
    },
    {
      "cell_type": "code",
      "source": [
        "def plot_history(train_losses, train_metrics, valid_losses=None, val_metrics=None):\n",
        "\n",
        "    # Determine the number of epochs based on the length of train_losses\n",
        "    epochs = range(1, len(train_losses) + 1)\n",
        "\n",
        "    # Plotting training and validation losses\n",
        "    plt.figure()\n",
        "    plt.plot(epochs, train_losses, label=\"Train\")  # Plot training losses\n",
        "    if valid_losses:  # Check if validation losses are provided\n",
        "        plt.plot(epochs, valid_losses, label=\"Validation\")  # Plot validation losses\n",
        "    plt.xlabel(\"Epochs\")\n",
        "    plt.ylabel(\"Loss\")\n",
        "    plt.legend()\n",
        "    plt.show()\n",
        "\n",
        "    # Plotting training and validation metrics\n",
        "    if train_metrics[0] is not None:  # Check if training metrics are available\n",
        "        plt.figure()\n",
        "        plt.plot(epochs, train_metrics, label=\"Train\")  # Plot training metrics\n",
        "        if val_metrics:  # Check if validation metrics are provided\n",
        "            plt.plot(epochs, val_metrics, label=\"Validation\")  # Plot validation metrics\n",
        "        plt.xlabel(\"Epochs\")\n",
        "        plt.ylabel(\"Metric-Hamming Distance\")\n",
        "        plt.legend()\n",
        "        plt.show()\n",
        "    return train_losses\n"
      ],
      "metadata": {
        "id": "ke_YjjDDeh9M"
      },
      "execution_count": null,
      "outputs": []
    },
    {
      "cell_type": "code",
      "source": [
        "print(valid_losses)"
      ],
      "metadata": {
        "colab": {
          "base_uri": "https://localhost:8080/"
        },
        "id": "7GnUEhvu-lyP",
        "outputId": "79a49af6-fba2-4104-9589-55603ce64abc"
      },
      "execution_count": null,
      "outputs": [
        {
          "output_type": "stream",
          "name": "stdout",
          "text": [
            "[tensor(0.0917), tensor(0.0936), tensor(0.0923), tensor(0.0907), tensor(0.0897)]\n"
          ]
        }
      ]
    },
    {
      "cell_type": "code",
      "source": [
        "plot_history(train_losses, train_dist, valid_losses, valid_dist)"
      ],
      "metadata": {
        "colab": {
          "base_uri": "https://localhost:8080/",
          "height": 973
        },
        "id": "bcwXTglY2F3g",
        "outputId": "9cd5fbaf-63d9-4d5e-f0e5-e2de0f41339c"
      },
      "execution_count": null,
      "outputs": [
        {
          "output_type": "display_data",
          "data": {
            "text/plain": [
              "<Figure size 640x480 with 1 Axes>"
            ],
            "image/png": "[encoded data removed]"
          },
          "metadata": {}
        },
        {
          "output_type": "display_data",
          "data": {
            "text/plain": [
              "<Figure size 640x480 with 1 Axes>"
            ],
            "image/png": "[encoded data removed]"
          },
          "metadata": {}
        },
        {
          "output_type": "execute_result",
          "data": {
            "text/plain": [
              "[0.3522613000442094,\n",
              " 0.13715495356262533,\n",
              " 0.10927950527368639,\n",
              " 0.09304976239466346,\n",
              " 0.0831439613527514]"
            ]
          },
          "metadata": {},
          "execution_count": 127
        }
      ]
    },
    {
      "cell_type": "code",
      "source": [
        "timestamp = datetime.now().strftime(\"%Y-%m-%d_%H-%M-%S\")\n",
        "suffix = 'hw4-b'\n",
        "path = modelfolder / f'{timestamp}_{suffix}.pt'\n",
        "path\n"
      ],
      "metadata": {
        "colab": {
          "base_uri": "https://localhost:8080/"
        },
        "id": "Zbl-jJxJ2iNr",
        "outputId": "2170e6b9-a65b-49e4-d026-c15681c86abd"
      },
      "execution_count": null,
      "outputs": [
        {
          "output_type": "execute_result",
          "data": {
            "text/plain": [
              "PosixPath('/content/drive/MyDrive/NLP/Assignment_4/Model/2024-03-05_00-24-22_hw4-b.pt')"
            ]
          },
          "metadata": {},
          "execution_count": 128
        }
      ]
    },
    {
      "cell_type": "code",
      "source": [
        "torch.save(model_stack_ex.state_dict(), path)\n"
      ],
      "metadata": {
        "id": "LNQ8GFBA2pMD"
      },
      "execution_count": null,
      "outputs": []
    },
    {
      "cell_type": "code",
      "source": [
        "model_stack_ex_1 = custom_nnpb(input_dim=INPUT_DIM,\n",
        "                       hidden_dim1=HIDDEN_DIM1,\n",
        "                       hidden_dim2=HIDDEN_DIM2,\n",
        "                       drop_prob1=DROP_PROB1,\n",
        "                       drop_prob2=DROP_PROB2,\n",
        "                       output_dim=NUM_OUTPUTS)\n",
        "checkpoint = torch.load(path)\n",
        "model_stack_ex_1.load_state_dict(checkpoint)\n"
      ],
      "metadata": {
        "colab": {
          "base_uri": "https://localhost:8080/"
        },
        "id": "hPtyjf7J2yBB",
        "outputId": "faf0aae8-b49f-4df2-ff10-d1bc02be8d46"
      },
      "execution_count": null,
      "outputs": [
        {
          "output_type": "execute_result",
          "data": {
            "text/plain": [
              "<All keys matched successfully>"
            ]
          },
          "metadata": {},
          "execution_count": 130
        }
      ]
    },
    {
      "cell_type": "code",
      "source": [
        "def get_acc_pred(data_loader, model, device):\n",
        "   train_metric.to(device)\n",
        "   model = model.to(device)\n",
        "   model.eval()\n",
        "   predictions = torch.Tensor().to(device)\n",
        "   y = torch.Tensor().to(device)\n",
        "  #  predictions = torch.Tensor()\n",
        "  #  y = torch.Tensor()\n",
        "   with torch.no_grad():\n",
        "    for inputs,targets in data_loader:\n",
        "      _,outputs,_ = step(model,inputs, targets,\n",
        "                              device, loss_function=None, optimizer=None)\n",
        "      y_pred = (outputs.data>0.5).float()\n",
        "      predictions = torch.cat((predictions, y_pred))\n",
        "      y = torch.cat((y, targets.to(device)))\n",
        "      # y = torch.cat((y, targets))\n",
        "    hammingdistance = train_metric(y_pred,targets)\n",
        "    return predictions, hammingdistance, y"
      ],
      "metadata": {
        "id": "Ohzz57Nu3DVw"
      },
      "execution_count": null,
      "outputs": []
    },
    {
      "cell_type": "markdown",
      "source": [
        "# Predictions"
      ],
      "metadata": {
        "id": "EPnp2WP03FPA"
      }
    },
    {
      "cell_type": "code",
      "source": [
        "pred_test, hd_test, y_test = get_acc_pred(test_loader, model_stack_ex_1, device='cpu')\n",
        "pred_train, hd_train, y_train = get_acc_pred(train_loader, model_stack_ex_1, device='cpu')\n",
        "pred_valid, hd_val, y_valid = get_acc_pred(val_loader, model_stack_ex_1, device='cpu')"
      ],
      "metadata": {
        "id": "l8GxM3aV3I9B"
      },
      "execution_count": null,
      "outputs": []
    },
    {
      "cell_type": "code",
      "source": [
        "print('Test Hamming distance', hd_test)\n",
        "print('Train Hamming distance', hd_train)\n",
        "print('Valid Hamming distance', hd_val)\n"
      ],
      "metadata": {
        "colab": {
          "base_uri": "https://localhost:8080/"
        },
        "id": "cRiSH8V33g9S",
        "outputId": "e9405098-73e9-456d-ff88-4b400e0ed5a7"
      },
      "execution_count": null,
      "outputs": [
        {
          "output_type": "stream",
          "name": "stdout",
          "text": [
            "Test Hamming distance tensor(0.1786)\n",
            "Train Hamming distance tensor(0.0200)\n",
            "Valid Hamming distance tensor(0.2692)\n"
          ]
        }
      ]
    },
    {
      "cell_type": "markdown",
      "source": [
        "# Inference"
      ],
      "metadata": {
        "id": "cA3yEuPI3ynB"
      }
    },
    {
      "cell_type": "code",
      "source": [
        "model_stack_ex_1.to(device='cpu')\n",
        "model_stack_ex_1.eval()\n",
        "outputs = model_stack_ex_1(X1_tfidf_test)"
      ],
      "metadata": {
        "id": "k2CJ2PBp313B"
      },
      "execution_count": null,
      "outputs": []
    },
    {
      "cell_type": "code",
      "source": [
        "preds = torch.argmax(outputs, dim = 1)\n",
        "tags = {0: 'c#', 1: 'java' , 2: 'php',3:'javascript',4:'android',5:'jquery',6:'c++',7:'python',8:'iphone',9:'asp.net'}\n",
        "pred_labels = list(map(tags.get, preds.tolist()))\n",
        "print(pred_labels)"
      ],
      "metadata": {
        "colab": {
          "base_uri": "https://localhost:8080/"
        },
        "id": "7Etq4BrH38Gv",
        "outputId": "c69c238e-fe4a-4f02-e8d9-32ef2ac8d883"
      },
      "execution_count": null,
      "outputs": [
        {
          "output_type": "stream",
          "name": "stdout",
          "text": [
            "['c#', 'asp.net', 'javascript', 'c#', 'javascript', 'javascript', 'php', 'javascript', 'javascript', 'java', 'javascript', 'java', 'c#', 'java', 'javascript', 'c#', 'javascript', 'android', 'javascript', 'java', 'javascript', 'jquery', 'c#', 'javascript', 'javascript', 'jquery', 'asp.net', 'java', 'jquery', 'jquery', 'java', 'javascript', 'javascript', 'javascript', 'c#', 'javascript', 'javascript', 'java', 'javascript', 'android', 'c#', 'jquery', 'javascript', 'java', 'jquery', 'javascript', 'javascript', 'c#', 'java', 'javascript', 'javascript', 'javascript', 'javascript', 'javascript', 'asp.net', 'asp.net', 'asp.net', 'javascript', 'asp.net', 'javascript', 'javascript', 'jquery', 'c#', 'javascript', 'javascript', 'javascript', 'asp.net', 'jquery', 'java', 'javascript', 'c#', 'javascript', 'c#', 'javascript', 'javascript', 'asp.net', 'javascript', 'c#', 'javascript', 'javascript', 'asp.net', 'asp.net', 'javascript', 'asp.net', 'javascript', 'jquery', 'javascript', 'javascript', 'asp.net', 'javascript', 'java', 'javascript', 'javascript', 'java', 'asp.net', 'jquery', 'javascript', 'javascript', 'javascript', 'javascript', 'javascript', 'javascript', 'javascript', 'javascript', 'javascript', 'java', 'javascript', 'jquery', 'javascript', 'c#', 'javascript', 'asp.net', 'javascript', 'javascript', 'c#', 'javascript', 'c#', 'android', 'javascript', 'java', 'c#', 'java', 'javascript', 'jquery', 'javascript', 'javascript', 'java', 'android', 'jquery', 'javascript', 'javascript', 'javascript', 'javascript', 'javascript', 'javascript', 'asp.net', 'javascript', 'jquery', 'javascript', 'javascript', 'java', 'asp.net', 'javascript', 'javascript', 'java', 'javascript', 'asp.net', 'java', 'javascript', 'javascript', 'android', 'javascript', 'javascript', 'jquery', 'javascript', 'java', 'javascript', 'javascript', 'java', 'asp.net', 'java', 'php', 'asp.net', 'javascript', 'asp.net', 'javascript', 'c#', 'asp.net', 'javascript', 'c#', 'javascript', 'javascript', 'java', 'javascript', 'jquery', 'javascript', 'javascript', 'javascript', 'javascript', 'javascript', 'javascript', 'java', 'asp.net', 'c#', 'android', 'c#', 'java', 'javascript', 'javascript', 'javascript', 'javascript', 'android', 'javascript', 'javascript', 'java', 'c#', 'javascript', 'javascript', 'javascript', 'javascript', 'c#', 'javascript', 'android', 'jquery', 'javascript', 'javascript', 'javascript', 'c#', 'jquery', 'jquery', 'javascript', 'javascript', 'c#', 'javascript', 'javascript', 'android', 'java', 'android', 'javascript', 'javascript', 'javascript', 'javascript', 'jquery', 'javascript', 'c#', 'javascript', 'javascript', 'c#', 'javascript', 'javascript', 'javascript', 'javascript', 'javascript', 'asp.net', 'javascript', 'c#', 'javascript', 'asp.net', 'c#', 'javascript', 'javascript', 'c#', 'asp.net', 'java', 'javascript', 'jquery', 'javascript', 'java', 'c#', 'javascript', 'javascript', 'asp.net', 'asp.net', 'c#', 'javascript', 'javascript', 'c#', 'javascript', 'javascript', 'javascript', 'jquery', 'javascript', 'javascript', 'c#', 'c#', 'asp.net', 'jquery', 'javascript', 'javascript', 'jquery', 'javascript', 'c#', 'php', 'javascript', 'javascript', 'javascript', 'android', 'c#', 'javascript', 'javascript', 'javascript', 'javascript', 'jquery', 'asp.net', 'jquery', 'javascript', 'c#', 'c#', 'javascript', 'asp.net', 'javascript', 'javascript', 'javascript', 'javascript', 'c#', 'asp.net', 'java', 'javascript', 'javascript', 'c#', 'javascript', 'javascript', 'javascript', 'android', 'javascript', 'android', 'javascript', 'php', 'javascript', 'java', 'javascript', 'javascript', 'javascript', 'jquery', 'javascript', 'javascript', 'javascript', 'javascript', 'javascript', 'javascript', 'javascript', 'javascript', 'c#', 'jquery', 'javascript', 'javascript', 'jquery', 'javascript', 'jquery', 'javascript', 'javascript', 'javascript', 'javascript', 'javascript', 'javascript', 'javascript', 'javascript', 'javascript', 'javascript', 'android', 'java', 'javascript', 'javascript', 'javascript', 'javascript', 'javascript', 'c#', 'javascript', 'javascript', 'java', 'c#', 'javascript', 'javascript', 'c#', 'asp.net', 'javascript', 'java', 'android', 'c#', 'php', 'javascript', 'javascript', 'javascript', 'javascript', 'asp.net', 'java', 'javascript', 'jquery', 'javascript', 'javascript', 'javascript', 'c#', 'javascript', 'asp.net', 'javascript', 'javascript', 'javascript', 'javascript', 'asp.net', 'javascript', 'android', 'javascript', 'asp.net', 'javascript', 'javascript', 'android', 'javascript', 'c#', 'c#', 'jquery', 'javascript', 'javascript', 'javascript', 'javascript', 'php', 'javascript', 'javascript', 'javascript', 'javascript', 'c#', 'javascript', 'javascript', 'jquery', 'javascript', 'java', 'javascript', 'javascript', 'jquery', 'c#', 'java', 'jquery', 'javascript', 'javascript', 'javascript', 'javascript', 'jquery', 'java', 'javascript', 'java', 'javascript', 'asp.net', 'javascript', 'javascript', 'javascript', 'javascript', 'javascript', 'javascript', 'asp.net', 'javascript', 'javascript', 'javascript', 'javascript', 'javascript', 'java', 'jquery', 'java', 'java', 'javascript', 'asp.net', 'javascript', 'javascript', 'php', 'java', 'javascript', 'javascript', 'php', 'javascript', 'javascript', 'javascript', 'java', 'php', 'javascript', 'java', 'javascript', 'javascript', 'jquery', 'javascript', 'jquery', 'javascript', 'c#', 'javascript', 'asp.net', 'c#', 'javascript', 'javascript', 'javascript', 'c#', 'javascript', 'c#', 'javascript', 'java', 'java', 'java', 'javascript', 'javascript', 'javascript', 'javascript', 'java', 'php', 'javascript', 'javascript', 'java', 'jquery', 'c#', 'android', 'javascript', 'javascript', 'java', 'java', 'javascript', 'java', 'javascript', 'android', 'android', 'c#', 'javascript', 'asp.net', 'java', 'jquery', 'javascript', 'javascript', 'javascript', 'javascript', 'javascript', 'java', 'android', 'javascript', 'javascript', 'javascript', 'asp.net', 'javascript', 'asp.net', 'javascript', 'php', 'asp.net', 'javascript', 'javascript', 'javascript', 'javascript', 'javascript', 'javascript', 'c#', 'javascript', 'javascript', 'javascript', 'javascript', 'javascript', 'asp.net', 'c#', 'javascript', 'c#', 'c#', 'c#', 'javascript', 'javascript', 'javascript', 'javascript', 'javascript', 'c#', 'javascript', 'javascript', 'jquery', 'asp.net', 'c#', 'javascript', 'asp.net', 'jquery', 'javascript', 'javascript', 'javascript', 'javascript', 'java', 'javascript', 'javascript', 'javascript', 'jquery', 'java', 'java', 'c#', 'java', 'java', 'c#', 'c#', 'javascript', 'jquery', 'android', 'jquery', 'javascript', 'javascript', 'javascript', 'javascript', 'asp.net', 'c#', 'c#', 'android', 'javascript', 'javascript', 'java', 'java', 'c#', 'java', 'javascript', 'javascript', 'c#', 'jquery', 'javascript', 'javascript', 'c#', 'asp.net', 'javascript', 'javascript', 'javascript', 'javascript', 'javascript', 'javascript', 'android', 'javascript', 'jquery', 'asp.net', 'javascript', 'javascript', 'asp.net', 'java', 'javascript', 'java', 'java', 'javascript', 'javascript', 'javascript', 'javascript', 'java', 'android', 'java', 'asp.net', 'javascript', 'javascript', 'javascript', 'javascript', 'java', 'javascript', 'javascript', 'javascript', 'javascript', 'android', 'javascript', 'javascript', 'asp.net', 'jquery', 'c#', 'asp.net', 'jquery', 'c#', 'java', 'javascript', 'java', 'jquery', 'javascript', 'javascript', 'c#', 'java', 'asp.net', 'javascript', 'java', 'c#', 'android', 'javascript', 'javascript', 'javascript', 'javascript', 'javascript', 'javascript', 'javascript', 'asp.net', 'javascript', 'javascript', 'javascript', 'java', 'java', 'java', 'javascript', 'asp.net', 'javascript', 'javascript', 'javascript', 'c#', 'java', 'jquery', 'javascript', 'java', 'javascript', 'javascript', 'javascript', 'javascript', 'javascript', 'asp.net', 'javascript', 'javascript', 'javascript', 'javascript', 'java', 'javascript', 'javascript', 'javascript', 'javascript', 'javascript', 'javascript', 'javascript', 'java', 'javascript', 'javascript', 'javascript', 'javascript', 'jquery', 'c#', 'javascript', 'java', 'javascript', 'javascript', 'javascript', 'asp.net', 'javascript', 'javascript', 'javascript', 'javascript', 'javascript', 'javascript', 'java', 'java', 'javascript', 'javascript', 'javascript', 'jquery', 'javascript', 'javascript', 'javascript', 'javascript', 'c#', 'javascript', 'javascript', 'javascript', 'javascript', 'javascript', 'javascript', 'javascript', 'javascript', 'c#', 'javascript', 'javascript', 'javascript', 'javascript', 'javascript', 'javascript', 'javascript', 'javascript', 'javascript', 'c#', 'javascript', 'java', 'android', 'javascript', 'javascript', 'java', 'javascript', 'javascript', 'javascript', 'java', 'jquery', 'java', 'javascript', 'java', 'javascript', 'javascript', 'javascript', 'javascript', 'javascript', 'javascript', 'javascript', 'javascript', 'asp.net', 'javascript', 'javascript', 'javascript', 'asp.net', 'javascript', 'c#', 'javascript', 'javascript', 'javascript', 'javascript', 'android', 'c#', 'jquery', 'asp.net', 'javascript', 'javascript', 'javascript', 'asp.net', 'php', 'android', 'javascript', 'jquery', 'javascript', 'javascript', 'javascript', 'java', 'java', 'javascript', 'android', 'java', 'java', 'c#', 'c#', 'javascript', 'javascript', 'javascript', 'javascript', 'javascript', 'javascript', 'javascript', 'javascript', 'javascript', 'javascript', 'javascript', 'javascript', 'java', 'java', 'javascript', 'asp.net', 'javascript', 'javascript', 'javascript', 'javascript', 'javascript', 'javascript', 'android', 'android', 'javascript', 'javascript', 'c#', 'java', 'java', 'javascript', 'javascript', 'jquery', 'javascript', 'javascript', 'javascript', 'javascript', 'jquery', 'java', 'java', 'javascript', 'java', 'java', 'javascript', 'javascript', 'javascript', 'asp.net', 'javascript', 'javascript', 'javascript', 'asp.net', 'asp.net', 'asp.net', 'javascript', 'javascript', 'javascript', 'javascript', 'javascript', 'javascript', 'javascript', 'javascript', 'javascript', 'java', 'javascript', 'javascript', 'javascript', 'asp.net', 'c#', 'asp.net', 'c#', 'javascript', 'javascript', 'asp.net', 'c#', 'c#', 'javascript', 'javascript', 'javascript', 'javascript', 'asp.net', 'c#', 'javascript', 'javascript', 'asp.net', 'c#', 'javascript', 'jquery', 'c#', 'javascript', 'javascript', 'javascript', 'javascript', 'javascript', 'java', 'javascript', 'java', 'javascript', 'javascript', 'jquery', 'javascript', 'javascript', 'javascript', 'java', 'javascript', 'javascript', 'javascript', 'javascript', 'jquery', 'javascript', 'javascript', 'asp.net', 'asp.net', 'javascript', 'javascript', 'java', 'javascript', 'javascript', 'javascript', 'javascript', 'javascript', 'javascript', 'javascript', 'javascript', 'javascript', 'javascript', 'android', 'javascript', 'jquery', 'javascript', 'php', 'javascript', 'javascript', 'java', 'javascript', 'android', 'jquery', 'jquery', 'asp.net', 'javascript', 'c#', 'javascript', 'asp.net', 'javascript', 'java', 'asp.net', 'javascript', 'asp.net', 'javascript', 'javascript', 'asp.net', 'jquery', 'android', 'javascript', 'javascript', 'javascript', 'javascript', 'asp.net', 'javascript', 'php', 'javascript', 'javascript', 'javascript', 'javascript', 'javascript', 'javascript', 'javascript', 'javascript', 'javascript', 'javascript', 'javascript', 'javascript', 'c#', 'javascript', 'javascript', 'android', 'javascript', 'javascript', 'javascript', 'javascript', 'javascript', 'java', 'asp.net', 'javascript', 'javascript', 'c#', 'javascript', 'asp.net', 'javascript', 'javascript', 'java', 'jquery', 'java', 'c#', 'php', 'javascript', 'java', 'javascript', 'jquery', 'java', 'javascript', 'javascript', 'javascript', 'javascript', 'c#', 'c#', 'javascript', 'jquery', 'java', 'javascript', 'asp.net', 'javascript', 'javascript', 'asp.net', 'asp.net', 'javascript', 'javascript', 'javascript', 'javascript', 'javascript', 'asp.net', 'c#', 'javascript', 'javascript', 'javascript', 'java', 'javascript', 'java', 'javascript', 'java', 'javascript', 'javascript', 'android', 'javascript', 'javascript', 'javascript', 'jquery', 'jquery', 'asp.net', 'javascript', 'c#', 'asp.net', 'javascript', 'jquery', 'javascript', 'javascript', 'javascript', 'asp.net', 'javascript', 'jquery', 'javascript', 'asp.net', 'javascript', 'javascript', 'javascript', 'javascript', 'asp.net', 'c#', 'java', 'android', 'javascript', 'c#', 'javascript', 'java', 'javascript', 'java', 'android', 'javascript', 'javascript', 'java', 'javascript', 'javascript', 'javascript', 'javascript', 'java', 'javascript', 'java', 'javascript', 'java', 'javascript', 'java', 'asp.net', 'asp.net', 'javascript', 'javascript', 'javascript', 'javascript', 'javascript', 'jquery', 'javascript', 'java', 'jquery', 'javascript', 'javascript', 'jquery', 'javascript', 'javascript', 'jquery', 'javascript', 'android', 'javascript', 'jquery', 'javascript', 'android', 'javascript', 'javascript', 'javascript', 'java', 'javascript', 'javascript', 'javascript', 'javascript', 'javascript', 'javascript', 'javascript', 'asp.net', 'java', 'javascript', 'javascript', 'c#', 'javascript', 'javascript', 'javascript', 'javascript', 'javascript', 'javascript', 'javascript', 'javascript', 'javascript', 'javascript', 'android', 'jquery', 'javascript', 'javascript', 'c#', 'javascript', 'asp.net', 'javascript', 'javascript', 'javascript', 'javascript', 'javascript', 'javascript', 'asp.net', 'javascript', 'javascript', 'javascript', 'javascript', 'asp.net', 'javascript', 'javascript', 'java', 'jquery', 'javascript', 'javascript', 'javascript', 'asp.net', 'asp.net', 'java', 'java', 'jquery', 'javascript', 'javascript', 'javascript', 'jquery', 'android', 'php', 'asp.net', 'javascript', 'javascript', 'jquery', 'javascript', 'javascript', 'javascript', 'asp.net', 'java', 'javascript', 'javascript', 'javascript', 'javascript', 'javascript', 'c#', 'javascript', 'javascript', 'asp.net', 'javascript', 'javascript', 'javascript', 'jquery', 'javascript', 'javascript', 'javascript', 'asp.net', 'java', 'javascript', 'javascript', 'jquery', 'javascript', 'javascript', 'android', 'java', 'javascript', 'c#', 'javascript', 'javascript', 'java', 'asp.net', 'jquery', 'asp.net', 'javascript', 'javascript', 'jquery', 'javascript', 'java', 'jquery', 'javascript', 'javascript', 'asp.net', 'javascript', 'javascript', 'android', 'javascript', 'javascript', 'c#', 'javascript', 'c#', 'javascript', 'c#', 'c#', 'javascript', 'javascript', 'javascript', 'asp.net', 'javascript', 'javascript', 'javascript', 'javascript', 'c#', 'javascript', 'c#', 'javascript', 'java', 'javascript', 'javascript', 'javascript', 'javascript', 'javascript', 'c#', 'javascript', 'javascript', 'c#', 'c#', 'asp.net', 'java', 'c#', 'java', 'c#', 'asp.net', 'javascript', 'javascript', 'asp.net', 'asp.net', 'c#', 'javascript', 'jquery', 'java', 'asp.net', 'java', 'java', 'javascript', 'javascript', 'asp.net', 'javascript', 'javascript', 'c#', 'c#', 'javascript', 'c#', 'javascript', 'jquery', 'asp.net', 'asp.net', 'javascript', 'jquery', 'javascript', 'javascript', 'javascript', 'javascript', 'c#', 'javascript', 'javascript', 'javascript', 'javascript', 'javascript', 'c#', 'javascript', 'javascript', 'javascript', 'javascript', 'c#', 'c#', 'asp.net', 'javascript', 'javascript', 'c#', 'java', 'java', 'c#', 'javascript', 'c#', 'javascript', 'jquery', 'javascript', 'javascript', 'javascript', 'javascript', 'javascript', 'javascript', 'c#', 'jquery', 'javascript', 'java', 'javascript', 'javascript', 'javascript', 'javascript', 'java', 'javascript', 'javascript', 'jquery', 'javascript', 'javascript', 'jquery', 'javascript', 'java', 'asp.net', 'android', 'javascript', 'javascript', 'javascript', 'jquery', 'javascript', 'android', 'javascript', 'javascript', 'javascript', 'javascript', 'javascript', 'javascript', 'javascript', 'javascript', 'javascript', 'javascript', 'asp.net', 'javascript', 'asp.net', 'c#', 'java', 'java', 'javascript', 'javascript', 'c#', 'javascript', 'asp.net', 'jquery', 'javascript', 'c#', 'c#', 'jquery', 'asp.net', 'javascript', 'jquery', 'jquery', 'java', 'javascript', 'javascript', 'javascript', 'asp.net', 'javascript', 'javascript', 'c#', 'javascript', 'java', 'jquery', 'jquery', 'javascript', 'javascript', 'javascript', 'javascript', 'javascript', 'java', 'java', 'jquery', 'jquery', 'asp.net', 'android', 'javascript', 'javascript', 'c#', 'java', 'javascript', 'javascript', 'javascript', 'jquery', 'javascript', 'c#', 'javascript', 'javascript', 'javascript', 'java', 'asp.net', 'javascript', 'c#', 'javascript', 'javascript', 'javascript', 'asp.net', 'javascript', 'javascript', 'javascript', 'javascript', 'javascript', 'javascript', 'javascript', 'c#', 'javascript', 'asp.net', 'javascript', 'javascript', 'javascript', 'java', 'jquery', 'c#', 'asp.net', 'javascript', 'javascript', 'javascript', 'asp.net', 'javascript', 'javascript', 'android', 'javascript', 'c#', 'javascript', 'java', 'javascript', 'java', 'javascript', 'javascript', 'javascript', 'c#', 'asp.net', 'javascript', 'javascript', 'javascript', 'javascript', 'php', 'javascript', 'java', 'javascript', 'c#', 'javascript', 'c#', 'c#', 'javascript', 'c#', 'c#', 'javascript', 'javascript', 'jquery', 'javascript', 'javascript', 'javascript', 'javascript', 'javascript', 'android', 'c#', 'javascript', 'c#', 'jquery', 'javascript', 'php', 'c#', 'c#', 'javascript', 'android', 'javascript', 'jquery', 'javascript', 'android', 'asp.net', 'asp.net', 'jquery', 'asp.net', 'javascript', 'javascript', 'android', 'javascript', 'javascript', 'javascript', 'javascript', 'c#', 'java', 'javascript', 'javascript', 'javascript', 'javascript', 'jquery', 'jquery', 'javascript', 'javascript', 'c#', 'c#', 'jquery', 'asp.net', 'javascript', 'javascript', 'java', 'jquery', 'javascript', 'c#', 'jquery', 'php', 'jquery', 'javascript', 'jquery', 'javascript', 'javascript', 'javascript', 'javascript', 'javascript', 'jquery', 'javascript', 'javascript', 'asp.net', 'javascript', 'javascript', 'javascript', 'javascript', 'javascript', 'javascript', 'javascript', 'javascript', 'javascript', 'javascript', 'javascript', 'javascript', 'javascript', 'jquery', 'javascript', 'c#', 'javascript', 'javascript', 'c#', 'c#', 'javascript', 'javascript', 'javascript', 'jquery', 'javascript', 'javascript', 'javascript', 'jquery', 'javascript', 'javascript', 'jquery', 'jquery', 'javascript', 'javascript', 'javascript', 'javascript', 'javascript', 'jquery', 'asp.net', 'asp.net', 'javascript', 'javascript', 'javascript', 'jquery', 'android', 'javascript', 'c#', 'javascript', 'jquery', 'c#', 'javascript', 'javascript', 'javascript', 'c#', 'javascript', 'android', 'asp.net', 'javascript', 'javascript', 'javascript', 'java', 'javascript', 'android', 'c#', 'java', 'javascript', 'javascript', 'javascript', 'android', 'javascript', 'c#', 'java', 'c#', 'javascript', 'java', 'asp.net', 'javascript', 'android', 'asp.net', 'asp.net', 'javascript', 'javascript', 'javascript', 'javascript', 'javascript', 'javascript', 'javascript', 'javascript', 'jquery', 'javascript', 'javascript', 'javascript', 'c#', 'javascript', 'javascript', 'javascript', 'javascript', 'javascript', 'javascript', 'javascript', 'jquery', 'asp.net', 'java', 'javascript', 'java', 'javascript', 'javascript', 'java', 'asp.net', 'jquery', 'c#', 'c#', 'javascript', 'javascript', 'java', 'javascript', 'php', 'java', 'javascript', 'javascript', 'jquery', 'jquery', 'c#', 'jquery', 'java', 'javascript', 'javascript', 'javascript', 'asp.net', 'java', 'javascript', 'c#', 'c#', 'javascript', 'javascript', 'java', 'javascript', 'javascript', 'java', 'javascript', 'asp.net', 'javascript', 'asp.net', 'jquery', 'javascript', 'javascript', 'java', 'c#', 'java', 'javascript', 'javascript', 'javascript', 'jquery', 'asp.net', 'javascript', 'asp.net', 'javascript', 'javascript', 'javascript', 'javascript', 'javascript', 'javascript', 'javascript', 'javascript', 'javascript', 'javascript', 'c#', 'java', 'javascript', 'javascript', 'asp.net', 'javascript', 'javascript', 'asp.net', 'android', 'c#', 'c#', 'javascript', 'javascript', 'javascript', 'c#', 'java', 'javascript', 'java', 'javascript', 'php', 'javascript', 'javascript', 'javascript', 'javascript', 'javascript', 'javascript', 'jquery', 'javascript', 'asp.net', 'javascript', 'javascript', 'javascript', 'java', 'javascript', 'javascript', 'javascript', 'jquery', 'javascript', 'javascript', 'jquery', 'javascript', 'android', 'javascript', 'jquery', 'javascript', 'javascript', 'javascript', 'javascript', 'javascript', 'android', 'c#', 'c#', 'javascript', 'c#', 'c#', 'asp.net', 'javascript', 'asp.net', 'javascript', 'javascript', 'javascript', 'javascript', 'jquery', 'javascript', 'javascript', 'c#', 'javascript', 'javascript', 'java', 'javascript', 'javascript', 'java', 'javascript', 'javascript', 'javascript', 'java', 'javascript', 'c#', 'javascript', 'javascript', 'javascript', 'asp.net', 'java', 'android', 'javascript', 'c#', 'javascript', 'javascript', 'jquery', 'javascript', 'javascript', 'jquery', 'android', 'javascript', 'javascript', 'javascript', 'asp.net', 'javascript', 'javascript', 'c#', 'javascript', 'javascript', 'jquery', 'javascript', 'javascript', 'c#', 'javascript', 'javascript', 'asp.net', 'asp.net', 'java', 'javascript', 'javascript', 'java', 'javascript', 'javascript', 'javascript', 'asp.net', 'javascript', 'c#', 'javascript', 'javascript', 'javascript', 'java', 'c#', 'javascript', 'c#', 'c#', 'android', 'javascript', 'javascript', 'javascript', 'javascript', 'javascript', 'java', 'jquery', 'javascript', 'javascript', 'c#', 'javascript', 'jquery', 'javascript', 'javascript', 'jquery', 'javascript', 'javascript', 'javascript', 'javascript', 'javascript', 'javascript', 'java', 'javascript', 'javascript', 'asp.net', 'javascript', 'asp.net', 'javascript', 'jquery', 'javascript', 'php', 'javascript', 'c#', 'javascript', 'c#', 'asp.net', 'asp.net', 'javascript', 'javascript', 'java', 'javascript', 'javascript', 'javascript', 'asp.net', 'jquery', 'java', 'asp.net', 'javascript', 'javascript', 'javascript', 'javascript', 'javascript', 'jquery', 'javascript', 'jquery', 'javascript', 'asp.net', 'javascript', 'java', 'javascript', 'javascript', 'javascript', 'javascript', 'javascript', 'asp.net', 'javascript', 'java', 'javascript', 'javascript', 'jquery', 'javascript', 'jquery', 'android', 'javascript', 'javascript', 'javascript', 'javascript', 'java', 'android', 'jquery', 'javascript', 'javascript', 'javascript', 'android', 'javascript', 'c#', 'javascript', 'c#', 'javascript', 'javascript', 'java', 'javascript', 'javascript', 'javascript', 'java', 'javascript', 'javascript', 'javascript', 'java', 'asp.net', 'javascript', 'javascript', 'javascript', 'javascript', 'asp.net', 'javascript', 'javascript', 'javascript', 'javascript', 'java', 'javascript', 'javascript', 'c#', 'javascript', 'jquery', 'asp.net', 'jquery', 'javascript', 'javascript', 'javascript', 'java', 'android', 'asp.net', 'asp.net', 'javascript', 'c#', 'javascript', 'javascript', 'c#', 'javascript', 'asp.net', 'asp.net', 'c#', 'jquery', 'javascript', 'android', 'java', 'android', 'asp.net', 'c#', 'javascript', 'java', 'asp.net', 'javascript', 'javascript', 'javascript', 'javascript', 'javascript', 'jquery', 'javascript', 'javascript', 'javascript', 'jquery', 'javascript', 'c#', 'javascript', 'javascript', 'javascript', 'javascript', 'c#', 'javascript', 'javascript', 'javascript', 'javascript', 'javascript', 'javascript', 'javascript', 'android', 'javascript', 'asp.net', 'javascript', 'javascript', 'javascript', 'javascript', 'javascript', 'javascript', 'jquery', 'java', 'javascript', 'c#', 'asp.net', 'javascript', 'javascript', 'javascript', 'java', 'javascript', 'c#', 'c#', 'javascript', 'javascript', 'javascript', 'javascript', 'c#', 'c#', 'java', 'javascript', 'c#', 'javascript', 'javascript', 'java', 'javascript', 'java', 'java', 'jquery', 'javascript', 'javascript', 'javascript', 'javascript', 'javascript', 'asp.net', 'javascript', 'javascript', 'javascript', 'javascript', 'javascript', 'android', 'javascript', 'jquery', 'javascript', 'c#', 'javascript', 'android', 'javascript', 'c#', 'javascript', 'javascript', 'asp.net', 'javascript', 'javascript', 'javascript', 'javascript', 'javascript', 'javascript', 'javascript', 'jquery', 'java', 'javascript', 'jquery', 'javascript', 'jquery', 'javascript', 'javascript', 'javascript', 'asp.net', 'javascript', 'java', 'c#', 'asp.net', 'javascript', 'c#', 'javascript', 'asp.net', 'c#', 'javascript', 'javascript', 'javascript', 'javascript', 'c#', 'javascript', 'javascript', 'javascript', 'javascript', 'java', 'php', 'javascript', 'javascript', 'javascript', 'c#', 'javascript', 'jquery', 'javascript', 'c#', 'javascript', 'javascript', 'javascript', 'javascript', 'android', 'java', 'asp.net', 'javascript', 'jquery', 'asp.net', 'javascript', 'android', 'javascript', 'jquery', 'c#', 'javascript', 'java', 'javascript', 'javascript', 'javascript', 'javascript', 'javascript', 'c#', 'javascript', 'jquery', 'javascript', 'javascript', 'java', 'c#', 'javascript', 'javascript', 'javascript', 'javascript', 'javascript', 'javascript', 'javascript', 'javascript', 'android', 'javascript', 'javascript', 'javascript', 'java', 'java', 'jquery', 'java', 'c#', 'javascript', 'javascript', 'c#', 'javascript', 'javascript', 'php', 'asp.net', 'javascript', 'javascript', 'javascript', 'javascript', 'javascript', 'javascript', 'asp.net', 'asp.net', 'php', 'javascript', 'javascript', 'jquery', 'javascript', 'javascript', 'asp.net', 'javascript', 'javascript', 'javascript', 'java', 'javascript', 'javascript', 'asp.net', 'java', 'asp.net', 'javascript', 'javascript', 'javascript', 'asp.net', 'javascript', 'javascript', 'javascript', 'jquery', 'javascript', 'javascript', 'java', 'java', 'c#', 'c#', 'javascript', 'javascript', 'javascript', 'jquery', 'javascript', 'jquery', 'java', 'java', 'javascript', 'javascript', 'c#', 'javascript', 'javascript', 'javascript', 'jquery', 'javascript', 'javascript', 'javascript', 'java', 'java', 'javascript', 'javascript', 'javascript', 'android', 'php', 'javascript', 'java', 'javascript', 'javascript', 'javascript', 'javascript', 'javascript', 'c#', 'jquery', 'javascript', 'javascript', 'javascript', 'javascript', 'asp.net', 'java', 'java', 'javascript', 'javascript', 'javascript', 'javascript', 'android', 'javascript', 'javascript', 'javascript', 'javascript', 'javascript', 'jquery', 'javascript', 'asp.net', 'javascript', 'asp.net', 'jquery', 'javascript', 'asp.net', 'c#', 'jquery', 'javascript', 'javascript', 'javascript', 'javascript', 'asp.net', 'android', 'java', 'asp.net', 'javascript', 'javascript', 'android', 'javascript', 'c#', 'java', 'javascript', 'javascript', 'javascript', 'javascript', 'javascript', 'java', 'javascript', 'javascript', 'javascript', 'javascript', 'jquery', 'asp.net', 'javascript', 'javascript', 'jquery', 'javascript', 'java', 'java', 'java', 'jquery', 'jquery', 'jquery', 'jquery', 'android', 'javascript', 'c#', 'javascript', 'javascript', 'javascript', 'javascript', 'javascript', 'asp.net', 'php', 'javascript', 'javascript', 'asp.net', 'asp.net', 'javascript', 'javascript', 'asp.net', 'javascript', 'javascript', 'javascript', 'java', 'javascript', 'c#', 'asp.net', 'jquery', 'javascript', 'c#', 'java', 'asp.net', 'c#', 'asp.net', 'javascript', 'java', 'javascript', 'javascript', 'javascript', 'php', 'javascript', 'asp.net', 'asp.net', 'javascript', 'javascript', 'javascript', 'c#', 'javascript', 'asp.net', 'javascript', 'jquery', 'javascript', 'android', 'asp.net', 'javascript', 'javascript', 'javascript', 'javascript', 'javascript', 'javascript', 'javascript', 'javascript', 'javascript', 'javascript', 'javascript', 'javascript', 'asp.net', 'jquery', 'javascript', 'php', 'jquery', 'javascript', 'java', 'asp.net', 'javascript', 'javascript', 'javascript', 'javascript', 'jquery', 'javascript', 'javascript', 'java', 'c#', 'javascript', 'asp.net', 'asp.net', 'c#', 'jquery', 'asp.net', 'javascript', 'jquery', 'c#', 'php', 'php', 'javascript', 'asp.net', 'javascript', 'java', 'javascript', 'javascript', 'javascript', 'javascript', 'javascript', 'javascript', 'jquery', 'javascript', 'c#', 'c#', 'asp.net', 'asp.net', 'javascript', 'javascript', 'java', 'javascript', 'java', 'javascript', 'javascript', 'jquery', 'javascript', 'asp.net', 'javascript', 'android', 'javascript', 'asp.net', 'javascript', 'javascript', 'c#', 'java', 'c#', 'javascript', 'javascript', 'javascript', 'c#', 'asp.net', 'javascript', 'javascript', 'java', 'javascript', 'javascript', 'javascript', 'javascript', 'javascript', 'php', 'javascript', 'jquery', 'jquery', 'java', 'jquery', 'android', 'javascript', 'javascript', 'javascript', 'javascript', 'javascript', 'c#', 'javascript', 'javascript', 'javascript', 'javascript', 'javascript', 'javascript', 'javascript', 'java', 'asp.net', 'javascript', 'java', 'javascript', 'javascript', 'asp.net', 'javascript', 'asp.net', 'asp.net', 'java', 'javascript', 'javascript', 'javascript', 'javascript', 'javascript', 'asp.net', 'jquery', 'c#', 'javascript', 'java', 'c#', 'java', 'javascript', 'javascript', 'javascript', 'javascript', 'asp.net', 'javascript', 'javascript', 'jquery', 'javascript', 'c#', 'javascript', 'asp.net', 'javascript', 'c#', 'javascript', 'javascript', 'javascript', 'javascript', 'javascript', 'java', 'javascript', 'java', 'javascript', 'javascript', 'javascript', 'c#', 'android', 'javascript', 'java', 'javascript', 'java', 'javascript', 'javascript', 'c#', 'javascript', 'java', 'c#', 'java', 'javascript', 'c#', 'javascript', 'java', 'jquery', 'javascript', 'javascript', 'javascript', 'java', 'c#', 'javascript', 'javascript', 'asp.net', 'c#', 'javascript', 'javascript', 'jquery', 'javascript', 'javascript', 'javascript', 'javascript', 'javascript', 'java', 'javascript', 'javascript', 'c#', 'javascript', 'javascript', 'javascript', 'asp.net', 'javascript', 'php', 'jquery', 'javascript', 'javascript', 'javascript', 'javascript', 'javascript', 'jquery', 'c#', 'jquery', 'javascript', 'javascript', 'jquery', 'javascript', 'java', 'javascript', 'java', 'asp.net', 'java', 'jquery', 'javascript', 'c#', 'javascript', 'jquery', 'jquery', 'javascript', 'javascript', 'java', 'javascript', 'asp.net', 'javascript', 'asp.net', 'javascript', 'java', 'jquery', 'asp.net', 'javascript', 'jquery', 'c#', 'jquery', 'asp.net', 'jquery', 'jquery', 'javascript', 'javascript', 'javascript', 'asp.net', 'javascript', 'javascript', 'javascript', 'jquery', 'javascript', 'java', 'asp.net', 'javascript', 'javascript', 'javascript', 'c#', 'asp.net', 'javascript', 'javascript', 'javascript', 'java', 'jquery', 'asp.net', 'javascript', 'asp.net', 'javascript', 'javascript', 'javascript', 'javascript', 'jquery', 'jquery', 'javascript', 'javascript', 'javascript', 'javascript', 'java', 'javascript', 'asp.net', 'java', 'javascript', 'android', 'javascript', 'java', 'javascript', 'asp.net', 'javascript', 'javascript', 'javascript', 'javascript', 'javascript', 'javascript', 'javascript', 'javascript', 'javascript', 'asp.net', 'jquery', 'asp.net', 'javascript', 'jquery', 'javascript', 'javascript', 'javascript', 'javascript', 'jquery', 'javascript', 'asp.net', 'java', 'javascript', 'java', 'javascript', 'javascript', 'javascript', 'javascript', 'javascript', 'javascript', 'javascript', 'c#', 'javascript', 'javascript', 'javascript', 'asp.net', 'asp.net', 'javascript', 'jquery', 'asp.net', 'java', 'javascript', 'javascript', 'android', 'javascript', 'javascript', 'javascript', 'javascript', 'javascript', 'php', 'jquery', 'c#', 'javascript', 'javascript', 'asp.net', 'javascript', 'javascript', 'javascript', 'javascript', 'jquery', 'javascript', 'javascript', 'javascript', 'javascript', 'javascript', 'jquery', 'c#', 'javascript', 'asp.net', 'javascript', 'javascript', 'javascript', 'java', 'asp.net', 'javascript', 'javascript', 'javascript', 'jquery', 'c#', 'javascript', 'android', 'javascript', 'javascript', 'javascript', 'javascript', 'javascript', 'javascript', 'javascript', 'android', 'android', 'javascript', 'java', 'php', 'c#', 'jquery', 'javascript', 'jquery', 'javascript', 'javascript', 'android', 'android', 'javascript', 'c#', 'jquery', 'javascript', 'asp.net', 'javascript', 'asp.net', 'javascript', 'asp.net', 'asp.net', 'javascript', 'javascript', 'jquery', 'javascript', 'javascript', 'javascript', 'jquery', 'javascript', 'javascript', 'javascript', 'asp.net', 'c#', 'javascript', 'javascript', 'asp.net', 'jquery', 'javascript', 'javascript', 'asp.net', 'javascript', 'javascript', 'c#', 'javascript', 'javascript', 'c#', 'php', 'javascript', 'javascript', 'javascript', 'javascript', 'javascript', 'asp.net', 'javascript', 'asp.net', 'android', 'java', 'asp.net', 'javascript', 'javascript', 'asp.net', 'c#', 'javascript', 'c#', 'jquery', 'javascript', 'javascript', 'javascript', 'javascript', 'javascript', 'javascript', 'javascript', 'javascript', 'javascript', 'javascript', 'c#', 'javascript', 'jquery', 'javascript', 'java', 'asp.net', 'javascript', 'php', 'javascript', 'javascript', 'javascript', 'javascript', 'javascript', 'javascript', 'javascript', 'java', 'java', 'c#', 'asp.net', 'javascript', 'javascript', 'android', 'asp.net', 'java', 'javascript', 'javascript', 'javascript', 'javascript', 'javascript', 'javascript', 'javascript', 'c#', 'javascript', 'asp.net', 'javascript', 'javascript', 'java', 'c#', 'asp.net', 'javascript', 'jquery', 'javascript', 'javascript', 'javascript', 'c#', 'javascript', 'asp.net', 'java', 'javascript', 'javascript', 'javascript', 'java', 'c#', 'javascript', 'javascript', 'javascript', 'javascript', 'javascript', 'jquery', 'javascript', 'javascript', 'android', 'javascript', 'c#', 'asp.net', 'javascript', 'javascript', 'javascript', 'javascript', 'jquery', 'jquery', 'javascript', 'javascript', 'javascript', 'jquery', 'c#', 'javascript', 'java', 'javascript', 'asp.net', 'javascript', 'javascript', 'java', 'asp.net', 'javascript', 'javascript', 'java', 'asp.net', 'javascript', 'asp.net', 'javascript', 'javascript', 'javascript', 'c#', 'android', 'javascript', 'java', 'javascript', 'asp.net', 'java', 'javascript', 'javascript', 'asp.net', 'php', 'javascript', 'java', 'java', 'c#', 'java', 'javascript', 'java', 'javascript', 'javascript', 'jquery', 'java', 'javascript', 'c#', 'php', 'javascript', 'asp.net', 'javascript', 'javascript', 'c#', 'javascript', 'javascript', 'javascript', 'javascript', 'c#', 'javascript', 'javascript', 'javascript', 'android', 'javascript', 'javascript', 'javascript', 'javascript', 'c#', 'javascript', 'javascript', 'jquery', 'asp.net', 'jquery', 'android', 'javascript', 'java', 'javascript', 'javascript', 'javascript', 'javascript', 'jquery', 'javascript', 'javascript', 'javascript', 'javascript', 'java', 'javascript', 'javascript', 'javascript', 'javascript', 'javascript', 'jquery', 'javascript', 'javascript', 'asp.net', 'asp.net', 'javascript', 'javascript', 'java', 'jquery', 'asp.net', 'javascript', 'javascript', 'android', 'javascript', 'javascript', 'asp.net', 'javascript', 'javascript', 'javascript', 'javascript', 'javascript', 'asp.net', 'javascript', 'javascript', 'javascript', 'javascript', 'javascript', 'jquery', 'java', 'java', 'c#', 'android', 'asp.net', 'javascript', 'javascript', 'javascript', 'javascript', 'javascript', 'javascript', 'javascript', 'javascript', 'javascript', 'javascript', 'javascript', 'javascript', 'javascript', 'java', 'javascript', 'javascript', 'javascript', 'javascript', 'javascript', 'c#', 'asp.net', 'javascript', 'javascript', 'javascript', 'javascript', 'asp.net', 'asp.net', 'javascript', 'asp.net', 'javascript', 'jquery', 'c#', 'javascript', 'javascript', 'javascript', 'javascript', 'java', 'javascript', 'javascript', 'javascript', 'javascript', 'javascript', 'android', 'javascript', 'javascript', 'java', 'asp.net', 'javascript', 'javascript', 'javascript', 'javascript', 'jquery', 'javascript', 'javascript', 'javascript', 'javascript', 'android', 'javascript', 'java', 'asp.net', 'javascript', 'javascript', 'jquery', 'asp.net', 'javascript', 'javascript', 'javascript', 'javascript', 'jquery', 'javascript', 'javascript', 'java', 'javascript', 'javascript', 'javascript', 'javascript', 'javascript', 'javascript', 'javascript', 'android', 'javascript', 'javascript', 'javascript', 'javascript', 'android', 'javascript', 'java', 'javascript', 'jquery', 'javascript', 'c#', 'jquery', 'java', 'javascript', 'jquery', 'java', 'java', 'javascript', 'javascript', 'asp.net', 'android', 'javascript', 'javascript', 'jquery', 'jquery', 'jquery', 'c#', 'javascript', 'java', 'android', 'javascript', 'c#', 'c#', 'javascript', 'c#', 'java', 'asp.net', 'javascript', 'java', 'asp.net', 'android', 'javascript', 'php', 'asp.net', 'java', 'asp.net', 'android', 'javascript', 'java', 'javascript', 'javascript', 'java', 'c#', 'javascript', 'asp.net', 'java', 'asp.net', 'javascript', 'javascript', 'asp.net', 'javascript', 'java', 'asp.net', 'javascript', 'javascript', 'asp.net', 'jquery', 'java', 'javascript', 'java', 'javascript', 'javascript', 'android', 'javascript', 'javascript', 'c#', 'javascript', 'c#', 'java', 'c#', 'javascript', 'c#', 'c#', 'javascript', 'javascript', 'javascript', 'javascript', 'javascript', 'asp.net', 'javascript', 'javascript', 'javascript', 'javascript', 'javascript', 'javascript', 'java', 'asp.net', 'javascript', 'c#', 'jquery', 'javascript', 'javascript', 'javascript', 'javascript', 'javascript', 'javascript', 'javascript', 'javascript', 'php', 'javascript', 'javascript', 'jquery', 'javascript', 'java', 'jquery', 'java', 'javascript', 'c#', 'android', 'javascript', 'java', 'javascript', 'javascript', 'javascript', 'javascript', 'asp.net', 'c#', 'javascript', 'javascript', 'jquery', 'asp.net', 'java', 'javascript', 'javascript', 'c#', 'javascript', 'javascript', 'java', 'java', 'javascript', 'javascript', 'c#', 'javascript', 'javascript', 'javascript', 'javascript', 'javascript', 'javascript', 'asp.net', 'javascript', 'javascript', 'asp.net', 'asp.net', 'javascript', 'javascript', 'jquery', 'javascript', 'c#', 'javascript', 'javascript', 'javascript', 'java', 'javascript', 'c#', 'javascript', 'php', 'asp.net', 'javascript', 'c#', 'javascript', 'javascript', 'asp.net', 'jquery', 'javascript', 'javascript', 'c#', 'java', 'java', 'jquery', 'javascript', 'javascript', 'javascript', 'javascript', 'javascript', 'jquery', 'javascript', 'jquery', 'javascript', 'javascript', 'javascript', 'jquery', 'jquery', 'javascript', 'java', 'javascript', 'javascript', 'php', 'javascript', 'java', 'javascript', 'android', 'javascript', 'javascript', 'javascript', 'javascript', 'android', 'javascript', 'javascript', 'javascript', 'javascript', 'javascript', 'java', 'javascript', 'javascript', 'asp.net', 'javascript', 'java', 'c#', 'jquery', 'java', 'javascript', 'javascript', 'android', 'jquery', 'javascript', 'javascript', 'asp.net', 'javascript', 'android', 'java', 'java', 'java', 'jquery', 'javascript', 'java', 'c#', 'c#', 'javascript', 'javascript', 'javascript', 'javascript', 'android', 'jquery', 'c#', 'javascript', 'jquery', 'asp.net', 'javascript', 'java', 'javascript', 'android', 'asp.net', 'javascript', 'javascript', 'asp.net', 'javascript', 'jquery', 'javascript', 'javascript', 'javascript', 'php', 'javascript', 'javascript', 'asp.net', 'c#', 'javascript', 'javascript', 'asp.net', 'c#', 'android', 'javascript', 'javascript', 'javascript', 'jquery', 'c#', 'javascript', 'javascript', 'javascript', 'javascript', 'javascript', 'c#', 'javascript', 'javascript', 'javascript', 'java', 'javascript', 'javascript', 'java', 'java', 'javascript', 'javascript', 'javascript', 'jquery', 'jquery', 'javascript', 'javascript', 'javascript', 'javascript', 'asp.net', 'java', 'asp.net', 'javascript', 'javascript', 'javascript', 'c#', 'javascript', 'asp.net', 'javascript', 'javascript', 'javascript', 'javascript', 'javascript', 'javascript', 'jquery', 'c#', 'javascript', 'javascript', 'asp.net', 'asp.net', 'javascript', 'android', 'javascript', 'java', 'java', 'javascript', 'android', 'javascript', 'c#', 'javascript', 'javascript', 'javascript', 'c#', 'javascript', 'javascript', 'javascript', 'java', 'javascript', 'javascript', 'javascript', 'android', 'javascript', 'android', 'javascript', 'javascript', 'javascript', 'javascript', 'java', 'javascript', 'javascript', 'asp.net', 'c#', 'android', 'javascript', 'javascript', 'javascript', 'javascript', 'javascript', 'jquery', 'javascript', 'asp.net', 'javascript', 'javascript', 'javascript', 'asp.net', 'javascript', 'java', 'javascript', 'javascript', 'java', 'javascript', 'javascript', 'javascript', 'asp.net', 'jquery', 'c#', 'javascript', 'asp.net', 'javascript', 'java', 'asp.net', 'javascript', 'c#', 'jquery', 'android', 'javascript', 'javascript', 'asp.net', 'javascript', 'javascript', 'javascript', 'jquery', 'javascript', 'javascript', 'javascript', 'asp.net', 'jquery', 'java', 'javascript', 'javascript', 'javascript', 'jquery', 'jquery', 'java', 'javascript', 'javascript', 'jquery', 'java', 'java', 'asp.net', 'javascript', 'jquery', 'c#', 'javascript', 'c#', 'jquery', 'java', 'asp.net', 'asp.net', 'javascript', 'jquery', 'javascript', 'javascript', 'java', 'javascript', 'javascript', 'javascript', 'asp.net', 'java', 'javascript', 'javascript', 'javascript', 'javascript', 'javascript', 'java', 'asp.net', 'php', 'java', 'javascript', 'javascript', 'java', 'android', 'javascript', 'javascript', 'java', 'javascript', 'javascript', 'javascript', 'javascript', 'asp.net', 'javascript', 'c#', 'jquery', 'java', 'asp.net', 'javascript', 'jquery', 'javascript', 'c#', 'javascript', 'javascript', 'android', 'javascript', 'javascript', 'javascript', 'asp.net', 'javascript', 'c#', 'javascript', 'javascript', 'c#', 'javascript', 'asp.net', 'javascript', 'java', 'javascript', 'c#', 'javascript', 'jquery', 'javascript', 'asp.net', 'c#', 'java', 'javascript', 'javascript', 'javascript', 'javascript', 'android', 'javascript', 'c#', 'android', 'javascript', 'asp.net', 'asp.net', 'c#', 'javascript', 'android', 'javascript', 'javascript', 'c#', 'jquery', 'asp.net', 'javascript', 'android', 'javascript', 'java', 'asp.net', 'javascript', 'android', 'asp.net', 'javascript', 'asp.net', 'c#', 'javascript', 'javascript', 'javascript', 'jquery', 'javascript', 'javascript', 'javascript', 'asp.net', 'javascript', 'jquery', 'javascript', 'asp.net', 'android', 'javascript', 'c#', 'javascript', 'java', 'javascript', 'javascript', 'jquery', 'javascript', 'jquery', 'javascript', 'javascript', 'javascript', 'asp.net', 'c#', 'javascript', 'javascript', 'javascript', 'javascript', 'javascript', 'c#', 'javascript', 'c#', 'java', 'javascript', 'javascript', 'javascript', 'javascript', 'c#', 'javascript', 'javascript', 'javascript', 'java', 'java', 'javascript', 'javascript', 'javascript', 'javascript', 'javascript', 'jquery', 'android', 'java', 'asp.net', 'javascript', 'javascript', 'asp.net', 'jquery', 'java', 'javascript', 'jquery', 'javascript', 'javascript', 'asp.net', 'jquery', 'javascript', 'java', 'javascript', 'jquery', 'javascript', 'javascript', 'javascript', 'c#', 'javascript', 'asp.net', 'javascript', 'java', 'asp.net', 'javascript', 'asp.net', 'c#', 'java', 'javascript', 'jquery', 'java', 'asp.net', 'asp.net', 'javascript', 'asp.net', 'java', 'javascript', 'java', 'javascript', 'asp.net', 'java', 'javascript', 'javascript', 'jquery', 'asp.net', 'javascript', 'javascript', 'javascript', 'jquery', 'javascript', 'jquery', 'javascript', 'jquery', 'jquery', 'jquery', 'javascript', 'javascript', 'asp.net', 'c#', 'javascript', 'java', 'javascript', 'javascript', 'javascript', 'javascript', 'c#', 'javascript', 'c#', 'jquery', 'php', 'java', 'javascript', 'asp.net', 'jquery', 'javascript', 'c#', 'javascript', 'javascript', 'javascript', 'javascript', 'asp.net', 'javascript', 'javascript', 'javascript', 'javascript', 'javascript', 'javascript', 'javascript', 'javascript', 'asp.net', 'javascript', 'jquery', 'javascript', 'jquery', 'java', 'android', 'javascript', 'javascript', 'java', 'javascript', 'javascript', 'javascript', 'javascript', 'asp.net', 'javascript', 'jquery', 'javascript', 'javascript', 'java', 'javascript', 'javascript', 'javascript', 'java', 'c#', 'javascript', 'javascript', 'c#', 'asp.net', 'javascript', 'c#', 'javascript', 'javascript', 'javascript', 'javascript', 'javascript', 'jquery', 'java', 'javascript', 'javascript', 'javascript', 'jquery', 'asp.net', 'javascript', 'c#', 'javascript', 'c#', 'javascript', 'java', 'asp.net', 'asp.net', 'javascript', 'jquery', 'javascript', 'jquery', 'asp.net', 'asp.net', 'asp.net', 'android', 'javascript', 'c#', 'javascript', 'javascript', 'java', 'javascript', 'javascript', 'javascript', 'c#', 'jquery', 'javascript', 'javascript', 'javascript', 'jquery', 'javascript', 'javascript', 'javascript', 'c#', 'php', 'javascript', 'android', 'javascript', 'javascript', 'javascript', 'java', 'javascript', 'java', 'javascript', 'javascript', 'javascript', 'javascript', 'java', 'javascript', 'c#', 'java', 'javascript', 'javascript', 'javascript', 'javascript', 'javascript', 'javascript', 'asp.net', 'javascript', 'javascript', 'javascript', 'javascript', 'javascript', 'jquery', 'javascript', 'javascript', 'javascript', 'javascript', 'javascript', 'asp.net', 'javascript', 'javascript', 'javascript', 'asp.net', 'c#', 'javascript', 'asp.net', 'c#', 'android', 'c#', 'javascript', 'asp.net', 'c#', 'java', 'javascript', 'javascript', 'javascript', 'javascript', 'c#', 'javascript', 'javascript', 'javascript', 'javascript', 'php', 'javascript', 'javascript', 'javascript', 'javascript', 'c#', 'php', 'javascript', 'javascript', 'javascript', 'javascript', 'java', 'javascript', 'javascript', 'javascript', 'java', 'java', 'javascript', 'java', 'javascript', 'javascript', 'java', 'java', 'javascript', 'jquery', 'javascript', 'javascript', 'javascript', 'javascript', 'c#', 'javascript', 'javascript', 'java', 'c#', 'javascript', 'javascript', 'asp.net', 'javascript', 'asp.net', 'javascript', 'php', 'javascript', 'javascript', 'javascript', 'javascript', 'javascript', 'javascript', 'javascript', 'javascript', 'asp.net', 'javascript', 'javascript', 'php', 'javascript', 'javascript', 'javascript', 'javascript', 'javascript', 'c#', 'javascript', 'javascript', 'javascript', 'javascript', 'android', 'jquery', 'javascript', 'javascript', 'c#', 'javascript', 'java', 'asp.net', 'jquery', 'javascript', 'java', 'javascript', 'javascript', 'javascript', 'android', 'java', 'javascript', 'javascript', 'java', 'javascript', 'android', 'javascript', 'javascript', 'javascript', 'c#', 'javascript', 'javascript', 'java', 'javascript', 'javascript', 'c#', 'javascript', 'asp.net', 'c#', 'javascript', 'javascript', 'javascript', 'java', 'javascript', 'jquery', 'javascript', 'javascript', 'c#', 'javascript', 'c#', 'javascript', 'asp.net', 'javascript', 'asp.net', 'javascript', 'c#', 'javascript', 'c#', 'java', 'javascript', 'javascript', 'asp.net', 'javascript', 'javascript', 'javascript', 'javascript', 'javascript', 'java', 'java', 'java', 'jquery', 'asp.net', 'javascript', 'asp.net', 'android', 'javascript', 'javascript', 'javascript', 'javascript', 'asp.net', 'javascript', 'android', 'javascript', 'c#', 'javascript', 'java', 'javascript', 'javascript', 'javascript', 'javascript', 'php', 'javascript', 'javascript', 'javascript', 'javascript', 'javascript', 'javascript', 'jquery', 'java', 'javascript', 'java', 'javascript', 'javascript', 'javascript', 'javascript', 'javascript', 'javascript', 'javascript', 'java', 'javascript', 'c#', 'android', 'java', 'javascript', 'c#', 'asp.net', 'javascript', 'java', 'c#', 'c#', 'javascript', 'javascript', 'asp.net', 'asp.net', 'c#', 'java', 'jquery', 'javascript', 'asp.net', 'javascript', 'c#', 'java', 'javascript', 'javascript', 'javascript', 'javascript', 'asp.net', 'jquery', 'javascript', 'javascript', 'asp.net', 'c#', 'java', 'jquery', 'javascript', 'javascript', 'javascript', 'javascript', 'javascript', 'asp.net', 'c#', 'javascript', 'java', 'javascript', 'javascript', 'javascript', 'javascript', 'jquery', 'java', 'javascript', 'javascript', 'java', 'jquery', 'c#', 'java', 'java', 'javascript', 'javascript', 'java', 'javascript', 'c#', 'asp.net', 'javascript', 'javascript', 'javascript', 'android', 'javascript', 'jquery', 'jquery', 'java', 'javascript', 'javascript', 'javascript', 'android', 'javascript', 'jquery', 'javascript', 'asp.net', 'javascript', 'c#', 'jquery', 'javascript', 'javascript', 'javascript', 'javascript', 'javascript', 'javascript', 'asp.net', 'javascript', 'javascript', 'javascript', 'java', 'php', 'javascript', 'c#', 'java', 'jquery', 'javascript', 'javascript', 'javascript', 'jquery', 'javascript', 'javascript', 'javascript', 'javascript', 'c#', 'javascript', 'javascript', 'javascript', 'c#', 'javascript', 'java', 'javascript', 'javascript', 'javascript', 'javascript', 'javascript', 'java', 'javascript', 'jquery', 'javascript', 'javascript', 'javascript', 'javascript', 'c#', 'asp.net', 'jquery', 'javascript', 'javascript', 'javascript', 'javascript', 'c#', 'javascript', 'java', 'javascript', 'javascript', 'c#', 'javascript', 'javascript', 'android', 'android', 'javascript', 'javascript', 'javascript', 'android', 'javascript', 'javascript', 'javascript', 'javascript', 'javascript', 'javascript', 'c#', 'android', 'javascript', 'javascript', 'c#', 'javascript', 'javascript', 'javascript', 'javascript', 'javascript', 'asp.net', 'javascript', 'javascript', 'c#', 'javascript', 'javascript', 'php', 'jquery', 'c#', 'jquery', 'asp.net', 'c#', 'java', 'javascript', 'javascript', 'javascript', 'javascript', 'javascript', 'c#', 'android', 'java', 'javascript', 'javascript', 'java', 'javascript', 'javascript', 'javascript', 'javascript', 'javascript', 'javascript', 'javascript', 'javascript', 'asp.net', 'java', 'javascript', 'javascript', 'javascript', 'c#', 'c#', 'javascript', 'javascript', 'java', 'javascript', 'javascript', 'javascript', 'javascript', 'java', 'javascript', 'java', 'javascript', 'javascript', 'javascript', 'java', 'asp.net', 'java', 'javascript', 'javascript', 'javascript', 'javascript', 'javascript', 'c#', 'android', 'java', 'javascript', 'asp.net', 'javascript', 'javascript', 'c#', 'c#', 'javascript', 'asp.net', 'asp.net', 'javascript', 'asp.net', 'javascript', 'javascript', 'javascript', 'c#', 'android', 'javascript', 'c#', 'java', 'javascript', 'javascript', 'javascript', 'javascript', 'java', 'asp.net', 'javascript', 'c#', 'asp.net', 'javascript', 'java', 'javascript', 'android', 'javascript', 'javascript', 'javascript', 'javascript', 'javascript', 'java', 'javascript', 'javascript', 'javascript', 'javascript', 'javascript', 'jquery', 'jquery', 'asp.net', 'asp.net', 'javascript', 'java', 'javascript', 'javascript', 'javascript', 'javascript', 'javascript', 'javascript', 'javascript', 'javascript', 'asp.net', 'c#', 'javascript', 'javascript', 'c#', 'jquery', 'c#', 'php', 'c#', 'javascript', 'jquery', 'javascript', 'android', 'javascript', 'android', 'java', 'javascript', 'javascript', 'android', 'javascript', 'java', 'javascript', 'c#', 'javascript', 'javascript', 'javascript', 'javascript', 'asp.net', 'javascript', 'c#', 'c#', 'java', 'javascript', 'c#', 'c#', 'java', 'javascript', 'javascript', 'javascript', 'jquery', 'javascript', 'javascript', 'javascript', 'java', 'java', 'c#', 'jquery', 'asp.net', 'javascript', 'javascript', 'javascript', 'javascript', 'jquery', 'javascript', 'javascript', 'c#', 'java', 'javascript', 'javascript', 'android', 'asp.net', 'asp.net', 'jquery', 'javascript', 'javascript', 'java', 'asp.net', 'jquery', 'jquery', 'javascript', 'android', 'javascript', 'javascript', 'javascript', 'javascript', 'javascript', 'c#', 'java', 'javascript', 'javascript', 'javascript', 'javascript', 'java', 'javascript', 'java', 'asp.net', 'javascript', 'javascript', 'javascript', 'javascript', 'c#', 'asp.net', 'javascript', 'javascript', 'java', 'javascript', 'javascript', 'javascript', 'javascript', 'javascript', 'javascript', 'javascript', 'javascript', 'javascript', 'javascript', 'java', 'javascript', 'javascript', 'javascript', 'c#', 'java', 'java', 'javascript', 'jquery', 'android', 'javascript', 'javascript', 'javascript', 'javascript', 'jquery', 'javascript', 'c#', 'javascript', 'java', 'asp.net', 'javascript', 'javascript', 'javascript', 'javascript', 'javascript', 'javascript', 'c#', 'asp.net', 'java', 'javascript', 'javascript', 'asp.net', 'javascript', 'javascript', 'c#', 'javascript', 'java', 'javascript', 'javascript', 'javascript', 'javascript', 'java', 'javascript', 'c#', 'javascript', 'asp.net', 'javascript', 'jquery', 'javascript', 'javascript', 'jquery', 'android', 'javascript', 'javascript', 'c#', 'javascript', 'java', 'javascript', 'javascript', 'asp.net', 'javascript', 'java', 'javascript', 'javascript', 'javascript', 'jquery', 'asp.net', 'javascript', 'javascript', 'javascript', 'javascript', 'javascript', 'android', 'javascript', 'c#', 'javascript', 'javascript', 'java', 'asp.net', 'java', 'javascript', 'asp.net', 'c#', 'javascript', 'android', 'asp.net', 'java', 'javascript', 'java', 'java', 'jquery', 'javascript', 'asp.net', 'c#', 'java', 'jquery', 'asp.net', 'javascript', 'javascript', 'javascript', 'javascript', 'javascript', 'javascript', 'jquery', 'javascript', 'javascript', 'javascript', 'java', 'javascript', 'javascript', 'javascript', 'c#', 'javascript', 'java', 'javascript', 'jquery', 'javascript', 'javascript', 'javascript', 'javascript', 'java', 'javascript', 'javascript', 'asp.net', 'asp.net', 'javascript', 'c#', 'javascript', 'php', 'android', 'c#', 'java', 'javascript', 'javascript', 'c#', 'javascript', 'android', 'javascript', 'javascript', 'javascript', 'asp.net', 'javascript', 'javascript', 'c#', 'javascript', 'javascript', 'jquery', 'java', 'javascript', 'javascript', 'javascript', 'javascript', 'c#', 'javascript', 'asp.net', 'javascript', 'javascript', 'android', 'javascript', 'javascript', 'javascript', 'javascript', 'java', 'java', 'javascript', 'java', 'javascript', 'java', 'java', 'javascript', 'c#', 'javascript', 'javascript', 'android', 'javascript', 'javascript', 'java', 'javascript', 'javascript', 'javascript', 'javascript', 'javascript', 'java', 'c#', 'javascript', 'java', 'asp.net', 'javascript', 'javascript', 'javascript', 'javascript', 'java', 'javascript', 'javascript', 'javascript', 'javascript', 'javascript', 'c#', 'javascript', 'javascript', 'javascript', 'c#', 'javascript', 'javascript', 'javascript', 'javascript', 'javascript', 'javascript', 'javascript', 'java', 'javascript', 'javascript', 'javascript', 'c#', 'c#', 'c#', 'javascript', 'javascript', 'javascript', 'php', 'javascript', 'java', 'javascript', 'javascript', 'javascript', 'javascript', 'javascript', 'javascript', 'javascript', 'javascript', 'javascript', 'javascript', 'javascript', 'java', 'java', 'javascript', 'asp.net', 'javascript', 'javascript', 'php', 'javascript', 'java', 'javascript', 'java', 'javascript', 'javascript', 'jquery', 'asp.net', 'php', 'javascript', 'javascript', 'javascript', 'javascript', 'javascript', 'javascript', 'android', 'javascript', 'javascript', 'jquery', 'javascript', 'javascript', 'c#', 'javascript', 'jquery', 'android', 'javascript', 'javascript', 'javascript', 'java', 'c#', 'javascript', 'javascript', 'asp.net', 'php', 'c#', 'android', 'java', 'javascript', 'javascript', 'asp.net', 'javascript', 'javascript', 'javascript', 'c#', 'jquery', 'jquery', 'javascript', 'javascript', 'android', 'javascript', 'jquery', 'javascript', 'javascript', 'java', 'javascript', 'javascript', 'android', 'asp.net', 'c#', 'c#', 'android', 'asp.net', 'javascript', 'javascript', 'javascript', 'javascript', 'javascript', 'c#', 'javascript', 'asp.net', 'android', 'java', 'asp.net', 'javascript', 'asp.net', 'javascript', 'c#', 'javascript', 'javascript', 'javascript', 'jquery', 'javascript', 'javascript', 'jquery', 'c#', 'javascript', 'javascript', 'asp.net', 'javascript', 'javascript', 'jquery', 'c#', 'javascript', 'javascript', 'javascript', 'asp.net', 'javascript', 'javascript', 'javascript', 'javascript', 'javascript', 'javascript', 'c#', 'javascript', 'javascript', 'javascript', 'javascript', 'javascript', 'javascript', 'javascript', 'c#', 'java', 'javascript', 'javascript', 'asp.net', 'javascript', 'jquery', 'javascript', 'java', 'java', 'javascript', 'java', 'asp.net', 'javascript', 'android', 'javascript', 'android', 'javascript', 'javascript', 'asp.net', 'javascript', 'asp.net', 'javascript', 'javascript', 'javascript', 'javascript', 'javascript', 'javascript', 'javascript', 'javascript', 'javascript', 'javascript', 'javascript', 'c#', 'javascript', 'javascript', 'javascript', 'javascript', 'c#', 'javascript', 'javascript', 'android', 'javascript', 'javascript', 'asp.net', 'java', 'javascript', 'javascript', 'asp.net', 'asp.net', 'java', 'javascript', 'jquery', 'java', 'jquery', 'c#', 'java', 'php', 'javascript', 'javascript', 'c#', 'c#', 'javascript', 'javascript', 'javascript', 'javascript', 'javascript', 'asp.net', 'javascript', 'javascript', 'asp.net', 'javascript', 'javascript', 'php', 'javascript', 'javascript', 'asp.net', 'c#', 'javascript', 'asp.net', 'javascript', 'javascript', 'javascript', 'javascript', 'javascript', 'javascript', 'jquery', 'asp.net', 'javascript', 'asp.net', 'jquery', 'jquery', 'javascript', 'javascript', 'javascript', 'javascript', 'javascript', 'javascript', 'javascript', 'jquery', 'asp.net', 'java', 'javascript', 'c#', 'javascript', 'javascript', 'javascript', 'c#', 'asp.net', 'javascript', 'javascript', 'javascript', 'javascript', 'javascript', 'c#', 'asp.net', 'java', 'javascript', 'javascript', 'javascript', 'java', 'java', 'javascript', 'jquery', 'javascript', 'javascript', 'javascript', 'javascript', 'javascript', 'java', 'javascript', 'javascript', 'javascript', 'asp.net', 'javascript', 'javascript', 'javascript', 'javascript', 'javascript', 'javascript', 'jquery', 'android', 'jquery', 'javascript', 'java', 'c#', 'javascript', 'javascript', 'c#', 'javascript', 'javascript', 'javascript', 'javascript', 'java', 'javascript', 'c#', 'android', 'javascript', 'javascript', 'javascript', 'asp.net', 'javascript', 'javascript', 'javascript', 'javascript', 'java', 'java', 'javascript', 'javascript', 'c#', 'javascript', 'javascript', 'c#', 'javascript', 'jquery', 'javascript', 'jquery', 'java', 'javascript', 'javascript', 'asp.net', 'jquery', 'javascript', 'javascript', 'c#', 'javascript', 'android', 'javascript', 'jquery', 'jquery', 'javascript', 'javascript', 'jquery', 'javascript', 'javascript', 'javascript', 'java', 'javascript', 'javascript', 'java', 'javascript', 'javascript', 'javascript', 'android', 'asp.net', 'javascript', 'jquery', 'javascript', 'javascript', 'javascript', 'javascript', 'c#', 'javascript', 'java', 'javascript', 'javascript', 'asp.net', 'java', 'javascript', 'javascript', 'android', 'javascript', 'javascript', 'javascript', 'javascript', 'c#', 'jquery', 'javascript', 'javascript', 'javascript', 'javascript', 'javascript', 'javascript', 'javascript', 'java', 'javascript', 'java', 'javascript', 'javascript', 'javascript', 'javascript', 'javascript', 'javascript', 'jquery', 'javascript', 'android', 'javascript', 'javascript', 'android', 'javascript', 'javascript', 'javascript', 'javascript', 'javascript', 'javascript', 'javascript', 'jquery', 'asp.net', 'javascript', 'javascript', 'javascript', 'javascript', 'javascript', 'javascript', 'javascript', 'javascript', 'android', 'javascript', 'javascript', 'jquery', 'php', 'javascript', 'javascript', 'javascript', 'jquery', 'asp.net', 'c#', 'jquery', 'c#', 'javascript', 'c#', 'javascript', 'asp.net', 'java', 'javascript', 'javascript', 'android', 'c#', 'c#', 'java', 'android', 'javascript', 'javascript', 'asp.net', 'c#', 'javascript', 'javascript', 'javascript', 'javascript', 'javascript', 'javascript', 'asp.net', 'asp.net', 'javascript', 'jquery', 'javascript', 'java', 'javascript', 'javascript', 'javascript', 'jquery', 'jquery', 'jquery', 'c#', 'asp.net', 'asp.net', 'javascript', 'javascript', 'javascript', 'c#', 'javascript', 'android', 'java', 'jquery', 'c#', 'jquery', 'javascript', 'javascript', 'javascript', 'c#', 'javascript', 'javascript', 'javascript', 'javascript', 'jquery', 'javascript', 'javascript', 'c#', 'jquery', 'javascript', 'javascript', 'javascript', 'jquery', 'javascript', 'jquery', 'javascript', 'java', 'asp.net', 'javascript', 'android', 'javascript', 'javascript', 'jquery', 'android', 'jquery', 'javascript', 'javascript', 'javascript', 'javascript', 'javascript', 'javascript', 'javascript', 'android', 'c#', 'javascript', 'javascript', 'java', 'java', 'javascript', 'javascript', 'javascript', 'java', 'javascript', 'javascript', 'javascript', 'java', 'javascript', 'java', 'javascript', 'jquery', 'javascript', 'asp.net', 'java', 'jquery', 'asp.net', 'javascript', 'javascript', 'java', 'javascript', 'jquery', 'java', 'javascript', 'asp.net', 'java', 'asp.net', 'javascript', 'jquery', 'javascript', 'asp.net', 'java', 'javascript', 'asp.net', 'c#', 'jquery', 'javascript', 'javascript', 'javascript', 'javascript', 'c#', 'javascript', 'javascript', 'javascript', 'javascript', 'javascript', 'javascript', 'asp.net', 'java', 'java', 'jquery', 'java', 'asp.net', 'javascript', 'php', 'javascript', 'javascript', 'javascript', 'javascript', 'c#', 'javascript', 'javascript', 'javascript', 'javascript', 'jquery', 'javascript', 'javascript', 'javascript', 'javascript', 'java', 'c#', 'c#', 'c#', 'javascript', 'java', 'javascript', 'javascript', 'javascript', 'javascript', 'javascript', 'asp.net', 'javascript', 'asp.net', 'asp.net', 'javascript', 'jquery', 'javascript', 'java', 'javascript', 'javascript', 'c#', 'javascript', 'javascript', 'c#', 'javascript', 'jquery', 'javascript', 'javascript', 'javascript', 'javascript', 'android', 'javascript', 'jquery', 'javascript', 'java', 'java', 'javascript', 'javascript', 'javascript', 'javascript', 'javascript', 'asp.net', 'javascript', 'javascript', 'asp.net', 'java', 'java', 'javascript', 'javascript', 'javascript', 'javascript', 'asp.net', 'java', 'c#', 'jquery', 'javascript', 'android', 'android', 'javascript', 'javascript', 'javascript', 'javascript', 'javascript', 'c#', 'javascript', 'javascript', 'javascript', 'javascript', 'c#', 'c#', 'java', 'javascript', 'java', 'javascript', 'javascript', 'javascript', 'javascript', 'jquery', 'javascript', 'javascript', 'javascript', 'javascript', 'java', 'javascript', 'jquery', 'javascript', 'java', 'javascript', 'javascript', 'c#', 'javascript', 'android', 'javascript', 'jquery', 'java', 'jquery', 'jquery', 'javascript', 'javascript', 'javascript', 'javascript', 'java', 'asp.net', 'javascript', 'php', 'jquery', 'c#', 'asp.net', 'java', 'javascript', 'javascript', 'javascript', 'javascript', 'javascript', 'javascript', 'javascript', 'javascript', 'android', 'jquery', 'jquery', 'javascript', 'jquery', 'javascript', 'javascript', 'javascript', 'javascript', 'javascript', 'javascript', 'javascript', 'c#', 'javascript', 'javascript', 'javascript', 'jquery', 'javascript', 'c#', 'javascript', 'java', 'c#', 'java', 'javascript', 'android', 'javascript', 'javascript', 'asp.net', 'javascript', 'c#', 'java', 'jquery', 'javascript', 'javascript', 'c#', 'javascript', 'asp.net', 'javascript', 'javascript', 'jquery', 'javascript', 'asp.net', 'javascript', 'javascript', 'javascript', 'c#', 'java', 'javascript', 'javascript', 'javascript', 'android', 'javascript', 'javascript', 'javascript', 'javascript', 'c#', 'javascript', 'javascript', 'javascript', 'javascript', 'javascript', 'javascript', 'asp.net', 'asp.net', 'javascript', 'c#', 'jquery', 'jquery', 'asp.net', 'javascript', 'javascript', 'jquery', 'java', 'javascript', 'asp.net', 'c#', 'java', 'javascript', 'jquery', 'jquery', 'javascript', 'javascript', 'java', 'javascript', 'php', 'javascript', 'javascript', 'android', 'jquery', 'javascript', 'javascript', 'jquery', 'java', 'jquery', 'android', 'asp.net', 'javascript', 'c#', 'javascript', 'javascript', 'c#', 'javascript', 'javascript', 'javascript', 'javascript', 'javascript', 'asp.net', 'android', 'javascript', 'c#', 'javascript', 'javascript', 'jquery', 'java', 'javascript', 'javascript', 'jquery', 'javascript', 'javascript', 'javascript', 'android', 'java', 'javascript', 'javascript', 'javascript', 'jquery', 'javascript', 'javascript', 'javascript', 'javascript', 'c#', 'javascript', 'asp.net', 'jquery', 'javascript', 'javascript', 'javascript', 'javascript', 'javascript', 'javascript', 'c#', 'jquery', 'javascript', 'javascript', 'android', 'c#', 'android', 'javascript', 'asp.net', 'asp.net', 'javascript', 'javascript', 'asp.net', 'asp.net', 'asp.net', 'jquery', 'javascript', 'asp.net', 'javascript', 'php', 'javascript', 'javascript', 'javascript', 'javascript', 'javascript', 'java', 'javascript', 'javascript', 'javascript', 'javascript', 'asp.net', 'javascript', 'php', 'asp.net', 'javascript', 'javascript', 'javascript', 'java', 'javascript', 'c#', 'javascript', 'javascript', 'javascript', 'java', 'javascript', 'java', 'javascript', 'c#', 'javascript', 'javascript', 'javascript', 'javascript', 'c#', 'javascript', 'javascript', 'jquery', 'javascript', 'javascript', 'java', 'java', 'javascript', 'jquery', 'javascript', 'asp.net', 'java', 'java', 'jquery', 'javascript', 'javascript', 'java', 'javascript', 'javascript', 'asp.net', 'javascript', 'javascript', 'javascript', 'jquery', 'javascript', 'asp.net', 'javascript', 'asp.net', 'asp.net', 'javascript', 'javascript', 'jquery', 'asp.net', 'javascript', 'javascript', 'javascript', 'java', 'jquery', 'jquery', 'asp.net', 'java', 'javascript', 'javascript', 'java', 'c#', 'javascript', 'javascript', 'javascript', 'javascript', 'javascript', 'javascript', 'javascript', 'android', 'javascript', 'jquery', 'javascript', 'javascript', 'c#', 'javascript', 'javascript', 'php', 'javascript', 'java', 'jquery', 'c#', 'c#', 'java', 'java', 'javascript', 'javascript', 'javascript', 'jquery', 'asp.net', 'javascript', 'javascript', 'javascript', 'javascript', 'jquery', 'javascript', 'javascript', 'java', 'jquery', 'javascript', 'javascript', 'javascript', 'asp.net', 'javascript', 'javascript', 'java', 'android', 'c#', 'android', 'javascript', 'javascript', 'javascript', 'java', 'javascript', 'c#', 'asp.net', 'javascript', 'javascript', 'javascript', 'javascript', 'java', 'c#', 'asp.net', 'asp.net', 'javascript', 'javascript', 'javascript', 'javascript', 'javascript', 'asp.net', 'javascript', 'java', 'asp.net', 'javascript', 'java', 'javascript', 'javascript', 'javascript', 'jquery', 'javascript', 'java', 'javascript', 'android', 'javascript', 'jquery', 'javascript', 'javascript', 'java', 'javascript', 'android', 'javascript', 'javascript', 'javascript', 'javascript', 'javascript', 'c#', 'javascript', 'javascript', 'javascript', 'jquery', 'javascript', 'javascript', 'javascript', 'android', 'javascript', 'javascript', 'java', 'javascript', 'c#', 'javascript', 'javascript', 'javascript', 'javascript', 'c#', 'c#', 'javascript', 'javascript', 'java', 'jquery', 'javascript', 'jquery', 'java', 'javascript', 'java', 'java', 'javascript', 'c#', 'javascript', 'javascript', 'java', 'javascript', 'javascript', 'javascript', 'javascript', 'c#', 'javascript', 'javascript', 'javascript', 'asp.net', 'jquery', 'javascript', 'java', 'javascript', 'asp.net', 'javascript', 'javascript', 'javascript', 'javascript', 'javascript', 'javascript', 'jquery', 'asp.net', 'javascript', 'javascript', 'javascript', 'javascript', 'jquery', 'jquery', 'asp.net', 'asp.net', 'javascript', 'asp.net', 'javascript', 'asp.net', 'java', 'javascript', 'javascript', 'asp.net', 'jquery', 'asp.net', 'javascript', 'javascript', 'javascript', 'javascript', 'javascript', 'javascript', 'javascript', 'javascript', 'asp.net', 'javascript', 'javascript', 'javascript', 'jquery', 'javascript', 'javascript', 'javascript', 'java', 'c#', 'c#', 'asp.net', 'javascript', 'asp.net', 'javascript', 'javascript', 'javascript', 'javascript', 'jquery', 'c#', 'javascript', 'c#', 'jquery', 'javascript', 'java', 'javascript', 'asp.net', 'java', 'asp.net', 'javascript', 'javascript', 'java', 'javascript', 'javascript', 'c#', 'asp.net', 'javascript', 'java', 'javascript', 'jquery', 'javascript', 'javascript', 'java', 'javascript', 'java', 'javascript', 'javascript', 'c#', 'javascript', 'c#', 'javascript', 'javascript', 'javascript', 'asp.net', 'javascript', 'javascript', 'asp.net', 'javascript', 'javascript', 'asp.net', 'c#', 'javascript', 'javascript', 'c#', 'javascript', 'javascript', 'javascript', 'javascript', 'javascript', 'c#', 'c#', 'javascript', 'javascript', 'javascript', 'c#', 'jquery', 'javascript', 'java', 'javascript', 'java', 'java', 'javascript', 'javascript', 'javascript', 'javascript', 'javascript', 'javascript', 'java', 'javascript', 'javascript', 'javascript', 'javascript', 'javascript', 'java', 'android', 'jquery', 'asp.net', 'javascript', 'javascript', 'javascript', 'javascript', 'jquery', 'javascript', 'javascript', 'javascript', 'javascript', 'javascript', 'javascript', 'java', 'android', 'javascript', 'javascript', 'javascript', 'javascript', 'javascript', 'javascript', 'javascript', 'java', 'javascript', 'javascript', 'javascript', 'jquery', 'javascript', 'javascript', 'asp.net', 'c#', 'javascript', 'javascript', 'javascript', 'javascript', 'javascript', 'javascript', 'javascript', 'c#', 'jquery', 'javascript', 'javascript', 'javascript', 'javascript', 'c#', 'java', 'javascript', 'c#', 'javascript', 'javascript', 'javascript', 'javascript', 'javascript', 'jquery', 'asp.net', 'javascript', 'javascript', 'c#', 'javascript', 'c#', 'javascript', 'jquery', 'javascript', 'javascript', 'javascript', 'javascript', 'c#', 'javascript', 'java', 'jquery', 'java', 'javascript', 'jquery', 'javascript', 'java', 'asp.net', 'javascript', 'javascript', 'c#', 'javascript', 'android', 'c#', 'javascript', 'javascript', 'javascript', 'java', 'javascript', 'jquery', 'javascript', 'javascript', 'javascript', 'javascript', 'javascript', 'javascript', 'java', 'javascript', 'java', 'javascript', 'asp.net', 'javascript', 'java', 'java', 'javascript', 'javascript', 'jquery', 'javascript', 'asp.net', 'javascript', 'javascript', 'c#', 'asp.net', 'jquery', 'jquery', 'javascript', 'jquery', 'php', 'javascript', 'javascript', 'javascript', 'c#', 'javascript', 'asp.net', 'javascript', 'java', 'javascript', 'javascript', 'javascript', 'javascript', 'jquery', 'java', 'java', 'asp.net', 'java', 'jquery', 'javascript', 'asp.net', 'android', 'c#', 'jquery', 'php', 'javascript', 'jquery', 'asp.net', 'javascript', 'javascript', 'asp.net', 'javascript', 'jquery', 'javascript', 'javascript', 'java', 'javascript', 'javascript', 'javascript', 'java', 'c#', 'javascript', 'c#', 'javascript', 'javascript', 'javascript', 'javascript', 'jquery', 'javascript', 'asp.net', 'jquery', 'asp.net', 'jquery', 'asp.net', 'asp.net', 'javascript', 'javascript', 'javascript', 'javascript', 'asp.net', 'java', 'android', 'c#', 'c#', 'javascript', 'javascript', 'javascript', 'jquery', 'jquery', 'javascript', 'jquery', 'javascript', 'android', 'jquery', 'javascript', 'javascript', 'javascript', 'asp.net', 'javascript', 'javascript', 'java', 'javascript', 'jquery', 'c#', 'jquery', 'jquery', 'javascript', 'javascript', 'javascript', 'javascript', 'java', 'javascript', 'c#', 'javascript', 'javascript', 'javascript', 'javascript', 'jquery', 'jquery', 'javascript', 'javascript', 'javascript', 'jquery', 'javascript', 'javascript', 'java', 'asp.net', 'javascript', 'javascript', 'java', 'c#', 'javascript', 'javascript', 'javascript', 'android', 'javascript', 'javascript', 'c#', 'javascript', 'jquery', 'javascript', 'jquery', 'jquery', 'c#', 'javascript', 'android', 'javascript', 'javascript', 'android', 'javascript', 'javascript', 'javascript', 'c#', 'javascript', 'asp.net', 'javascript', 'javascript', 'c#', 'java', 'javascript', 'android', 'javascript', 'java', 'java', 'javascript', 'java', 'c#', 'javascript', 'javascript', 'jquery', 'c#', 'javascript', 'javascript', 'java', 'javascript', 'android', 'javascript', 'java', 'java', 'javascript', 'javascript', 'javascript', 'java', 'javascript', 'c#', 'android', 'asp.net', 'asp.net', 'asp.net', 'c#', 'javascript', 'javascript', 'c#', 'javascript', 'c#', 'javascript', 'javascript', 'javascript', 'javascript', 'javascript', 'javascript', 'javascript', 'android', 'android', 'javascript', 'javascript', 'javascript', 'javascript', 'javascript', 'javascript', 'javascript', 'javascript', 'javascript', 'asp.net', 'javascript', 'javascript', 'javascript', 'javascript', 'javascript', 'javascript', 'jquery', 'javascript', 'asp.net', 'javascript', 'jquery', 'javascript', 'asp.net', 'javascript', 'jquery', 'android', 'android', 'javascript', 'c#', 'javascript', 'java', 'javascript', 'javascript', 'jquery', 'javascript', 'c#', 'java', 'javascript', 'javascript', 'c#', 'c#', 'javascript', 'javascript', 'javascript', 'jquery', 'javascript', 'java', 'javascript', 'javascript', 'javascript', 'c#', 'javascript', 'jquery', 'java', 'javascript', 'javascript', 'java', 'jquery', 'javascript', 'java', 'java', 'javascript', 'javascript', 'java', 'java', 'java', 'javascript', 'javascript', 'javascript', 'c#', 'javascript', 'javascript', 'javascript', 'asp.net', 'java', 'javascript', 'javascript', 'jquery', 'javascript', 'javascript', 'javascript', 'java', 'javascript', 'android', 'java', 'c#', 'javascript', 'javascript', 'java', 'java', 'c#', 'android', 'asp.net', 'asp.net', 'android', 'javascript', 'c#', 'java', 'javascript', 'javascript', 'javascript', 'javascript', 'javascript', 'java', 'javascript', 'javascript', 'javascript', 'c#', 'javascript', 'php', 'c#', 'jquery', 'javascript', 'javascript', 'android', 'javascript', 'php', 'javascript', 'javascript', 'jquery', 'javascript', 'javascript', 'javascript', 'java', 'javascript', 'javascript', 'jquery', 'java', 'javascript', 'javascript', 'php', 'javascript', 'php', 'c#', 'c#', 'javascript', 'android', 'java', 'javascript', 'asp.net', 'jquery', 'javascript', 'javascript', 'javascript', 'android', 'java', 'javascript', 'android', 'javascript', 'javascript', 'javascript', 'javascript', 'php', 'asp.net', 'javascript', 'javascript', 'java', 'java', 'javascript', 'javascript', 'javascript', 'javascript', 'javascript', 'php', 'javascript', 'c#', 'javascript', 'javascript', 'javascript', 'javascript', 'jquery', 'java', 'jquery', 'javascript', 'javascript', 'javascript', 'javascript', 'android', 'c#', 'javascript', 'javascript', 'c#', 'javascript', 'javascript', 'javascript', 'jquery', 'javascript', 'asp.net', 'javascript', 'javascript', 'javascript', 'c#', 'c#', 'java', 'javascript', 'asp.net', 'javascript', 'javascript', 'javascript', 'c#', 'asp.net', 'javascript', 'asp.net', 'javascript', 'java', 'javascript', 'c#', 'javascript', 'javascript', 'c#', 'java', 'javascript', 'java', 'java', 'javascript', 'c#', 'java', 'javascript', 'javascript', 'javascript', 'javascript', 'javascript', 'jquery', 'javascript', 'asp.net', 'javascript', 'java', 'javascript', 'asp.net', 'php', 'jquery', 'javascript', 'asp.net', 'javascript', 'javascript', 'c#', 'javascript', 'javascript', 'javascript', 'javascript', 'asp.net', 'javascript', 'c#', 'javascript', 'javascript', 'javascript', 'java', 'asp.net', 'javascript', 'javascript', 'javascript', 'c#', 'javascript', 'asp.net', 'javascript', 'c#', 'javascript', 'c#', 'javascript', 'asp.net', 'c#', 'javascript', 'javascript', 'javascript', 'java', 'jquery', 'javascript', 'jquery', 'c#', 'javascript', 'jquery', 'javascript', 'java', 'javascript', 'javascript', 'javascript', 'php', 'javascript', 'c#', 'java', 'javascript', 'android', 'javascript', 'java', 'c#', 'javascript', 'javascript', 'php', 'javascript', 'php', 'javascript', 'c#', 'javascript', 'javascript', 'javascript', 'javascript', 'asp.net', 'javascript', 'c#', 'javascript', 'asp.net', 'jquery', 'jquery', 'c#', 'javascript', 'javascript', 'java', 'c#', 'jquery', 'javascript', 'javascript', 'javascript', 'javascript', 'javascript', 'jquery', 'javascript', 'javascript', 'c#', 'java', 'javascript', 'jquery', 'javascript', 'asp.net', 'java', 'javascript', 'javascript', 'javascript', 'javascript', 'android', 'javascript', 'javascript', 'javascript', 'javascript', 'asp.net', 'jquery', 'javascript', 'asp.net', 'java', 'jquery', 'javascript', 'android', 'javascript', 'javascript', 'javascript', 'javascript', 'javascript', 'javascript', 'javascript', 'jquery', 'asp.net', 'javascript', 'javascript', 'jquery', 'javascript', 'asp.net', 'javascript', 'javascript', 'javascript', 'java', 'asp.net', 'c#', 'java', 'javascript', 'jquery', 'c#', 'javascript', 'java', 'jquery', 'javascript', 'java', 'javascript', 'javascript', 'asp.net', 'java', 'javascript', 'java', 'jquery', 'java', 'javascript', 'javascript', 'javascript', 'asp.net', 'asp.net', 'java', 'javascript', 'asp.net', 'javascript', 'android', 'javascript', 'c#', 'asp.net', 'javascript', 'javascript', 'asp.net', 'javascript', 'c#', 'javascript', 'asp.net', 'javascript', 'c#', 'jquery', 'javascript', 'javascript', 'javascript', 'javascript', 'javascript', 'javascript', 'java', 'c#', 'javascript', 'java', 'javascript', 'c#', 'jquery', 'javascript', 'javascript', 'javascript', 'java', 'javascript', 'c#', 'java', 'android', 'javascript', 'jquery', 'javascript', 'asp.net', 'javascript', 'c#', 'javascript', 'javascript', 'javascript', 'java', 'javascript', 'javascript', 'asp.net', 'java', 'javascript', 'android', 'javascript', 'c#', 'c#', 'javascript', 'jquery', 'javascript', 'android', 'javascript', 'javascript', 'asp.net', 'javascript', 'java', 'javascript', 'android', 'jquery', 'javascript', 'javascript', 'c#', 'c#', 'javascript', 'javascript', 'javascript', 'asp.net', 'javascript', 'c#', 'javascript', 'jquery', 'javascript', 'asp.net', 'javascript', 'asp.net', 'asp.net', 'javascript', 'javascript', 'javascript', 'javascript', 'jquery', 'javascript', 'javascript', 'javascript', 'c#', 'android', 'javascript', 'java', 'javascript', 'asp.net', 'jquery', 'javascript', 'javascript', 'jquery', 'javascript', 'c#', 'javascript', 'javascript', 'c#', 'javascript', 'jquery', 'javascript', 'java', 'javascript', 'javascript', 'javascript', 'javascript', 'java', 'javascript', 'javascript', 'javascript', 'javascript', 'jquery', 'c#', 'javascript', 'javascript', 'asp.net', 'jquery', 'jquery', 'asp.net', 'javascript', 'c#', 'javascript', 'javascript', 'javascript', 'javascript', 'javascript', 'java', 'php', 'javascript', 'javascript', 'javascript', 'javascript', 'javascript', 'javascript', 'javascript', 'javascript', 'javascript', 'javascript', 'javascript', 'javascript', 'javascript', 'javascript', 'javascript', 'javascript', 'jquery', 'jquery', 'asp.net', 'javascript', 'javascript', 'android', 'javascript', 'javascript', 'android', 'java', 'javascript', 'java', 'php', 'javascript', 'asp.net', 'javascript', 'android', 'javascript', 'javascript', 'jquery', 'javascript', 'asp.net', 'java', 'jquery', 'javascript', 'java', 'javascript', 'java', 'javascript', 'javascript', 'jquery', 'javascript', 'asp.net', 'javascript', 'javascript', 'javascript', 'javascript', 'javascript', 'java', 'javascript', 'javascript', 'javascript', 'android', 'javascript', 'javascript', 'java', 'java', 'javascript', 'asp.net', 'javascript', 'javascript', 'android', 'javascript', 'javascript', 'android', 'android', 'c#', 'javascript', 'javascript', 'javascript', 'java', 'c#', 'javascript', 'javascript', 'javascript', 'javascript', 'javascript', 'javascript', 'java', 'javascript', 'javascript', 'asp.net', 'javascript', 'javascript', 'javascript', 'c#', 'javascript', 'javascript', 'javascript', 'javascript', 'c#', 'java', 'asp.net', 'javascript', 'javascript', 'javascript', 'javascript', 'javascript', 'jquery', 'javascript', 'javascript', 'jquery', 'javascript', 'javascript', 'javascript', 'javascript', 'javascript', 'c#', 'javascript', 'javascript', 'javascript', 'javascript', 'javascript', 'javascript', 'php', 'java', 'asp.net', 'jquery', 'java', 'javascript', 'jquery', 'android', 'java', 'jquery', 'javascript', 'jquery', 'javascript', 'c#', 'java', 'jquery', 'javascript', 'javascript', 'java', 'javascript', 'c#', 'javascript', 'javascript', 'javascript', 'javascript', 'c#', 'javascript', 'c#', 'javascript', 'android', 'jquery', 'javascript', 'javascript', 'javascript', 'javascript', 'javascript', 'javascript', 'javascript', 'javascript', 'java', 'javascript', 'javascript', 'javascript', 'c#', 'javascript', 'javascript', 'php', 'javascript', 'javascript', 'javascript', 'c#', 'jquery', 'javascript', 'php', 'javascript', 'javascript', 'asp.net', 'javascript', 'asp.net', 'javascript', 'jquery', 'java', 'javascript', 'javascript', 'c#', 'javascript', 'c#', 'javascript', 'javascript', 'c#', 'java', 'javascript', 'javascript', 'asp.net', 'javascript', 'javascript', 'javascript', 'javascript', 'javascript', 'java', 'c#', 'javascript', 'c#', 'javascript', 'javascript', 'javascript', 'java', 'javascript', 'jquery', 'javascript', 'javascript', 'javascript', 'javascript', 'javascript', 'javascript', 'asp.net', 'javascript', 'java', 'jquery', 'javascript', 'java', 'jquery', 'java', 'javascript', 'javascript', 'java', 'javascript', 'javascript', 'c#', 'java', 'javascript', 'php', 'javascript', 'c#', 'javascript', 'javascript', 'javascript', 'javascript', 'jquery', 'javascript', 'asp.net', 'javascript', 'javascript', 'javascript', 'javascript', 'jquery', 'php', 'javascript', 'javascript', 'javascript', 'c#', 'javascript', 'jquery', 'c#', 'android', 'javascript', 'jquery', 'javascript', 'javascript', 'javascript', 'jquery', 'javascript', 'jquery', 'javascript', 'javascript', 'javascript', 'javascript', 'jquery', 'c#', 'javascript', 'javascript', 'javascript', 'c#', 'javascript', 'java', 'c#', 'javascript', 'java', 'asp.net', 'java', 'javascript', 'javascript', 'java', 'javascript', 'php', 'c#', 'java', 'c#', 'c#', 'javascript', 'jquery', 'java', 'javascript', 'c#', 'javascript', 'javascript', 'javascript', 'javascript', 'javascript', 'javascript', 'javascript', 'asp.net', 'c#', 'javascript', 'javascript', 'javascript', 'javascript', 'javascript', 'javascript', 'javascript', 'jquery', 'javascript', 'javascript', 'javascript', 'java', 'javascript', 'c#', 'java', 'javascript', 'javascript', 'java', 'javascript', 'javascript', 'javascript', 'javascript', 'javascript', 'javascript', 'javascript', 'asp.net', 'asp.net', 'jquery', 'javascript', 'java', 'android', 'javascript', 'java', 'javascript', 'javascript', 'javascript', 'javascript', 'javascript', 'javascript', 'c#', 'javascript', 'asp.net', 'javascript', 'jquery', 'javascript', 'java', 'java', 'java', 'javascript', 'asp.net', 'javascript', 'android', 'javascript', 'javascript', 'javascript', 'javascript', 'javascript', 'javascript', 'javascript', 'javascript', 'javascript', 'asp.net', 'javascript', 'javascript', 'java', 'jquery', 'javascript', 'javascript', 'javascript', 'javascript', 'javascript', 'javascript', 'javascript', 'javascript', 'c#', 'javascript', 'javascript', 'jquery', 'javascript', 'javascript', 'android', 'java', 'javascript', 'jquery', 'asp.net', 'javascript', 'javascript', 'jquery', 'c#', 'javascript', 'javascript', 'javascript', 'c#', 'javascript', 'asp.net', 'asp.net', 'javascript', 'javascript', 'javascript', 'c#', 'javascript', 'java', 'javascript', 'javascript', 'javascript', 'c#', 'jquery', 'c#', 'javascript', 'javascript', 'javascript', 'asp.net', 'javascript', 'javascript', 'javascript', 'javascript', 'java', 'c#', 'asp.net', 'jquery', 'asp.net', 'javascript', 'javascript', 'java', 'java', 'javascript', 'java', 'javascript', 'jquery', 'javascript', 'c#', 'javascript', 'javascript', 'jquery', 'javascript', 'javascript', 'asp.net', 'javascript', 'javascript', 'asp.net', 'javascript', 'java', 'javascript', 'javascript', 'asp.net', 'android', 'c#', 'c#', 'javascript', 'javascript', 'javascript', 'asp.net', 'javascript', 'java', 'javascript', 'javascript', 'javascript', 'javascript', 'javascript', 'android', 'asp.net', 'javascript', 'asp.net', 'c#', 'javascript', 'android', 'javascript', 'asp.net', 'javascript', 'java', 'javascript', 'c#', 'c#', 'java', 'javascript', 'javascript', 'asp.net', 'jquery', 'java', 'javascript', 'c#', 'javascript', 'jquery', 'javascript', 'javascript', 'javascript', 'javascript', 'javascript', 'c#', 'c#', 'java', 'javascript', 'java', 'javascript', 'javascript', 'asp.net', 'javascript', 'jquery', 'java', 'jquery', 'javascript', 'asp.net', 'asp.net', 'javascript', 'javascript', 'asp.net', 'asp.net', 'javascript', 'javascript', 'javascript', 'javascript', 'javascript', 'asp.net', 'java', 'javascript', 'javascript', 'javascript', 'javascript', 'asp.net', 'jquery', 'javascript', 'javascript', 'javascript', 'javascript', 'php', 'javascript', 'c#', 'javascript', 'javascript', 'asp.net', 'javascript', 'javascript', 'javascript', 'javascript', 'javascript', 'javascript', 'java', 'javascript', 'java', 'android', 'javascript', 'javascript', 'c#', 'asp.net', 'javascript', 'java', 'javascript', 'javascript', 'java', 'javascript', 'javascript', 'javascript', 'javascript', 'java', 'asp.net', 'jquery', 'javascript', 'javascript', 'javascript', 'javascript', 'javascript', 'javascript', 'javascript', 'javascript', 'javascript', 'javascript', 'c#', 'php', 'jquery', 'c#', 'javascript', 'javascript', 'asp.net', 'jquery', 'javascript', 'javascript', 'android', 'android', 'java', 'asp.net', 'java', 'javascript', 'php', 'javascript', 'javascript', 'asp.net', 'javascript', 'javascript', 'asp.net', 'asp.net', 'javascript', 'javascript', 'java', 'javascript', 'javascript', 'c#', 'asp.net', 'javascript', 'javascript', 'javascript', 'c#', 'asp.net', 'asp.net', 'javascript', 'javascript', 'asp.net', 'javascript', 'javascript', 'jquery', 'jquery', 'java', 'asp.net', 'c#', 'php', 'javascript', 'javascript', 'javascript', 'javascript', 'android', 'jquery', 'javascript', 'jquery', 'java', 'java', 'asp.net', 'javascript', 'javascript', 'javascript', 'java', 'jquery', 'javascript', 'javascript', 'java', 'javascript', 'javascript', 'javascript', 'c#', 'java', 'javascript', 'jquery', 'javascript', 'javascript', 'asp.net', 'javascript', 'javascript', 'javascript', 'jquery', 'javascript', 'java', 'javascript', 'c#', 'javascript', 'javascript', 'java', 'android', 'php', 'jquery', 'javascript', 'javascript', 'javascript', 'c#', 'jquery', 'javascript', 'javascript', 'javascript', 'javascript', 'java', 'c#', 'c#', 'javascript', 'javascript', 'javascript', 'javascript', 'java', 'jquery', 'asp.net', 'javascript', 'javascript', 'c#', 'android', 'javascript', 'javascript', 'c#', 'asp.net', 'javascript', 'javascript', 'javascript', 'javascript', 'javascript', 'javascript', 'jquery', 'javascript', 'javascript', 'javascript', 'javascript', 'javascript', 'javascript', 'asp.net', 'c#', 'jquery', 'javascript', 'javascript', 'javascript', 'javascript', 'c#', 'jquery', 'javascript', 'java', 'javascript', 'asp.net', 'javascript', 'javascript', 'javascript', 'javascript', 'javascript', 'asp.net', 'javascript', 'javascript', 'javascript', 'android', 'java', 'javascript', 'c#', 'c#', 'c#', 'javascript', 'asp.net', 'javascript', 'asp.net', 'javascript', 'javascript', 'javascript', 'javascript', 'javascript', 'javascript', 'javascript', 'jquery', 'jquery', 'javascript', 'asp.net', 'java', 'jquery', 'javascript', 'asp.net', 'javascript', 'php', 'javascript', 'java', 'javascript', 'c#', 'c#', 'java', 'javascript', 'c#', 'javascript', 'javascript', 'javascript', 'javascript', 'javascript', 'jquery', 'javascript', 'javascript', 'javascript', 'javascript', 'javascript', 'javascript', 'javascript', 'javascript', 'asp.net', 'javascript', 'java', 'javascript', 'javascript', 'java', 'c#', 'javascript', 'asp.net', 'java', 'javascript', 'javascript', 'javascript', 'javascript', 'php', 'javascript', 'java', 'c#', 'c#', 'java', 'javascript', 'javascript', 'php', 'javascript', 'javascript', 'javascript', 'javascript', 'php', 'c#', 'javascript', 'asp.net', 'javascript', 'javascript', 'javascript', 'javascript', 'javascript', 'javascript', 'javascript', 'java', 'java', 'javascript', 'javascript', 'javascript', 'javascript', 'asp.net', 'php', 'javascript', 'javascript', 'javascript', 'c#', 'c#', 'c#', 'java', 'java', 'javascript', 'javascript', 'javascript', 'c#', 'asp.net', 'javascript', 'c#', 'javascript', 'javascript', 'javascript', 'java', 'asp.net', 'javascript', 'javascript', 'javascript', 'asp.net', 'javascript', 'javascript', 'javascript', 'javascript', 'javascript', 'javascript', 'javascript', 'javascript', 'javascript', 'c#', 'asp.net', 'java', 'php', 'javascript', 'javascript', 'javascript', 'c#', 'javascript', 'java', 'javascript', 'javascript', 'javascript', 'javascript', 'c#', 'jquery', 'java', 'javascript', 'javascript', 'javascript', 'javascript', 'jquery', 'asp.net', 'javascript', 'javascript', 'javascript', 'javascript', 'javascript', 'asp.net', 'javascript', 'android', 'javascript', 'javascript', 'asp.net', 'javascript', 'javascript', 'javascript', 'javascript', 'asp.net', 'java', 'php', 'jquery', 'javascript', 'android', 'php', 'asp.net', 'javascript', 'javascript', 'javascript', 'jquery', 'javascript', 'jquery', 'c#', 'javascript', 'asp.net', 'javascript', 'javascript', 'asp.net', 'javascript', 'javascript', 'jquery', 'javascript', 'javascript', 'java', 'javascript', 'javascript', 'javascript', 'javascript', 'javascript', 'asp.net', 'javascript', 'javascript', 'java', 'javascript', 'java', 'asp.net', 'javascript', 'javascript', 'c#', 'javascript', 'javascript', 'java', 'asp.net', 'javascript', 'javascript', 'java', 'c#', 'c#', 'javascript', 'android', 'javascript', 'javascript', 'javascript', 'java', 'java', 'javascript', 'javascript', 'javascript', 'asp.net', 'javascript', 'javascript', 'javascript', 'javascript', 'javascript', 'jquery', 'javascript', 'android', 'javascript', 'javascript', 'asp.net', 'asp.net', 'javascript', 'javascript', 'javascript', 'javascript', 'javascript', 'javascript', 'java', 'javascript', 'asp.net', 'java', 'javascript', 'asp.net', 'javascript', 'javascript', 'jquery', 'c#', 'javascript', 'javascript', 'javascript', 'javascript', 'javascript', 'asp.net', 'php', 'jquery', 'javascript', 'javascript', 'android', 'c#', 'jquery', 'javascript', 'c#', 'javascript', 'javascript', 'asp.net', 'android', 'jquery', 'jquery', 'javascript', 'javascript', 'javascript', 'c#', 'javascript', 'javascript', 'asp.net', 'javascript', 'javascript', 'javascript', 'javascript', 'javascript', 'c#', 'java', 'javascript', 'javascript', 'asp.net', 'android', 'javascript', 'java', 'javascript', 'javascript', 'javascript', 'javascript', 'c#', 'javascript', 'javascript', 'asp.net', 'java', 'java', 'javascript', 'c#', 'javascript', 'javascript', 'android', 'asp.net', 'javascript', 'javascript', 'javascript', 'javascript', 'javascript', 'javascript', 'jquery', 'javascript', 'javascript', 'javascript', 'javascript', 'android', 'javascript', 'php', 'asp.net', 'javascript', 'jquery', 'javascript', 'asp.net', 'javascript', 'javascript', 'javascript', 'javascript', 'javascript', 'java', 'javascript', 'jquery', 'javascript', 'java', 'javascript', 'java', 'javascript', 'asp.net', 'javascript', 'jquery', 'asp.net', 'c#', 'javascript', 'javascript', 'asp.net', 'jquery', 'javascript', 'javascript', 'javascript', 'javascript', 'javascript', 'javascript', 'c#', 'jquery', 'javascript', 'javascript', 'c#', 'javascript', 'javascript', 'javascript', 'jquery', 'javascript', 'javascript', 'javascript', 'android', 'c#', 'javascript', 'javascript', 'javascript', 'c#', 'javascript', 'java', 'javascript', 'javascript', 'javascript', 'javascript', 'c#', 'asp.net', 'javascript', 'c#', 'javascript', 'javascript', 'jquery', 'c#', 'jquery', 'jquery', 'asp.net', 'javascript', 'javascript', 'javascript', 'javascript', 'javascript', 'javascript', 'java', 'javascript', 'javascript', 'javascript', 'javascript', 'javascript', 'javascript', 'java', 'javascript', 'c#', 'javascript', 'java', 'jquery', 'javascript', 'jquery', 'jquery', 'javascript', 'javascript', 'java', 'javascript', 'javascript', 'javascript', 'asp.net', 'javascript', 'javascript', 'c#', 'javascript', 'javascript', 'javascript', 'javascript', 'jquery', 'javascript', 'java', 'javascript', 'asp.net', 'asp.net', 'asp.net', 'asp.net', 'javascript', 'java', 'javascript', 'javascript', 'javascript', 'java', 'c#', 'c#', 'javascript', 'javascript', 'javascript', 'javascript', 'c#', 'javascript', 'javascript', 'java', 'javascript', 'javascript', 'java', 'java', 'java', 'javascript', 'javascript', 'android', 'javascript', 'asp.net', 'javascript', 'javascript', 'javascript', 'javascript', 'javascript', 'javascript', 'javascript', 'javascript', 'javascript', 'c#', 'c#', 'javascript', 'javascript', 'c#', 'javascript', 'java', 'javascript', 'java', 'javascript', 'java', 'asp.net', 'javascript', 'c#', 'javascript', 'javascript', 'jquery', 'javascript', 'javascript', 'javascript', 'javascript', 'c#', 'java', 'javascript', 'javascript', 'javascript', 'javascript', 'javascript', 'java', 'javascript', 'c#', 'javascript', 'jquery', 'javascript', 'javascript', 'c#', 'jquery', 'c#', 'javascript', 'javascript', 'javascript', 'javascript', 'java', 'javascript', 'javascript', 'javascript', 'javascript', 'c#', 'javascript', 'c#', 'javascript', 'c#', 'javascript', 'asp.net', 'javascript', 'asp.net', 'javascript', 'asp.net', 'javascript', 'javascript', 'javascript', 'javascript', 'javascript', 'jquery', 'java', 'javascript', 'jquery', 'javascript', 'javascript', 'android', 'javascript', 'java', 'javascript', 'asp.net', 'java', 'jquery', 'javascript', 'javascript', 'jquery', 'asp.net', 'jquery', 'android', 'javascript', 'android', 'javascript', 'javascript', 'javascript', 'javascript', 'c#', 'asp.net', 'javascript', 'jquery', 'javascript', 'javascript', 'jquery', 'javascript', 'javascript', 'javascript', 'javascript', 'asp.net', 'c#', 'javascript', 'javascript', 'asp.net', 'javascript', 'java', 'javascript', 'javascript', 'javascript', 'javascript', 'javascript', 'javascript', 'javascript', 'javascript', 'javascript', 'javascript', 'asp.net', 'java', 'javascript', 'java', 'javascript', 'android', 'javascript', 'android', 'javascript', 'asp.net', 'c#', 'javascript', 'java', 'asp.net', 'java', 'javascript', 'javascript', 'c#', 'javascript', 'asp.net', 'java', 'javascript', 'javascript', 'asp.net', 'javascript', 'c#', 'c#', 'java', 'jquery', 'asp.net', 'javascript', 'javascript', 'javascript', 'javascript', 'javascript', 'jquery', 'jquery', 'android', 'javascript', 'java', 'java', 'javascript', 'javascript', 'javascript', 'javascript', 'javascript', 'javascript', 'javascript', 'javascript', 'java', 'javascript', 'jquery', 'jquery', 'java', 'java', 'javascript', 'javascript', 'javascript', 'javascript', 'javascript', 'javascript', 'java', 'javascript', 'php', 'javascript', 'javascript', 'java', 'javascript', 'javascript', 'javascript', 'javascript', 'jquery', 'java', 'javascript', 'javascript', 'javascript', 'javascript', 'javascript', 'java', 'javascript', 'android', 'java', 'c#', 'jquery', 'javascript', 'javascript', 'javascript', 'c#', 'asp.net', 'c#', 'java', 'java', 'javascript', 'javascript', 'php', 'c#', 'javascript', 'android', 'javascript', 'php', 'javascript', 'javascript', 'javascript', 'c#', 'jquery', 'javascript', 'javascript', 'c#', 'asp.net', 'jquery', 'asp.net', 'javascript', 'javascript', 'javascript', 'javascript', 'jquery', 'java', 'javascript', 'javascript', 'javascript', 'javascript', 'javascript', 'javascript', 'javascript', 'javascript', 'javascript', 'c#', 'javascript', 'javascript', 'javascript', 'c#', 'javascript', 'asp.net', 'javascript', 'javascript', 'javascript', 'java', 'c#', 'c#', 'javascript', 'javascript', 'javascript', 'c#', 'javascript', 'c#', 'jquery', 'asp.net', 'javascript', 'javascript', 'asp.net', 'javascript', 'jquery', 'javascript', 'asp.net', 'javascript', 'javascript', 'javascript', 'javascript', 'javascript', 'javascript', 'c#', 'javascript', 'javascript', 'java', 'android', 'php', 'javascript', 'javascript', 'javascript', 'javascript', 'asp.net', 'android', 'asp.net', 'jquery', 'javascript', 'javascript', 'android', 'javascript', 'javascript', 'javascript', 'javascript', 'javascript', 'c#', 'javascript', 'javascript', 'javascript', 'javascript', 'jquery', 'javascript', 'c#', 'c#', 'javascript', 'javascript', 'javascript', 'asp.net', 'asp.net', 'javascript', 'c#', 'android', 'javascript', 'javascript', 'javascript', 'java', 'javascript', 'javascript', 'java', 'asp.net', 'asp.net', 'javascript', 'jquery', 'javascript', 'c#', 'javascript', 'javascript', 'javascript', 'javascript', 'javascript', 'java', 'jquery', 'javascript', 'javascript', 'javascript', 'javascript', 'javascript', 'php', 'android', 'javascript', 'javascript', 'javascript', 'javascript', 'javascript', 'javascript', 'asp.net', 'javascript', 'javascript', 'asp.net', 'android', 'jquery', 'javascript', 'c#', 'asp.net', 'c#', 'asp.net', 'java', 'android', 'javascript', 'c#', 'java', 'jquery', 'javascript', 'javascript', 'javascript', 'c#', 'c#', 'java', 'java', 'asp.net', 'c#', 'javascript', 'javascript', 'javascript', 'java', 'javascript', 'java', 'javascript', 'javascript', 'javascript', 'javascript', 'javascript', 'asp.net', 'asp.net', 'javascript', 'javascript', 'asp.net', 'javascript', 'javascript', 'c#', 'asp.net', 'javascript', 'javascript', 'asp.net', 'javascript', 'javascript', 'javascript', 'javascript', 'java', 'java', 'javascript', 'asp.net', 'javascript', 'javascript', 'javascript', 'java', 'java', 'javascript', 'java', 'c#', 'javascript', 'c#', 'c#', 'asp.net', 'javascript', 'c#', 'java', 'jquery', 'asp.net', 'javascript', 'asp.net', 'javascript', 'jquery', 'javascript', 'c#', 'javascript', 'php', 'c#', 'asp.net', 'asp.net', 'javascript', 'asp.net', 'javascript', 'c#', 'javascript', 'java', 'javascript', 'c#', 'asp.net', 'javascript', 'java', 'javascript', 'c#', 'c#', 'java', 'javascript', 'c#', 'asp.net', 'c#', 'javascript', 'javascript', 'javascript', 'javascript', 'java', 'java', 'php', 'java', 'javascript', 'java', 'javascript', 'javascript', 'javascript', 'javascript', 'javascript', 'javascript', 'java', 'javascript', 'javascript', 'javascript', 'javascript', 'c#', 'c#', 'asp.net', 'java', 'javascript', 'javascript', 'jquery', 'javascript', 'javascript', 'javascript', 'javascript', 'javascript', 'c#', 'jquery', 'javascript', 'asp.net', 'javascript', 'javascript', 'javascript', 'asp.net', 'java', 'javascript', 'javascript', 'javascript', 'javascript', 'javascript', 'javascript', 'javascript', 'javascript', 'asp.net', 'javascript', 'javascript', 'javascript', 'c#', 'asp.net', 'jquery', 'jquery', 'java', 'javascript', 'asp.net', 'c#', 'jquery', 'javascript', 'java', 'javascript', 'javascript', 'javascript', 'javascript', 'c#', 'javascript', 'javascript', 'c#', 'javascript', 'javascript', 'c#', 'javascript', 'javascript', 'javascript', 'java', 'javascript', 'javascript', 'javascript', 'javascript', 'jquery', 'javascript', 'javascript', 'javascript', 'javascript', 'javascript', 'jquery', 'javascript', 'c#', 'javascript', 'javascript', 'javascript', 'javascript', 'java', 'javascript', 'javascript', 'javascript', 'javascript', 'java', 'jquery', 'c#', 'javascript', 'javascript', 'javascript', 'android', 'java', 'javascript', 'java', 'javascript', 'php', 'javascript', 'javascript', 'javascript', 'android', 'javascript', 'javascript', 'jquery', 'javascript', 'javascript', 'asp.net', 'javascript', 'javascript', 'javascript', 'javascript', 'javascript', 'javascript', 'c#', 'javascript', 'javascript', 'javascript', 'javascript', 'javascript', 'javascript', 'javascript', 'javascript', 'javascript', 'android', 'javascript', 'c#', 'javascript', 'asp.net', 'java', 'javascript', 'java', 'c#', 'javascript', 'asp.net', 'javascript', 'javascript', 'javascript', 'asp.net', 'javascript', 'java', 'jquery', 'c#', 'javascript', 'asp.net', 'javascript', 'jquery', 'c#', 'javascript', 'java', 'javascript', 'javascript', 'javascript', 'java', 'javascript', 'c#', 'javascript', 'c#', 'javascript', 'javascript', 'javascript', 'javascript', 'javascript', 'asp.net', 'javascript', 'javascript', 'java', 'javascript', 'javascript', 'jquery', 'java', 'javascript', 'javascript', 'javascript', 'javascript', 'javascript', 'javascript', 'c#', 'javascript', 'jquery', 'javascript', 'jquery', 'javascript', 'javascript', 'c#', 'javascript', 'javascript', 'javascript', 'javascript', 'java', 'java', 'java', 'java', 'javascript', 'javascript', 'javascript', 'javascript', 'javascript', 'javascript', 'javascript', 'asp.net', 'javascript', 'javascript', 'javascript', 'asp.net', 'javascript', 'asp.net', 'c#', 'php', 'javascript', 'javascript', 'jquery', 'javascript', 'java', 'javascript', 'c#', 'javascript', 'c#', 'jquery', 'javascript', 'javascript', 'jquery', 'javascript', 'javascript', 'c#', 'jquery', 'javascript', 'php', 'javascript', 'javascript', 'javascript', 'javascript', 'javascript', 'javascript', 'javascript', 'javascript', 'php', 'java', 'javascript', 'java', 'javascript', 'java', 'javascript', 'java', 'java', 'c#', 'asp.net', 'android', 'java', 'asp.net', 'java', 'javascript', 'javascript', 'javascript', 'asp.net', 'javascript', 'java', 'javascript', 'javascript', 'asp.net', 'java', 'javascript', 'asp.net', 'javascript', 'javascript', 'android', 'javascript', 'asp.net', 'javascript', 'java', 'java', 'javascript', 'javascript', 'php', 'javascript', 'c#', 'javascript', 'c#', 'javascript', 'javascript', 'javascript', 'javascript', 'java', 'jquery', 'jquery', 'javascript', 'javascript', 'asp.net', 'javascript', 'javascript', 'java', 'javascript', 'javascript', 'c#', 'java', 'javascript', 'javascript', 'asp.net', 'asp.net', 'asp.net', 'javascript', 'javascript', 'javascript', 'javascript', 'javascript', 'c#', 'javascript', 'c#', 'jquery', 'jquery', 'asp.net', 'javascript', 'java', 'asp.net', 'asp.net', 'asp.net', 'javascript', 'javascript', 'javascript', 'javascript', 'javascript', 'javascript', 'java', 'javascript', 'asp.net', 'c#', 'java', 'asp.net', 'javascript', 'javascript', 'c#', 'javascript', 'jquery', 'javascript', 'android', 'javascript', 'java', 'asp.net', 'jquery', 'asp.net', 'c#', 'jquery', 'javascript', 'javascript', 'javascript', 'javascript', 'java', 'javascript', 'jquery', 'javascript', 'javascript', 'jquery', 'c#', 'java', 'javascript', 'asp.net', 'javascript', 'javascript', 'javascript', 'jquery', 'javascript', 'javascript', 'javascript', 'asp.net', 'javascript', 'asp.net', 'asp.net', 'java', 'javascript', 'javascript', 'javascript', 'javascript', 'jquery', 'c#', 'java', 'c#', 'javascript', 'javascript', 'asp.net', 'javascript', 'javascript', 'jquery', 'javascript', 'javascript', 'javascript', 'c#', 'c#', 'java', 'javascript', 'c#', 'javascript', 'javascript', 'asp.net', 'asp.net', 'c#', 'javascript', 'javascript', 'javascript', 'c#', 'c#', 'javascript', 'javascript', 'jquery', 'javascript', 'javascript', 'javascript', 'javascript', 'javascript', 'javascript', 'jquery', 'php', 'javascript', 'java', 'javascript', 'c#', 'javascript', 'c#', 'javascript', 'javascript', 'java', 'c#', 'javascript', 'asp.net', 'javascript', 'javascript', 'asp.net', 'java', 'php', 'jquery', 'javascript', 'asp.net', 'android', 'javascript', 'javascript', 'javascript', 'javascript', 'javascript', 'javascript', 'javascript', 'javascript', 'c#', 'asp.net', 'javascript', 'php', 'javascript', 'c#', 'asp.net', 'java', 'javascript', 'javascript', 'javascript', 'java', 'asp.net', 'javascript', 'javascript', 'javascript', 'javascript', 'javascript', 'javascript', 'javascript', 'java', 'javascript', 'javascript', 'javascript', 'javascript', 'c#', 'javascript', 'java', 'javascript', 'javascript', 'asp.net', 'java', 'javascript', 'asp.net', 'jquery', 'jquery', 'javascript', 'javascript', 'javascript', 'javascript', 'asp.net', 'asp.net', 'javascript', 'javascript', 'javascript', 'c#', 'jquery', 'javascript', 'c#', 'javascript', 'javascript', 'c#', 'javascript', 'javascript', 'java', 'javascript', 'javascript', 'javascript', 'java', 'asp.net', 'javascript', 'javascript', 'jquery', 'javascript', 'javascript', 'javascript', 'c#', 'javascript', 'javascript', 'javascript', 'c#', 'java', 'c#', 'javascript', 'javascript', 'javascript', 'javascript', 'javascript', 'javascript', 'javascript', 'asp.net', 'javascript', 'javascript', 'javascript', 'javascript', 'javascript', 'javascript', 'android', 'asp.net', 'javascript', 'javascript', 'javascript', 'javascript', 'javascript', 'java', 'javascript', 'jquery', 'javascript', 'javascript', 'jquery', 'java', 'php', 'c#', 'javascript', 'javascript', 'javascript', 'javascript', 'javascript', 'javascript', 'javascript', 'javascript', 'javascript', 'android', 'javascript', 'c#', 'asp.net', 'jquery', 'javascript', 'jquery', 'android', 'javascript', 'javascript', 'asp.net', 'javascript', 'javascript', 'javascript', 'javascript', 'jquery', 'javascript', 'javascript', 'android', 'javascript', 'c#', 'javascript', 'javascript', 'javascript', 'javascript', 'javascript', 'javascript', 'javascript', 'java', 'javascript', 'javascript', 'javascript', 'jquery', 'javascript', 'javascript', 'asp.net', 'javascript', 'javascript', 'javascript', 'javascript', 'asp.net', 'jquery', 'javascript', 'javascript', 'asp.net', 'c#', 'javascript', 'javascript', 'asp.net', 'javascript', 'javascript', 'javascript', 'javascript', 'javascript', 'javascript', 'javascript', 'asp.net', 'javascript', 'java', 'javascript', 'asp.net', 'c#', 'jquery', 'javascript', 'java', 'jquery', 'java', 'javascript', 'javascript', 'javascript', 'java', 'javascript', 'javascript', 'javascript', 'javascript', 'javascript', 'android', 'javascript', 'javascript', 'android', 'javascript', 'javascript', 'javascript', 'javascript', 'javascript', 'asp.net', 'jquery', 'javascript', 'javascript', 'javascript', 'javascript', 'javascript', 'javascript', 'asp.net', 'javascript', 'javascript', 'javascript', 'javascript', 'c#', 'javascript', 'javascript', 'javascript', 'javascript', 'javascript', 'javascript', 'javascript', 'c#', 'javascript', 'javascript', 'java', 'asp.net', 'javascript', 'javascript', 'javascript', 'asp.net', 'javascript', 'javascript', 'javascript', 'javascript', 'java', 'javascript', 'javascript', 'javascript', 'asp.net', 'javascript', 'javascript', 'asp.net', 'javascript', 'javascript', 'javascript', 'javascript', 'javascript', 'android', 'javascript', 'javascript', 'java', 'javascript', 'javascript', 'javascript', 'c#', 'c#', 'c#', 'jquery', 'javascript', 'javascript', 'javascript', 'javascript', 'c#', 'jquery', 'java', 'javascript', 'java', 'javascript', 'jquery', 'javascript', 'javascript', 'javascript', 'javascript', 'asp.net', 'jquery', 'javascript', 'javascript', 'javascript', 'asp.net', 'javascript', 'javascript', 'java', 'c#', 'javascript', 'php', 'javascript', 'android', 'javascript', 'asp.net', 'javascript', 'javascript', 'javascript', 'javascript', 'jquery', 'javascript', 'jquery', 'jquery', 'asp.net', 'javascript', 'c#', 'javascript', 'asp.net', 'javascript', 'javascript', 'javascript', 'javascript', 'javascript', 'javascript', 'java', 'javascript', 'java', 'asp.net', 'javascript', 'asp.net', 'javascript', 'javascript', 'javascript', 'jquery', 'asp.net', 'asp.net', 'javascript', 'javascript', 'javascript', 'c#', 'javascript', 'javascript', 'c#', 'javascript', 'javascript', 'java', 'java', 'c#', 'javascript', 'c#', 'jquery', 'javascript', 'javascript', 'jquery', 'javascript', 'javascript', 'javascript', 'javascript', 'c#', 'javascript', 'javascript', 'asp.net', 'android', 'javascript', 'javascript', 'javascript', 'jquery', 'javascript', 'javascript', 'asp.net', 'javascript', 'javascript', 'javascript', 'javascript', 'javascript', 'javascript', 'javascript', 'javascript', 'javascript', 'c#', 'javascript', 'javascript', 'javascript', 'asp.net', 'javascript', 'javascript', 'asp.net', 'asp.net', 'c#', 'javascript', 'asp.net', 'javascript', 'javascript', 'asp.net', 'php', 'javascript', 'javascript', 'javascript', 'asp.net', 'asp.net', 'javascript', 'javascript', 'asp.net', 'android', 'javascript', 'asp.net', 'javascript', 'jquery', 'javascript', 'javascript', 'javascript', 'javascript', 'jquery', 'c#', 'php', 'c#', 'jquery', 'java', 'javascript', 'javascript', 'jquery', 'javascript', 'javascript', 'javascript', 'javascript', 'javascript', 'jquery', 'c#', 'javascript', 'javascript', 'java', 'php', 'java', 'javascript', 'javascript', 'javascript', 'java', 'asp.net', 'jquery', 'javascript', 'asp.net', 'java', 'jquery', 'java', 'javascript', 'javascript', 'jquery', 'c#', 'asp.net', 'javascript', 'javascript', 'javascript', 'asp.net', 'javascript', 'asp.net', 'android', 'java', 'asp.net', 'java', 'javascript', 'c#', 'javascript', 'javascript', 'jquery', 'javascript', 'c#', 'javascript', 'php', 'javascript', 'asp.net', 'c#', 'jquery', 'asp.net', 'javascript', 'android', 'javascript', 'jquery', 'java', 'javascript', 'c#', 'javascript', 'javascript', 'javascript', 'javascript', 'javascript', 'javascript', 'c#', 'javascript', 'android', 'javascript', 'javascript', 'javascript', 'javascript', 'javascript', 'javascript', 'java', 'javascript', 'javascript', 'javascript', 'javascript', 'javascript', 'javascript', 'asp.net', 'asp.net', 'javascript', 'javascript', 'javascript', 'javascript', 'c#', 'java', 'javascript', 'javascript', 'javascript', 'javascript', 'java', 'javascript', 'javascript', 'javascript', 'asp.net', 'javascript', 'c#', 'asp.net', 'javascript', 'asp.net', 'javascript', 'javascript', 'c#', 'javascript', 'javascript', 'javascript', 'java', 'javascript', 'javascript', 'c#', 'asp.net', 'javascript', 'jquery', 'c#', 'javascript', 'java', 'javascript', 'php', 'php', 'c#', 'javascript', 'c#', 'java', 'javascript', 'java', 'javascript', 'javascript', 'c#', 'javascript', 'javascript', 'javascript', 'javascript', 'java', 'c#', 'java', 'javascript', 'javascript', 'c#', 'asp.net', 'php', 'javascript', 'php', 'jquery', 'javascript', 'jquery', 'javascript', 'javascript', 'c#', 'java', 'javascript', 'javascript', 'c#', 'jquery', 'asp.net', 'javascript', 'javascript', 'jquery', 'java', 'javascript', 'javascript', 'javascript', 'javascript', 'jquery', 'javascript', 'javascript', 'javascript', 'asp.net', 'javascript', 'c#', 'javascript', 'javascript', 'javascript', 'javascript', 'javascript', 'asp.net', 'c#', 'javascript', 'c#', 'jquery', 'javascript', 'javascript', 'javascript', 'javascript', 'javascript', 'jquery', 'javascript', 'javascript', 'javascript', 'java', 'php', 'c#', 'jquery', 'java', 'javascript', 'javascript', 'java', 'javascript', 'javascript', 'javascript', 'javascript', 'javascript', 'c#', 'javascript', 'jquery', 'asp.net', 'javascript', 'javascript', 'c#', 'javascript', 'javascript', 'c#', 'c#', 'javascript', 'c#', 'javascript', 'jquery', 'c#', 'javascript', 'javascript', 'java', 'java', 'asp.net', 'javascript', 'javascript', 'javascript', 'javascript', 'javascript', 'php', 'c#', 'c#', 'asp.net', 'javascript', 'javascript', 'asp.net', 'jquery', 'javascript', 'java', 'javascript', 'android', 'jquery', 'c#', 'javascript', 'javascript', 'c#', 'javascript', 'java', 'javascript', 'php', 'javascript', 'javascript', 'javascript', 'javascript', 'javascript', 'javascript', 'javascript', 'javascript', 'javascript', 'jquery', 'jquery', 'asp.net', 'jquery', 'asp.net', 'javascript', 'php', 'javascript', 'javascript', 'jquery', 'javascript', 'javascript', 'javascript', 'javascript', 'java', 'asp.net', 'javascript', 'javascript', 'php', 'javascript', 'javascript', 'javascript', 'c#', 'javascript', 'c#', 'jquery', 'javascript', 'c#', 'c#', 'c#', 'javascript', 'java', 'javascript', 'javascript', 'jquery', 'javascript', 'c#', 'javascript', 'javascript', 'javascript', 'javascript', 'jquery', 'jquery', 'javascript', 'jquery', 'javascript', 'javascript', 'asp.net', 'javascript', 'javascript', 'javascript', 'android', 'c#', 'javascript', 'javascript', 'asp.net', 'javascript', 'jquery', 'javascript', 'c#', 'javascript', 'javascript', 'jquery', 'jquery', 'javascript', 'javascript', 'javascript', 'javascript', 'android', 'java', 'java', 'javascript', 'javascript', 'javascript', 'java', 'c#', 'asp.net', 'javascript', 'javascript', 'asp.net', 'javascript', 'javascript']\n"
          ]
        }
      ]
    }
  ]
}